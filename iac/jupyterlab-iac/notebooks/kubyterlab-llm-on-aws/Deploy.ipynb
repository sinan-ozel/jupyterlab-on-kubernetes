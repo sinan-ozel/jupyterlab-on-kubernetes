{
 "cells": [
  {
   "cell_type": "markdown",
   "id": "d02ca0b4-1c4a-4b8e-a7a9-8fe3c9ba40b1",
   "metadata": {},
   "source": [
    "# Import"
   ]
  },
  {
   "cell_type": "code",
   "execution_count": 1,
   "id": "38534870-6679-40ae-bcf1-f778377e5998",
   "metadata": {},
   "outputs": [],
   "source": [
    "import os\n",
    "from time import sleep\n",
    "from time import time as unixtime\n",
    "from typing import Callable, List\n",
    "import random\n",
    "from math import ceil\n",
    "import yaml\n",
    "import string\n",
    "import json\n",
    "from urllib.parse import urlparse\n",
    "from time import sleep\n",
    "import re\n",
    "from operator import itemgetter\n",
    "import subprocess\n",
    "from tempfile import NamedTemporaryFile\n",
    "\n",
    "from dotenv import load_dotenv\n",
    "from IPython.display import display, clear_output\n",
    "\n",
    "import boto3\n",
    "import kubernetes\n",
    "from kubernetes.client.rest import ApiException\n",
    "\n",
    "from pyhelm3 import Client as HelmClient\n"
   ]
  },
  {
   "cell_type": "code",
   "execution_count": 2,
   "id": "6a98f1d3-e2b6-4c0a-ad3d-c07f5416d684",
   "metadata": {},
   "outputs": [
    {
     "data": {
      "text/plain": [
       "True"
      ]
     },
     "execution_count": 2,
     "metadata": {},
     "output_type": "execute_result"
    }
   ],
   "source": [
    "load_dotenv('/.env')"
   ]
  },
  {
   "cell_type": "code",
   "execution_count": 3,
   "id": "08774840-c227-48d4-844c-165c6f5dc8d8",
   "metadata": {},
   "outputs": [],
   "source": [
    "from helper import wait_until\n",
    "from helper.ec2 import (get_vpcs_ids, get_internet_gateway_ids_attached_to_vpc, \n",
    "                        get_route_table_ids_for_vpc, route_to_gateway_exists, \n",
    "                        get_subnet_ids_in_vpc, get_security_group_ids)\n",
    "from helper.k8s import (get_one_running_pod, get_jupyter_token_from_pod)"
   ]
  },
  {
   "cell_type": "markdown",
   "id": "e1800b74-d019-445d-942e-7223e770f332",
   "metadata": {},
   "source": [
    "# Define"
   ]
  },
  {
   "cell_type": "code",
   "execution_count": 4,
   "id": "b3b9f759-4820-40ad-8916-e935d6e57232",
   "metadata": {},
   "outputs": [],
   "source": [
    "REGION = 'ca-central-1'\n",
    "CLUSTER_NAME = 'kubyterlab-llm'\n",
    "EBS_VOLUME_SIZE = 250 # GiB\n",
    "TAGS = {'cluster': CLUSTER_NAME, 'purpose': 'llm'}  # Do not change the keys, they are hardcoded throughout.\n",
    "CLUSTER_TAGS = {'cluster': CLUSTER_NAME}\n",
    "CLUSTER_FILTERS = [{'Name': f'tag:{k}', 'Values': [CLUSTER_TAGS[k]]} for k in CLUSTER_TAGS]\n",
    "K8S_VERSION = os.environ['K8S_VERSION']  # '1.30'\n",
    "K8S_VERSION = '.'.join(K8S_VERSION.split('.')[:2]) if len(K8S_VERSION.split('.')) > 2 else K8S_VERSION\n",
    "INSTANCE_TYPES = {'gpu': ['g4dn.2xlarge'], 'default': ['t3.medium']}\n",
    "ALLOWED_PORTS = [8888]"
   ]
  },
  {
   "cell_type": "code",
   "execution_count": 5,
   "id": "4d859c1f-c31c-43b5-9a3a-fa9ed0ae7006",
   "metadata": {},
   "outputs": [],
   "source": [
    "def check_all_vpcs_available(response: dict) -> True:\n",
    "    if not 'Vpcs' in response:\n",
    "        raise ValueError\n",
    "    return all([vpc.get('State', '') == 'available' for vpc in response['Vpcs']])"
   ]
  },
  {
   "cell_type": "code",
   "execution_count": 6,
   "id": "70ff5d92-c3be-4255-9d40-afea872ff121",
   "metadata": {},
   "outputs": [],
   "source": [
    "def is_cluster_active(response: dict) -> bool:\n",
    "    status = response['cluster']['status']\n",
    "    clear_output(wait=True)\n",
    "    display(status)\n",
    "    return status == 'ACTIVE'\n"
   ]
  },
  {
   "cell_type": "code",
   "execution_count": 7,
   "id": "c8983294-0e11-457c-abb6-2ec996243d03",
   "metadata": {},
   "outputs": [],
   "source": [
    "def is_node_group_active(response: dict) -> bool:\n",
    "    status = response['nodegroup']['status']\n",
    "    clear_output(wait=True)\n",
    "    display(status)\n",
    "    return status in ['ACTIVE', 'CREATE_FAILED']\n"
   ]
  },
  {
   "cell_type": "code",
   "execution_count": 8,
   "id": "9938e8cf-fc3a-42f8-819b-7748181fffc8",
   "metadata": {},
   "outputs": [],
   "source": [
    "def is_snapshot_completed(response: dict) -> bool:\n",
    "    state = response['Snapshots'][0]['State']\n",
    "    clear_output(wait=True)\n",
    "    display(state)\n",
    "    return state.lower() == 'completed'\n"
   ]
  },
  {
   "cell_type": "code",
   "execution_count": 9,
   "id": "5f79a307-fbfa-4d1e-9d75-9f77405a7dcd",
   "metadata": {},
   "outputs": [],
   "source": [
    "def is_volume_available(response: dict) -> bool:\n",
    "    state = response['Volumes'][0]['State']\n",
    "    clear_output(wait=True)\n",
    "    display(state)\n",
    "    return state.lower() == 'available'\n"
   ]
  },
  {
   "cell_type": "markdown",
   "id": "d73ff831-37b6-4fbf-9aad-1068cfb8efe7",
   "metadata": {},
   "source": [
    "# Instantiate"
   ]
  },
  {
   "cell_type": "code",
   "execution_count": 10,
   "id": "97c98c25-b95b-40da-be00-f65f5952d5ef",
   "metadata": {},
   "outputs": [],
   "source": [
    "session = boto3.Session(region_name=REGION)\n",
    "eks_client = session.client('eks')\n",
    "ec2_client = session.client('ec2')\n",
    "iam_client = session.client('iam')\n",
    "\n",
    "aws_account_id = boto3.client('sts').get_caller_identity().get('Account')"
   ]
  },
  {
   "cell_type": "markdown",
   "id": "5fbf7c2f-2e86-48c9-b369-1047bd8fea6c",
   "metadata": {},
   "source": [
    "# Create or Restore Volume"
   ]
  },
  {
   "cell_type": "code",
   "execution_count": 11,
   "id": "bf65cde1-f0ad-4b9a-9c91-49c20d09b2f6",
   "metadata": {},
   "outputs": [],
   "source": [
    "response = ec2_client.describe_snapshots(Filters=CLUSTER_FILTERS)\n",
    "snapshots = response.get('Snapshots', [])\n",
    "sorted_snapshots = sorted(snapshots, key=itemgetter('StartTime'), reverse=True)\n",
    "if sorted_snapshots:\n",
    "    snapshot_id = sorted_snapshots[0]['SnapshotId']"
   ]
  },
  {
   "cell_type": "code",
   "execution_count": 12,
   "id": "e5d85302-63d3-4ef2-a07e-bd59dc564768",
   "metadata": {},
   "outputs": [
    {
     "data": {
      "text/plain": [
       "'available'"
      ]
     },
     "metadata": {},
     "output_type": "display_data"
    },
    {
     "data": {
      "text/plain": [
       "('vol-0e0bf7e648784d088', 'ca-central-1a')"
      ]
     },
     "execution_count": 12,
     "metadata": {},
     "output_type": "execute_result"
    }
   ],
   "source": [
    "response = ec2_client.describe_availability_zones()\n",
    "availability_zones = response['AvailabilityZones']\n",
    "availability_zone = availability_zones[0]['ZoneName']\n",
    "# availability_zone = f'{REGION}a'\n",
    "if snapshots:\n",
    "    # TODO: Change this to the latest snapshot!!\n",
    "    response = ec2_client.create_volume(\n",
    "        SnapshotId=snapshot_id,\n",
    "        Size=EBS_VOLUME_SIZE,\n",
    "        AvailabilityZone=availability_zone,\n",
    "        VolumeType='gp3',\n",
    "        TagSpecifications=[\n",
    "            {\n",
    "                'ResourceType': 'volume',\n",
    "                'Tags': [{'Key': k, 'Value': TAGS[k]} for k in TAGS]\n",
    "            }\n",
    "        ]\n",
    "    )\n",
    "else:\n",
    "    response = ec2_client.create_volume(\n",
    "        Size=EBS_VOLUME_SIZE,\n",
    "        AvailabilityZone=availability_zones[0]['ZoneName'],\n",
    "        VolumeType='gp3',\n",
    "        TagSpecifications=[\n",
    "            {\n",
    "                'ResourceType': 'volume',\n",
    "                'Tags': [{'Key': k, 'Value': TAGS[k]} for k in TAGS]\n",
    "            }\n",
    "        ]\n",
    "    )\n",
    "wait_until(ec2_client.describe_volumes, {'VolumeIds': [response['VolumeId']]}, is_volume_available)\n",
    "volume_id = response['VolumeId']\n",
    "volume_id, availability_zone"
   ]
  },
  {
   "cell_type": "markdown",
   "id": "cbda3f9d-a108-48f4-8411-f7dd2e0e1f43",
   "metadata": {},
   "source": [
    "# Create VPC"
   ]
  },
  {
   "cell_type": "code",
   "execution_count": 13,
   "id": "429b8e60-e14a-460b-a448-45bc392e6c12",
   "metadata": {},
   "outputs": [
    {
     "data": {
      "text/plain": [
       "('vpc-0419f02a0484cb483', 'igw-087eb4151f5eb452a', 'rtb-0154ac0bdb8ed0edf')"
      ]
     },
     "execution_count": 13,
     "metadata": {},
     "output_type": "execute_result"
    }
   ],
   "source": [
    "vpc_ids = get_vpcs_ids(ec2_client, TAGS)\n",
    "vpc_exists = len(vpc_ids) > 0\n",
    "\n",
    "if len(vpc_ids) > 1:\n",
    "    raise RuntimeError\n",
    "elif vpc_exists:\n",
    "    vpc_id = vpc_ids[0]\n",
    "\n",
    "# Create VPC\n",
    "if not vpc_exists:\n",
    "    print('Creating VPC...')\n",
    "    vpc_response = ec2_client.create_vpc(\n",
    "        CidrBlock='10.0.0.0/16',\n",
    "        TagSpecifications=[\n",
    "            {\n",
    "                'ResourceType': 'vpc',\n",
    "                'Tags': [{'Key': tag, 'Value': TAGS[tag] }for tag in TAGS]\n",
    "            }\n",
    "        ]\n",
    "    )\n",
    "    vpc_id = vpc_response['Vpc']['VpcId']\n",
    "wait_until(ec2_client.describe_vpcs, {'VpcIds': [vpc_id]}, check_all_vpcs_available)\n",
    "\n",
    "# Create Internet Gateway\n",
    "igw_ids = get_internet_gateway_ids_attached_to_vpc(ec2_client, vpc_id)\n",
    "igw_exists = len(igw_ids) > 0\n",
    "\n",
    "if len(igw_ids) > 1:\n",
    "    raise RuntimeError\n",
    "elif igw_exists:\n",
    "    igw_id = igw_ids[0]\n",
    "\n",
    "\n",
    "if not igw_exists:\n",
    "    print('Creating Internet Gateway...')\n",
    "    # Create an Internet Gateway\n",
    "    igw_response = ec2_client.create_internet_gateway()\n",
    "    igw_id = igw_response['InternetGateway']['InternetGatewayId']\n",
    "    \n",
    "    # Attach Internet Gateway to VPC\n",
    "    ec2_client.attach_internet_gateway(\n",
    "        InternetGatewayId=igw_id,\n",
    "        VpcId=vpc_id\n",
    "    )\n",
    "\n",
    "# Create a route table\n",
    "route_table_ids = get_route_table_ids_for_vpc(ec2_client, vpc_id)\n",
    "route_table_exists = len(route_table_ids) > 0\n",
    "\n",
    "if not route_table_exists:\n",
    "    print('Creating a route table...')\n",
    "    # Create a route table\n",
    "    route_table_response = ec2_client.create_route_table(VpcId=vpc_id)\n",
    "    route_table_id = route_table_response['RouteTable']['RouteTableId']\n",
    "\n",
    "is_route_created = False\n",
    "for route_table_id in route_table_ids:\n",
    "    if route_to_gateway_exists(ec2_client, route_table_id, igw_id):\n",
    "        is_route_created = True\n",
    "        break\n",
    "\n",
    "if not is_route_created:\n",
    "    # Create a route to the Internet Gateway\n",
    "    ec2_client.create_route(\n",
    "        RouteTableId=route_table_id,\n",
    "        DestinationCidrBlock='0.0.0.0/0',\n",
    "        GatewayId=igw_id\n",
    "    )\n",
    "\n",
    "vpc_id, igw_id, route_table_id"
   ]
  },
  {
   "cell_type": "markdown",
   "id": "2fbfdb24-1435-47bb-8293-b87b9d4075b7",
   "metadata": {},
   "source": [
    "# Create Subnets"
   ]
  },
  {
   "cell_type": "code",
   "execution_count": 14,
   "id": "4b32166a-ce50-45f6-aac3-3f809836f103",
   "metadata": {},
   "outputs": [],
   "source": [
    "subnet_ids = get_subnet_ids_in_vpc(ec2_client, vpc_id)\n",
    "min_subnet_count = 2\n",
    "current_subnet_count = len(subnet_ids)\n",
    "\n",
    "# if current_subnet_count < min_subnet_count:\n",
    "    # response = ec2_client.describe_availability_zones()\n",
    "    \n",
    "    # availability_zones = [az['ZoneName'] for az in response['AvailabilityZones']]\n",
    "    # random.shuffle(availability_zones)\n",
    "    # TODO: Following logic is still necessary for situations with larger subnets. Change to something reasonable.\n",
    "    # availability_zones *= ceil(min_subnet_count / len(availability_zones))\n",
    "    \n",
    "\n",
    "while current_subnet_count < min_subnet_count:\n",
    "    i = current_subnet_count + 1\n",
    "    print(f'Creating subnet #{i}...')\n",
    "    subnet_response = ec2_client.create_subnet(\n",
    "        VpcId=vpc_id,\n",
    "        CidrBlock=f'10.0.{i}.0/24',\n",
    "        # AvailabilityZone=availability_zone,\n",
    "        AvailabilityZone=availability_zones[current_subnet_count]['ZoneName'],\n",
    "        TagSpecifications=[\n",
    "            {\n",
    "                'ResourceType': 'subnet',\n",
    "                'Tags': [{'Key': tag, 'Value': TAGS[tag]} for tag in TAGS]\n",
    "            }\n",
    "        ]\n",
    "    )\n",
    "    subnet_id = subnet_response['Subnet']['SubnetId']\n",
    "    subnet_ids.append(subnet_id)\n",
    "    current_subnet_count = len(subnet_ids)\n",
    "\n",
    "# check if any subnet is public, add the table to first subnet if not"
   ]
  },
  {
   "cell_type": "code",
   "execution_count": 15,
   "id": "c837c746-05e1-432f-8619-e3c0581650f3",
   "metadata": {},
   "outputs": [],
   "source": [
    "subnets_response = ec2_client.describe_subnets(SubnetIds=subnet_ids)\n",
    "assert len(subnets_response) == len(subnet_ids) == min_subnet_count\n",
    "is_any_subnet_open_to_public = False\n",
    "for subnet in subnets_response['Subnets']:\n",
    "    if subnets_response.get('MapPublicIpOnLaunch', False):\n",
    "        # I could also look at the route tables, and see if they are assigned to any subnet. ec2_client.describe_route_tables(RouteTableIds=[route_table_id]) RouteTables.SubnetId (optional parameter)\n",
    "        public_subnet_id = subnet['SubnetId']\n",
    "        is_any_subnet_open_to_public = True\n",
    "\n",
    "if not is_any_subnet_open_to_public:\n",
    "    for subnet in subnets_response['Subnets']:\n",
    "        if subnet['CidrBlock'] == '10.0.1.0/24':\n",
    "            public_subnet_id = subnet['SubnetId']\n",
    "\n",
    "            # Associate the public subnet with the route table\n",
    "            ec2_client.associate_route_table(\n",
    "                RouteTableId=route_table_id,\n",
    "                SubnetId=public_subnet_id\n",
    "            )\n",
    "            \n",
    "            # Modify the public subnet to auto-assign public IPs\n",
    "            ec2_client.modify_subnet_attribute(\n",
    "                SubnetId=public_subnet_id,\n",
    "                MapPublicIpOnLaunch={\"Value\": True}\n",
    "            )\n",
    "            break\n",
    "            "
   ]
  },
  {
   "cell_type": "markdown",
   "id": "f95af95c-f3a4-46d3-b5f8-b7d953eda3a9",
   "metadata": {},
   "source": [
    "# Create Security Group"
   ]
  },
  {
   "cell_type": "code",
   "execution_count": 16,
   "id": "bf11870e-3dee-4564-9c82-c78a0262ce77",
   "metadata": {},
   "outputs": [
    {
     "data": {
      "text/plain": [
       "'sg-0ac123356d4636f84'"
      ]
     },
     "execution_count": 16,
     "metadata": {},
     "output_type": "execute_result"
    }
   ],
   "source": [
    "security_group_ids = get_security_group_ids(ec2_client, TAGS)\n",
    "\n",
    "security_group_exists = len(security_group_ids) > 0\n",
    "\n",
    "if len(security_group_ids) > 1:\n",
    "    raise RuntimeError\n",
    "elif security_group_exists:\n",
    "    security_group_id = security_group_ids[0]\n",
    "\n",
    "# The security group gets torn down when deleted, so there is no need to check the rules and rewrite all of them.\n",
    "\n",
    "if not security_group_exists:\n",
    "    print('Creating Security Group...')\n",
    "    response = ec2_client.create_security_group(\n",
    "        GroupName=f'eks-cluster-sg-{CLUSTER_NAME}',\n",
    "        TagSpecifications=[\n",
    "            {\n",
    "                'ResourceType': 'security-group', \n",
    "                'Tags': [{'Key': tag, 'Value': TAGS[tag]} for tag in TAGS]\n",
    "            }\n",
    "        ],\n",
    "        Description=f'Security group for EKS cluster: {CLUSTER_NAME}',\n",
    "        VpcId=vpc_id\n",
    "    )\n",
    "    security_group_id = response['GroupId']\n",
    "\n",
    "    # TODO: Can I make the CidrIp more restrictive for the next deployment? Load Balancer needs to have a static IP, probably through the Kubernetes YAML?\n",
    "    for port in ALLOWED_PORTS:\n",
    "        ec2_client.authorize_security_group_ingress(\n",
    "            GroupId=security_group_id,\n",
    "            IpPermissions=[\n",
    "                {\n",
    "                    'IpProtocol': 'tcp',\n",
    "                    'FromPort': port,\n",
    "                    'ToPort': port,\n",
    "                    'IpRanges': [{'CidrIp': '0.0.0.0/0'}]\n",
    "                }\n",
    "            ]\n",
    "        )\n",
    "    \n",
    "security_group_id"
   ]
  },
  {
   "cell_type": "code",
   "execution_count": 17,
   "id": "6a6e50f1-8540-4dcf-9aa6-46c0fd668aea",
   "metadata": {},
   "outputs": [
    {
     "data": {
      "text/plain": [
       "('vol-0e0bf7e648784d088',\n",
       " 'vpc-0419f02a0484cb483',\n",
       " 'igw-087eb4151f5eb452a',\n",
       " 'rtb-0154ac0bdb8ed0edf',\n",
       " 'subnet-073b2b3de5ca9573c',\n",
       " ['subnet-00522931073be3e38', 'subnet-073b2b3de5ca9573c'],\n",
       " 'sg-0ac123356d4636f84')"
      ]
     },
     "execution_count": 17,
     "metadata": {},
     "output_type": "execute_result"
    }
   ],
   "source": [
    "volume_id, vpc_id, igw_id, route_table_id, public_subnet_id, subnet_ids, security_group_id"
   ]
  },
  {
   "cell_type": "markdown",
   "id": "db5e3e6a-1650-4a59-91b7-bff33b937a52",
   "metadata": {},
   "source": [
    "# Create Cluster"
   ]
  },
  {
   "cell_type": "code",
   "execution_count": 18,
   "id": "e5e5fec8-eea5-4ef7-806c-4bdea1f61845",
   "metadata": {},
   "outputs": [
    {
     "data": {
      "text/plain": [
       "'ACTIVE'"
      ]
     },
     "metadata": {},
     "output_type": "display_data"
    }
   ],
   "source": [
    "tear_down_and_rebuild = False\n",
    "response = eks_client.list_clusters()\n",
    "clusters = response['clusters']\n",
    "if CLUSTER_NAME not in clusters:\n",
    "    eks_client.create_cluster(name=CLUSTER_NAME, \n",
    "                              version=K8S_VERSION, \n",
    "                              roleArn=f'arn:aws:iam::{aws_account_id}:role/EKS_Cluster_Role', \n",
    "                              resourcesVpcConfig={'subnetIds': subnet_ids,\n",
    "                                                  'securityGroupIds': [security_group_id],\n",
    "                                                  'endpointPublicAccess': True,\n",
    "                                                  'endpointPrivateAccess': False\n",
    "                              },\n",
    "                              tags=TAGS,\n",
    "                             )\n",
    "else:\n",
    "    if tear_down_and_rebuild:\n",
    "        pass\n",
    "        # TODO: Create a new cluster with a temp name.\n",
    "        # Wait until the cluster has finished forming\n",
    "        # Delete the old cluster\n",
    "        # Wait until deletion is complete\n",
    "        # Rename the new cluster\n",
    "        \n",
    "wait_until(eks_client.describe_cluster, {'name': CLUSTER_NAME}, is_cluster_active, timeout=7 * 60)\n",
    "response = eks_client.describe_cluster(name=CLUSTER_NAME)\n",
    "assert response['cluster']['status'] == 'ACTIVE'"
   ]
  },
  {
   "cell_type": "markdown",
   "id": "cb7a812b-4a62-4b3b-a88e-90b0db82a194",
   "metadata": {},
   "source": [
    "# Create IAM Role for Node Groups"
   ]
  },
  {
   "cell_type": "code",
   "execution_count": 19,
   "id": "49bcf925-9e7a-47af-9d1a-d160959148cb",
   "metadata": {},
   "outputs": [
    {
     "name": "stdout",
     "output_type": "stream",
     "text": [
      "Role EKS_Cluster_Role already exists. Arn: arn:aws:iam::275678099358:role/EKS_Cluster_Role.\n",
      "Attached policy AmazonEKSWorkerNodePolicy to role EKS_Cluster_Role.\n",
      "Attached policy AmazonEC2ContainerRegistryReadOnly to role EKS_Cluster_Role.\n",
      "Attached policy AmazonEKS_CNI_Policy to role EKS_Cluster_Role.\n",
      "Attached policy AmazonEKSClusterPolicy to role EKS_Cluster_Role.\n"
     ]
    }
   ],
   "source": [
    "# Define the role name\n",
    "role_name = 'EKS_Cluster_Role'  # WARNING: I get a weird error if I call this role anything else. The call looks for this particular name, and I do not know how to override it.\n",
    "\n",
    "# Create the trust policy for the role\n",
    "trust_policy = {\n",
    "    \"Version\": \"2012-10-17\",\n",
    "    \"Statement\": [\n",
    "        {\n",
    "            \"Effect\": \"Allow\",\n",
    "            \"Principal\": {\n",
    "                \"Service\": [\n",
    "                    \"eks.amazonaws.com\",\n",
    "                    \"ec2.amazonaws.com\"\n",
    "                ]\n",
    "            },\n",
    "            \"Action\": \"sts:AssumeRole\"\n",
    "        }\n",
    "    ]\n",
    "}\n",
    "\n",
    "# Create the IAM role\n",
    "try:\n",
    "    response = iam_client.create_role(\n",
    "        RoleName=role_name,\n",
    "        AssumeRolePolicyDocument=json.dumps(trust_policy),\n",
    "        Description='Role for EKS Node Group'\n",
    "    )\n",
    "    node_role_arn = response['Role']['Arn']\n",
    "    print(f\"Created role: {node_role_arn}\")\n",
    "except iam_client.exceptions.EntityAlreadyExistsException:\n",
    "    response = iam_client.get_role(RoleName=role_name)\n",
    "    node_role_arn = response['Role']['Arn']\n",
    "    print(f\"Role {role_name} already exists. Arn: {node_role_arn}.\")\n",
    "    # TODO: Check if trust_policy is correct.\n",
    "\n",
    "# Attach necessary policies\n",
    "policies = [\n",
    "    'AmazonEKSWorkerNodePolicy',\n",
    "    'AmazonEC2ContainerRegistryReadOnly',\n",
    "    'AmazonEKS_CNI_Policy',\n",
    "    'AmazonEKSClusterPolicy',\n",
    "    # 'AmazonSSMManagedInstanceCore',\n",
    "]\n",
    "# Policy AmazonSSMManagedInstanceCore is not necessary, I used it for debugging, to connect to the node and run commands. \n",
    "\n",
    "for policy in policies:\n",
    "    try:\n",
    "        iam_client.attach_role_policy(\n",
    "            RoleName=role_name,\n",
    "            PolicyArn=f'arn:aws:iam::aws:policy/{policy}'\n",
    "        )\n",
    "        print(f\"Attached policy {policy} to role {role_name}.\")\n",
    "    except Exception as e:\n",
    "        print(f\"Error attaching policy {policy}: {e}\")"
   ]
  },
  {
   "cell_type": "markdown",
   "id": "6e8c8bd2-f80d-4a36-b648-4895429988ab",
   "metadata": {},
   "source": [
    "# Add Node Groups"
   ]
  },
  {
   "cell_type": "code",
   "execution_count": 20,
   "id": "11c771d0-9929-4c01-8ae6-e7c0845760d5",
   "metadata": {},
   "outputs": [],
   "source": [
    "# TODO: This part may also need a wait."
   ]
  },
  {
   "cell_type": "code",
   "execution_count": 21,
   "id": "75cfa5fb-e965-4e51-bee6-8414c32a7689",
   "metadata": {},
   "outputs": [
    {
     "data": {
      "text/plain": [
       "'ACTIVE'"
      ]
     },
     "metadata": {},
     "output_type": "display_data"
    },
    {
     "data": {
      "text/plain": [
       "True"
      ]
     },
     "execution_count": 21,
     "metadata": {},
     "output_type": "execute_result"
    }
   ],
   "source": [
    "node_groups = eks_client.list_nodegroups(clusterName=CLUSTER_NAME)\n",
    "# TODO: Make this static and put to the top, with different `diskSize` and `scalingConfig`\n",
    "node_group_name = 'gpu'\n",
    "ami_type = 'AL2_x86_64_GPU'\n",
    "if node_group_name in node_groups['nodegroups']:\n",
    "    response = eks_client.describe_nodegroup(clusterName=CLUSTER_NAME, nodegroupName=node_group_name)\n",
    "    status = response['nodegroup']['status']\n",
    "    if status == 'CREATE_FAILED':\n",
    "        print('Node group exists, but failed to create. Deleting...')\n",
    "        failed_node_group_info = response\n",
    "\n",
    "        eks_client.delete_nodegroup(clusterName=CLUSTER_NAME, nodegroupName=node_group_name)\n",
    "    \n",
    "        wait_until(eks_client.list_nodegroups, {'clusterName': CLUSTER_NAME}, lambda x: node_group_name not in x['nodegroups'])\n",
    "        node_groups = eks_client.list_nodegroups(clusterName=CLUSTER_NAME)\n",
    "    else:\n",
    "        print('Node group exists.')\n",
    "\n",
    "\n",
    "\n",
    "if not node_groups['nodegroups']:\n",
    "    print('Creating node group...')\n",
    "    response = eks_client.create_nodegroup(\n",
    "        clusterName=CLUSTER_NAME,\n",
    "        nodegroupName=node_group_name,\n",
    "        scalingConfig={\n",
    "            'desiredSize': 1,\n",
    "            'minSize': 1,\n",
    "            'maxSize': 1\n",
    "        },\n",
    "        diskSize=50,  # Size in GiB\n",
    "        subnets=[public_subnet_id],\n",
    "        nodeRole=node_role_arn,\n",
    "        amiType=ami_type,\n",
    "        instanceTypes=INSTANCE_TYPES[node_group_name],\n",
    "        labels={\n",
    "            'gpu-memory': 'true'\n",
    "        },\n",
    "        taints=[\n",
    "            {\n",
    "                'key': 'nvidia.com/gpu',\n",
    "                'value': 'true',\n",
    "                'effect': 'NO_SCHEDULE'\n",
    "            }\n",
    "        ]\n",
    "    )\n",
    "wait_until(eks_client.describe_nodegroup, {'clusterName': CLUSTER_NAME, 'nodegroupName': node_group_name}, is_node_group_active)"
   ]
  },
  {
   "cell_type": "code",
   "execution_count": 22,
   "id": "a69858b4-e5f2-4951-aa3d-69cd404c0e27",
   "metadata": {},
   "outputs": [
    {
     "data": {
      "text/plain": [
       "'ACTIVE'"
      ]
     },
     "metadata": {},
     "output_type": "display_data"
    },
    {
     "data": {
      "text/plain": [
       "True"
      ]
     },
     "execution_count": 22,
     "metadata": {},
     "output_type": "execute_result"
    }
   ],
   "source": [
    "node_groups = eks_client.list_nodegroups(clusterName=CLUSTER_NAME)\n",
    "# TODO: Make this static and put to the top, with different `diskSize` and `scalingConfig`\n",
    "node_group_name = 'default'\n",
    "ami_type = 'AL2_x86_64'\n",
    "if node_group_name in node_groups['nodegroups']:\n",
    "    response = eks_client.describe_nodegroup(clusterName=CLUSTER_NAME, nodegroupName=node_group_name)\n",
    "    status = response['nodegroup']['status']\n",
    "    if status == 'CREATE_FAILED':\n",
    "        print('Node group exists, but failed to create. Deleting...')\n",
    "        failed_node_group_info = response\n",
    "\n",
    "        eks_client.delete_nodegroup(clusterName=CLUSTER_NAME, nodegroupName=node_group_name)\n",
    "    \n",
    "        wait_until(eks_client.list_nodegroups, {'clusterName': CLUSTER_NAME}, lambda x: node_group_name not in x['nodegroups'])\n",
    "        node_groups = eks_client.list_nodegroups(clusterName=CLUSTER_NAME)\n",
    "    else:\n",
    "        print('Node group exists.')\n",
    "\n",
    "\n",
    "# TODO: See if lower disksize will work.\n",
    "if node_group_name not in node_groups['nodegroups']:\n",
    "    print('Creating node group...')\n",
    "    response = eks_client.create_nodegroup(\n",
    "        clusterName=CLUSTER_NAME,\n",
    "        nodegroupName=node_group_name,\n",
    "        scalingConfig={\n",
    "            'desiredSize': 2,\n",
    "            'minSize': 2,\n",
    "            'maxSize': 2\n",
    "        },\n",
    "        diskSize=1000,  # Size in GiB\n",
    "        subnets=[public_subnet_id],\n",
    "        nodeRole=node_role_arn,\n",
    "        amiType=ami_type,\n",
    "        instanceTypes=INSTANCE_TYPES[node_group_name],\n",
    "    )\n",
    "wait_until(eks_client.describe_nodegroup, {'clusterName': CLUSTER_NAME, 'nodegroupName': node_group_name}, is_node_group_active)"
   ]
  },
  {
   "cell_type": "markdown",
   "id": "c1566d62-4c89-4f87-84a1-5d465d8d89d4",
   "metadata": {},
   "source": [
    "# Get the OIDC Provider"
   ]
  },
  {
   "cell_type": "code",
   "execution_count": 23,
   "id": "baafae37-f87f-47bb-a642-fc1c1c6cb5a8",
   "metadata": {},
   "outputs": [
    {
     "data": {
      "text/plain": [
       "'https://oidc.eks.ca-central-1.amazonaws.com/id/3D9547AE31B419307DE001E999DDD051'"
      ]
     },
     "execution_count": 23,
     "metadata": {},
     "output_type": "execute_result"
    }
   ],
   "source": [
    "cluster_response = eks_client.describe_cluster(name=CLUSTER_NAME)\n",
    "oidc_id = cluster_response['cluster']['identity']['oidc']['issuer'].split('/')[-1]\n",
    "oidc_url = f'https://oidc.eks.{REGION}.amazonaws.com/id/{oidc_id}'\n",
    "oidc_url"
   ]
  },
  {
   "cell_type": "code",
   "execution_count": 24,
   "id": "47f875e6-9a22-4615-98a9-eb43c520fd94",
   "metadata": {},
   "outputs": [
    {
     "name": "stdout",
     "output_type": "stream",
     "text": [
      "\u001b[36m2025-01-13 00:49:54 [ℹ]  IAM Open ID Connect provider is already associated with cluster \"kubyterlab-llm\" in \"ca-central-1\"\n",
      "\u001b[0m"
     ]
    }
   ],
   "source": [
    "!eksctl utils associate-iam-oidc-provider --cluster $CLUSTER_NAME --approve"
   ]
  },
  {
   "cell_type": "code",
   "execution_count": 25,
   "id": "023b4e7f-f182-4474-a035-4027c0c75351",
   "metadata": {},
   "outputs": [
    {
     "data": {
      "text/plain": [
       "'arn:aws:iam::275678099358:policy/AmazonEKS_EBS_CSI_Driver_Policy'"
      ]
     },
     "execution_count": 25,
     "metadata": {},
     "output_type": "execute_result"
    }
   ],
   "source": [
    "amazon_eks_ebs_csi_driver_policy_name = 'AmazonEKS_EBS_CSI_Driver_Policy'\n",
    "amazon_eks_ebs_csi_driver_policy = {\n",
    "  \"Version\": \"2012-10-17\",\n",
    "  \"Statement\": [\n",
    "    {\n",
    "      \"Effect\": \"Allow\",\n",
    "      \"Action\": [\n",
    "        \"ec2:CreateSnapshot\",\n",
    "        \"ec2:AttachVolume\",\n",
    "        \"ec2:DetachVolume\",\n",
    "        \"ec2:ModifyVolume\",\n",
    "        \"ec2:DescribeAvailabilityZones\",\n",
    "        \"ec2:DescribeInstances\",\n",
    "        \"ec2:DescribeSnapshots\",\n",
    "        \"ec2:DescribeTags\",\n",
    "        \"ec2:DescribeVolumes\",\n",
    "        \"ec2:DescribeVolumesModifications\"\n",
    "      ],\n",
    "      \"Resource\": \"*\"\n",
    "    },\n",
    "    {\n",
    "      \"Effect\": \"Allow\",\n",
    "      \"Action\": [\n",
    "        \"ec2:CreateTags\"\n",
    "      ],\n",
    "      \"Resource\": [\n",
    "        \"arn:aws:ec2:*:*:volume/*\",\n",
    "        \"arn:aws:ec2:*:*:snapshot/*\"\n",
    "      ],\n",
    "      \"Condition\": {\n",
    "        \"StringEquals\": {\n",
    "          \"ec2:CreateAction\": [\n",
    "            \"CreateVolume\",\n",
    "            \"CreateSnapshot\"\n",
    "          ]\n",
    "        }\n",
    "      }\n",
    "    },\n",
    "    {\n",
    "      \"Effect\": \"Allow\",\n",
    "      \"Action\": [\n",
    "        \"ec2:DeleteTags\"\n",
    "      ],\n",
    "      \"Resource\": [\n",
    "        \"arn:aws:ec2:*:*:volume/*\",\n",
    "        \"arn:aws:ec2:*:*:snapshot/*\"\n",
    "      ]\n",
    "    },\n",
    "    {\n",
    "      \"Effect\": \"Allow\",\n",
    "      \"Action\": [\n",
    "        \"ec2:CreateVolume\"\n",
    "      ],\n",
    "      \"Resource\": \"*\",\n",
    "      \"Condition\": {\n",
    "        \"StringLike\": {\n",
    "          \"aws:RequestTag/ebs.csi.aws.com/cluster\": \"true\"\n",
    "        }\n",
    "      }\n",
    "    },\n",
    "    {\n",
    "      \"Effect\": \"Allow\",\n",
    "      \"Action\": [\n",
    "        \"ec2:CreateVolume\"\n",
    "      ],\n",
    "      \"Resource\": \"*\",\n",
    "      \"Condition\": {\n",
    "        \"StringLike\": {\n",
    "          \"aws:RequestTag/CSIVolumeName\": \"*\"\n",
    "        }\n",
    "      }\n",
    "    },\n",
    "    {\n",
    "      \"Effect\": \"Allow\",\n",
    "      \"Action\": [\n",
    "        \"ec2:DeleteVolume\"\n",
    "      ],\n",
    "      \"Resource\": \"*\",\n",
    "      \"Condition\": {\n",
    "        \"StringLike\": {\n",
    "          \"ec2:ResourceTag/CSIVolumeName\": \"*\"\n",
    "        }\n",
    "      }\n",
    "    },\n",
    "    {\n",
    "      \"Effect\": \"Allow\",\n",
    "      \"Action\": [\n",
    "        \"ec2:DeleteVolume\"\n",
    "      ],\n",
    "      \"Resource\": \"*\",\n",
    "      \"Condition\": {\n",
    "        \"StringLike\": {\n",
    "          \"ec2:ResourceTag/ebs.csi.aws.com/cluster\": \"true\"\n",
    "        }\n",
    "      }\n",
    "    },\n",
    "    {\n",
    "      \"Effect\": \"Allow\",\n",
    "      \"Action\": [\n",
    "        \"ec2:DeleteSnapshot\"\n",
    "      ],\n",
    "      \"Resource\": \"*\",\n",
    "      \"Condition\": {\n",
    "        \"StringLike\": {\n",
    "          \"ec2:ResourceTag/CSIVolumeSnapshotName\": \"*\"\n",
    "        }\n",
    "      }\n",
    "    },\n",
    "    {\n",
    "      \"Effect\": \"Allow\",\n",
    "      \"Action\": [\n",
    "        \"ec2:DeleteSnapshot\"\n",
    "      ],\n",
    "      \"Resource\": \"*\",\n",
    "      \"Condition\": {\n",
    "        \"StringLike\": {\n",
    "          \"ec2:ResourceTag/ebs.csi.aws.com/cluster\": \"true\"\n",
    "        }\n",
    "      }\n",
    "    }\n",
    "  ]\n",
    "}\n",
    "try:\n",
    "    response = iam_client.create_policy(\n",
    "        PolicyName=amazon_eks_ebs_csi_driver_policy_name,\n",
    "        PolicyDocument=json.dumps(amazon_eks_ebs_csi_driver_policy)\n",
    "    )\n",
    "    amazon_eks_ebs_csi_driver_policy_arn = response['Policy']['Arn']\n",
    "except iam_client.exceptions.EntityAlreadyExistsException:\n",
    "    amazon_eks_ebs_csi_driver_policy_arn = f'arn:aws:iam::{aws_account_id}:policy/{amazon_eks_ebs_csi_driver_policy_name}'\n",
    "    response = iam_client.get_policy(PolicyArn=amazon_eks_ebs_csi_driver_policy_arn)\n",
    "\n",
    "    # TODO: If policy body is not the same, update. Code to update follows.\n",
    "    # iam_client.create_policy_version(\n",
    "    #     PolicyArn=policy_arn,\n",
    "    #     PolicyDocument=policy_document_json,\n",
    "    #     SetAsDefault=True\n",
    "    # )\n",
    "\n",
    "amazon_eks_ebs_csi_driver_policy_arn"
   ]
  },
  {
   "cell_type": "markdown",
   "id": "cc9df50a-ede3-4b60-af87-f7295796c94c",
   "metadata": {},
   "source": [
    "# Initialize Kubernetes"
   ]
  },
  {
   "cell_type": "code",
   "execution_count": 26,
   "id": "77edf8ec-0ec3-42d2-a8a6-f8dbf606364f",
   "metadata": {},
   "outputs": [
    {
     "name": "stdout",
     "output_type": "stream",
     "text": [
      "Added new context arn:aws:eks:ca-central-1:275678099358:cluster/kubyterlab-llm to /root/.kube/config\n"
     ]
    }
   ],
   "source": [
    "!aws eks update-kubeconfig --name $CLUSTER_NAME --region $REGION"
   ]
  },
  {
   "cell_type": "code",
   "execution_count": 27,
   "id": "e4e0ebf6-a8ef-42f7-bc4d-ba852964f0da",
   "metadata": {},
   "outputs": [
    {
     "name": "stdout",
     "output_type": "stream",
     "text": [
      "Role already exists. Updating the trust policy.\n"
     ]
    }
   ],
   "source": [
    "trust_policy = {\n",
    "    \"Version\": \"2012-10-17\",\n",
    "    \"Statement\": [\n",
    "        {\n",
    "            \"Effect\": \"Allow\",\n",
    "            \"Principal\": {\n",
    "                \"Federated\": f\"arn:aws:iam::{aws_account_id}:oidc-provider/oidc.eks.{REGION}.amazonaws.com/id/{oidc_id}\"\n",
    "            },\n",
    "            \"Action\": \"sts:AssumeRoleWithWebIdentity\",\n",
    "            \"Condition\": {\n",
    "                \"StringEquals\": {\n",
    "                    f\"oidc.eks.{REGION}.amazonaws.com/id/{oidc_id}:aud\": \"sts.amazonaws.com\",\n",
    "                    f\"oidc.eks.{REGION}.amazonaws.com/id/{oidc_id}:sub\": \"system:serviceaccount:kube-system:ebs-csi-controller-sa\"\n",
    "                }\n",
    "            }\n",
    "        }\n",
    "    ]\n",
    "}\n",
    "\n",
    "try:\n",
    "    create_role_response = iam_client.create_role(\n",
    "        RoleName='AmazonEKS_EBS_CSI_DriverRole',\n",
    "        \n",
    "        AssumeRolePolicyDocument=json.dumps(trust_policy),\n",
    "        Description='Role for Amazon EKS EBS CSI Driver'\n",
    "    )\n",
    "    print(f\"Role created successfully: {create_role_response['Role']['Arn']}\")\n",
    "except iam_client.exceptions.EntityAlreadyExistsException:\n",
    "    print(\"Role already exists. Updating the trust policy.\")\n",
    "    iam_client.update_assume_role_policy(\n",
    "        RoleName='AmazonEKS_EBS_CSI_DriverRole',\n",
    "        PolicyDocument=json.dumps(trust_policy)\n",
    "    )\n",
    "\n",
    "attach_policy_response = iam_client.attach_role_policy(\n",
    "    RoleName='AmazonEKS_EBS_CSI_DriverRole',\n",
    "    PolicyArn='arn:aws:iam::aws:policy/service-role/AmazonEBSCSIDriverPolicy'\n",
    ")\n",
    "\n",
    "attach_policy_response = iam_client.attach_role_policy(\n",
    "    RoleName='AmazonEKS_EBS_CSI_DriverRole',\n",
    "    PolicyArn=amazon_eks_ebs_csi_driver_policy_arn\n",
    ")"
   ]
  },
  {
   "cell_type": "markdown",
   "id": "6d8ac935-b3bd-491f-9a4c-ec60bd3f3271",
   "metadata": {},
   "source": [
    "# Initialize Helm"
   ]
  },
  {
   "cell_type": "code",
   "execution_count": 28,
   "id": "9ec6ffe2-7458-4d1b-90dd-0b6fbbb0e921",
   "metadata": {},
   "outputs": [
    {
     "name": "stdout",
     "output_type": "stream",
     "text": [
      "\"aws-ebs-csi-driver\" has been added to your repositories\n"
     ]
    }
   ],
   "source": [
    "!helm repo add aws-ebs-csi-driver https://kubernetes-sigs.github.io/aws-ebs-csi-driver"
   ]
  },
  {
   "cell_type": "code",
   "execution_count": 29,
   "id": "79fbbaa4-e44b-4a43-bfd1-04d3a9dcf4fe",
   "metadata": {},
   "outputs": [
    {
     "name": "stdout",
     "output_type": "stream",
     "text": [
      "Hang tight while we grab the latest from your chart repositories...\n",
      "...Successfully got an update from the \"aws-ebs-csi-driver\" chart repository\n",
      "Update Complete. ⎈Happy Helming!⎈\n"
     ]
    }
   ],
   "source": [
    "!helm repo update"
   ]
  },
  {
   "cell_type": "markdown",
   "id": "aa839d9c-00b3-41f3-ba6b-f70575889176",
   "metadata": {},
   "source": [
    "# Install CSI Driver"
   ]
  },
  {
   "cell_type": "code",
   "execution_count": 30,
   "id": "e2451fff-9fa9-4f93-b6c1-f3b26924ac3f",
   "metadata": {},
   "outputs": [
    {
     "name": "stdout",
     "output_type": "stream",
     "text": [
      "error: failed to create serviceaccount: serviceaccounts \"ebs-csi-controller-sa\" already exists\n"
     ]
    }
   ],
   "source": [
    "!kubectl create sa ebs-csi-controller-sa -n kube-system"
   ]
  },
  {
   "cell_type": "code",
   "execution_count": 31,
   "id": "fc410c14-878b-4af9-b960-40503d451a44",
   "metadata": {},
   "outputs": [
    {
     "name": "stdout",
     "output_type": "stream",
     "text": [
      "serviceaccount/ebs-csi-controller-sa annotated\n"
     ]
    }
   ],
   "source": [
    "!kubectl annotate sa ebs-csi-controller-sa -n kube-system eks.amazonaws.com/role-arn=$ebs_csi_driver_role_arn\n"
   ]
  },
  {
   "cell_type": "code",
   "execution_count": 32,
   "id": "c15647b1-29f9-445e-a115-68db3fbec3d9",
   "metadata": {},
   "outputs": [
    {
     "name": "stdout",
     "output_type": "stream",
     "text": [
      "serviceaccount/ebs-csi-controller-sa annotated\n"
     ]
    }
   ],
   "source": [
    "!kubectl annotate sa ebs-csi-controller-sa -n kube-system meta.helm.sh/release-namespace=kube-system"
   ]
  },
  {
   "cell_type": "code",
   "execution_count": 33,
   "id": "feef5937-e243-4ae6-84ee-5be572ad1c3f",
   "metadata": {},
   "outputs": [
    {
     "name": "stdout",
     "output_type": "stream",
     "text": [
      "serviceaccount/ebs-csi-controller-sa annotated\n"
     ]
    }
   ],
   "source": [
    "!kubectl annotate sa ebs-csi-controller-sa -n kube-system meta.helm.sh/release-name=aws-ebs-csi-driver"
   ]
  },
  {
   "cell_type": "code",
   "execution_count": 34,
   "id": "b0b85917-e62c-42aa-8f71-7a0001265efb",
   "metadata": {},
   "outputs": [
    {
     "name": "stdout",
     "output_type": "stream",
     "text": [
      "serviceaccount/ebs-csi-controller-sa not labeled\n"
     ]
    }
   ],
   "source": [
    "!kubectl label sa ebs-csi-controller-sa -n kube-system app.kubernetes.io/managed-by=Helm"
   ]
  },
  {
   "cell_type": "code",
   "execution_count": 35,
   "id": "65c7ca0d-34d7-4b6f-93cb-f39379235bd1",
   "metadata": {},
   "outputs": [
    {
     "name": "stdout",
     "output_type": "stream",
     "text": [
      "Release \"aws-ebs-csi-driver\" has been upgraded. Happy Helming!\n",
      "NAME: aws-ebs-csi-driver\n",
      "LAST DEPLOYED: Mon Jan 13 00:50:06 2025\n",
      "NAMESPACE: kube-system\n",
      "STATUS: deployed\n",
      "REVISION: 2\n",
      "NOTES:\n",
      "To verify that aws-ebs-csi-driver has started, run:\n",
      "\n",
      "    kubectl get pod -n kube-system -l \"app.kubernetes.io/name=aws-ebs-csi-driver,app.kubernetes.io/instance=aws-ebs-csi-driver\"\n",
      "\n",
      "[ACTION REQUIRED] Update to the EBS CSI Driver IAM Policy\n",
      "\n",
      "Due to an upcoming change in handling of IAM polices for the CreateVolume API when creating a volume from an EBS snapshot, a change to your EBS CSI Driver policy may be needed. For more information and remediation steps, see GitHub issue #2190 (https://github.com/kubernetes-sigs/aws-ebs-csi-driver/issues/2190). This change affects all versions of the EBS CSI Driver and action may be required even on clusters where the driver is not upgraded.\n"
     ]
    }
   ],
   "source": [
    "!helm upgrade --install aws-ebs-csi-driver \\\n",
    "    --namespace kube-system \\\n",
    "    aws-ebs-csi-driver/aws-ebs-csi-driver"
   ]
  },
  {
   "cell_type": "markdown",
   "id": "3f599762-1e35-459c-a195-464eb9bd7f1c",
   "metadata": {},
   "source": [
    "### == End of Code Specific to AWS =="
   ]
  },
  {
   "cell_type": "markdown",
   "id": "e6bcb2b6-3c4b-4d3e-9d6c-2daf8baadfee",
   "metadata": {},
   "source": [
    "# Install Nvidia Device Plugin"
   ]
  },
  {
   "cell_type": "code",
   "execution_count": 36,
   "id": "2715339c-3b4c-4203-92e0-15b51e2fd75d",
   "metadata": {
    "scrolled": true
   },
   "outputs": [
    {
     "name": "stdout",
     "output_type": "stream",
     "text": [
      "daemonset.apps/nvidia-device-plugin-daemonset unchanged\n"
     ]
    }
   ],
   "source": [
    "!kubectl apply -f https://raw.githubusercontent.com/NVIDIA/k8s-device-plugin/refs/heads/main/deployments/static/nvidia-device-plugin.yml"
   ]
  },
  {
   "cell_type": "markdown",
   "id": "9a5a0d46-7a29-4c21-80d0-1ba0f5f9b5fd",
   "metadata": {},
   "source": [
    "# Apply Kubernetes"
   ]
  },
  {
   "cell_type": "code",
   "execution_count": 37,
   "id": "c455d623-b4a9-48ef-a176-d2c91f677e62",
   "metadata": {},
   "outputs": [
    {
     "data": {
      "text/plain": [
       "('',\n",
       " 'The PersistentVolume \"pv-llm\" is invalid: spec.persistentvolumesource: Forbidden: spec.persistentvolumesource is immutable after creation\\n\\xa0\\xa0core.PersistentVolumeSource{\\n\\xa0\\xa0\\tGCEPersistentDisk: nil,\\n\\xa0\\xa0\\tAWSElasticBlockStore: &core.AWSElasticBlockStoreVolumeSource{\\n-\\xa0\\t\\tVolumeID:  \"vol-0d335c3dfa5fc99c6\",\\n+\\xa0\\t\\tVolumeID:  \"vol-0e0bf7e648784d088\",\\n\\xa0\\xa0\\t\\tFSType:    \"ext4\",\\n\\xa0\\xa0\\t\\tPartition: 0,\\n\\xa0\\xa0\\t\\tReadOnly:  false,\\n\\xa0\\xa0\\t},\\n\\xa0\\xa0\\tHostPath:  nil,\\n\\xa0\\xa0\\tGlusterfs: nil,\\n\\xa0\\xa0\\t... // 18 identical fields\\n\\xa0\\xa0}\\n\\n')"
      ]
     },
     "execution_count": 37,
     "metadata": {},
     "output_type": "execute_result"
    }
   ],
   "source": [
    "with open(f'/k8s/{CLUSTER_NAME}/{CLUSTER_NAME}-pv.yaml') as f:\n",
    "    pv = yaml.safe_load(f)\n",
    "    pv['spec']['awsElasticBlockStore']['volumeID'] = volume_id\n",
    "    # pv['spec']['csi']['volumeHandle'] = volume_id\n",
    "    with NamedTemporaryFile('w', suffix='.json', delete=False) as temp_file:\n",
    "        json.dump(pv, temp_file)\n",
    "        file_path = temp_file.name\n",
    "    result = subprocess.run(['kubectl', 'apply', '-f', file_path], capture_output=True, text=True)\n",
    "result.stdout, result.stderr"
   ]
  },
  {
   "cell_type": "code",
   "execution_count": 38,
   "id": "906e9f90-cf29-458c-9c97-0fc49b0b5f54",
   "metadata": {},
   "outputs": [
    {
     "name": "stdout",
     "output_type": "stream",
     "text": [
      "persistentvolumeclaim/pvc-llm unchanged\n"
     ]
    }
   ],
   "source": [
    "!kubectl apply -f /k8s/$CLUSTER_NAME/$CLUSTER_NAME-pvc.yaml"
   ]
  },
  {
   "cell_type": "code",
   "execution_count": 39,
   "id": "a3385860-7b6e-48c8-bda2-e497549e83a6",
   "metadata": {},
   "outputs": [
    {
     "name": "stdout",
     "output_type": "stream",
     "text": [
      "deployment.apps/kubyterlab-llm-pod configured\n"
     ]
    }
   ],
   "source": [
    "!kubectl apply -f /k8s/$CLUSTER_NAME/kubyterlab-llm-pod.yaml\n"
   ]
  },
  {
   "cell_type": "code",
   "execution_count": 40,
   "id": "4de8b5d6-1a01-4b09-8352-13100477f174",
   "metadata": {},
   "outputs": [
    {
     "name": "stdout",
     "output_type": "stream",
     "text": [
      "service/kubyterlab-llm-service unchanged\n"
     ]
    }
   ],
   "source": [
    "!kubectl apply -f /k8s/$CLUSTER_NAME/kubyterlab-llm-service.yaml\n"
   ]
  },
  {
   "cell_type": "markdown",
   "id": "b97f5d85-1064-4d39-b205-71fddb658689",
   "metadata": {},
   "source": [
    "# Get URL"
   ]
  },
  {
   "cell_type": "code",
   "execution_count": 41,
   "id": "6ec37f9a-6ffd-4e4e-b9a2-f0955ae0423a",
   "metadata": {},
   "outputs": [
    {
     "data": {
      "text/plain": [
       "'kubyterlab-llm-pod-7dddd54764-9szmj'"
      ]
     },
     "execution_count": 41,
     "metadata": {},
     "output_type": "execute_result"
    }
   ],
   "source": [
    "wait_until(get_one_running_pod, {}, lambda x: x is not None, timeout=8 * 60)\n",
    "pod_name = get_one_running_pod()\n",
    "assert pod_name is not None\n",
    "pod_name"
   ]
  },
  {
   "cell_type": "code",
   "execution_count": 42,
   "id": "3cee78c8-55c3-43d9-bd54-258451b2520d",
   "metadata": {},
   "outputs": [
    {
     "data": {
      "text/plain": [
       "('a7089113cc0ab4998af8896a2a6a1de6-1932778211.ca-central-1.elb.amazonaws.com',\n",
       " '8888')"
      ]
     },
     "execution_count": 42,
     "metadata": {},
     "output_type": "execute_result"
    }
   ],
   "source": [
    "output = !kubectl get service kubyterlab-llm-service --no-headers\n",
    "fields = re.split(r'\\s+', output[0])\n",
    "external_url = fields[3]\n",
    "port = fields[4].split('/')[0].split(':')[0]\n",
    "external_url, port"
   ]
  },
  {
   "cell_type": "code",
   "execution_count": 43,
   "id": "53321db9-5b60-4c9f-8895-9dc6be504761",
   "metadata": {},
   "outputs": [
    {
     "data": {
      "text/plain": [
       "'1112809df242c38dad6221be8f8a45d610bbcb04605ea1ac'"
      ]
     },
     "execution_count": 43,
     "metadata": {},
     "output_type": "execute_result"
    }
   ],
   "source": [
    "wait_until(get_jupyter_token_from_pod, {\"pod_name\": pod_name}, lambda x: x is not None)\n",
    "token = get_jupyter_token_from_pod(pod_name)\n",
    "assert token is not None\n",
    "token"
   ]
  },
  {
   "cell_type": "code",
   "execution_count": 44,
   "id": "8bf520ca-59d0-427f-8251-bc940cad8e46",
   "metadata": {},
   "outputs": [
    {
     "data": {
      "text/plain": [
       "'http://a7089113cc0ab4998af8896a2a6a1de6-1932778211.ca-central-1.elb.amazonaws.com:8888/lab?token=1112809df242c38dad6221be8f8a45d610bbcb04605ea1ac'"
      ]
     },
     "execution_count": 44,
     "metadata": {},
     "output_type": "execute_result"
    }
   ],
   "source": [
    "f'http://{external_url}:{port}/lab?token={token}'"
   ]
  },
  {
   "cell_type": "markdown",
   "id": "f5c7f019-64b1-4b2d-a343-b536fca16633",
   "metadata": {},
   "source": [
    "# Test"
   ]
  },
  {
   "cell_type": "code",
   "execution_count": 35,
   "id": "438b3f0b-0cc8-4aad-b796-5e7bb32fd110",
   "metadata": {},
   "outputs": [
    {
     "name": "stdout",
     "output_type": "stream",
     "text": [
      "Defaulted container \"kubyterlab-llm\" out of: kubyterlab-llm, init-container (init)\n",
      "True\n",
      "1\n"
     ]
    }
   ],
   "source": [
    "# Defaulted container \"kubyterlab-llm\" out of: kubyterlab-llm, init-container (init)\n",
    "# True\n",
    "# 1\n",
    "!kubectl exec $pod_name bash -- python3 -c 'import torch; print(torch.cuda.is_available()); print(torch.cuda.device_count())'"
   ]
  },
  {
   "cell_type": "code",
   "execution_count": null,
   "id": "6bfde574-66a3-4a21-b26d-0cab8eac0893",
   "metadata": {},
   "outputs": [],
   "source": [
    "!kubectl exec $pod_name bash -- bash -c 'nvidia-smi --query-gpu=memory.total,memory.used,memory.free --format=csv'"
   ]
  },
  {
   "cell_type": "markdown",
   "id": "0e4ae1ff-9361-4709-8343-2b2310999403",
   "metadata": {},
   "source": [
    "# == End of Procedure =="
   ]
  },
  {
   "cell_type": "markdown",
   "id": "f8bd4f0a-fa1d-4578-89d6-84b9c30c2179",
   "metadata": {},
   "source": [
    "# Troubleshoot"
   ]
  },
  {
   "cell_type": "code",
   "execution_count": null,
   "id": "f0ecd167-4fa9-4a0e-ab1c-d0a451031ca0",
   "metadata": {},
   "outputs": [],
   "source": [
    "    # --parameters 'commands=[\"yum update -y\", \"yum install nvidia-smi\", \"nvidia-smi\"]' \\\n"
   ]
  },
  {
   "cell_type": "code",
   "execution_count": null,
   "id": "26f10cb1-1b0f-4212-a689-052928a4924d",
   "metadata": {},
   "outputs": [],
   "source": [
    "# Note that for the following to work, you need to attach the policy AmazonSSMManagedInstanceCore, in the relevant cell above, during the deployment."
   ]
  },
  {
   "cell_type": "code",
   "execution_count": 60,
   "id": "44b4b8fb-d7fb-4c9c-87ba-777bf78f1f7e",
   "metadata": {},
   "outputs": [
    {
     "data": {
      "text/plain": [
       "'9528f9bd-ba96-49a8-b6f9-45df5433a905'"
      ]
     },
     "execution_count": 60,
     "metadata": {},
     "output_type": "execute_result"
    }
   ],
   "source": [
    "output = !aws ssm send-command \\\n",
    "    --document-name \"AWS-RunShellScript\" \\\n",
    "    --targets \"Key=instanceIds,Values=i-02f3c1f8a118eb352\" \\\n",
    "    --parameters 'commands=[\"nvidia-smi --query-gpu=memory.total,memory.used,memory.free --format=csv\"]' \\\n",
    "    --region $REGION\n",
    "command_id = json.loads(''.join(output))['Command']['CommandId']\n",
    "command_id\n"
   ]
  },
  {
   "cell_type": "code",
   "execution_count": 61,
   "id": "a45b62bf-644f-41ce-a4bf-f745311de116",
   "metadata": {},
   "outputs": [
    {
     "name": "stdout",
     "output_type": "stream",
     "text": [
      "memory.total [MiB], memory.used [MiB], memory.free [MiB]\n",
      "15360 MiB, 1 MiB, 15095 MiB\n",
      "\n"
     ]
    }
   ],
   "source": [
    "output = !aws ssm list-command-invocations \\\n",
    "    --command-id $command_id \\\n",
    "    --details\n",
    "output = json.loads(''.join(output))['CommandInvocations'][0]['CommandPlugins'][0]['Output']\n",
    "for line in output.split('\\n'):\n",
    "    print(line)"
   ]
  },
  {
   "cell_type": "code",
   "execution_count": 3,
   "id": "5f8dfc17-a2c4-424c-8897-82475ad2f9e1",
   "metadata": {},
   "outputs": [],
   "source": [
    "# OutOfMemoryError: CUDA out of memory. Tried to allocate 482.00 MiB. GPU 0 has a total capacity of 14.74 GiB of which 310.12 MiB is free. Process 31577 has 14.44 GiB memory in use. Of the allocated memory 13.09 GiB is allocated by PyTorch, and 1.22 GiB is reserved by PyTorch but unallocated. \n",
    "# If reserved but unallocated memory is large try setting PYTORCH_CUDA_ALLOC_CONF=expandable_segments:True to avoid fragmentation.  See documentation for Memory Management  (https://pytorch.org/docs/stable/notes/cuda.html#environment-variables)"
   ]
  },
  {
   "cell_type": "code",
   "execution_count": 4,
   "id": "bfe1b7f5-83db-4d77-b415-99a2bc35546f",
   "metadata": {},
   "outputs": [
    {
     "data": {
      "text/plain": [
       "'What was the refugee district in Sharn?'"
      ]
     },
     "execution_count": 4,
     "metadata": {},
     "output_type": "execute_result"
    }
   ],
   "source": [
    "\"What was the refugee district in Sharn?\""
   ]
  },
  {
   "cell_type": "code",
   "execution_count": null,
   "id": "0480a8c3-9aad-4a76-9f62-20de23589501",
   "metadata": {},
   "outputs": [],
   "source": []
  },
  {
   "cell_type": "code",
   "execution_count": null,
   "id": "d39f876b-ea67-4dd5-a9ee-92af8f218ce9",
   "metadata": {},
   "outputs": [],
   "source": []
  },
  {
   "cell_type": "code",
   "execution_count": 31,
   "id": "a8992595-dd14-4067-8607-3596e7fa746c",
   "metadata": {
    "scrolled": true
   },
   "outputs": [
    {
     "name": "stdout",
     "output_type": "stream",
     "text": [
      "NAME                                 READY   STATUS    RESTARTS   AGE\n",
      "ebs-csi-controller-59b6797bf-mdw4c   5/5     Running   0          157m\n",
      "ebs-csi-controller-59b6797bf-psqv5   5/5     Running   0          157m\n",
      "ebs-csi-node-mxkzh                   3/3     Running   0          157m\n",
      "ebs-csi-node-nkgzs                   3/3     Running   0          157m\n",
      "ebs-csi-node-vkj5h                   3/3     Running   0          157m\n"
     ]
    }
   ],
   "source": [
    "!kubectl get pod -n kube-system -l \"app.kubernetes.io/name=aws-ebs-csi-driver,app.kubernetes.io/instance=aws-ebs-csi-driver\""
   ]
  },
  {
   "cell_type": "code",
   "execution_count": 29,
   "id": "3b9460f8-e4d4-4247-908f-22706f2d876d",
   "metadata": {},
   "outputs": [
    {
     "name": "stdout",
     "output_type": "stream",
     "text": [
      "NAME                                          GPU\n",
      "ip-10-0-1-121.ca-central-1.compute.internal   1\n",
      "ip-10-0-1-224.ca-central-1.compute.internal   <none>\n",
      "ip-10-0-1-70.ca-central-1.compute.internal    <none>\n"
     ]
    }
   ],
   "source": [
    "# NAME                                          GPU\n",
    "# ip-10-0-1-129.ca-central-1.compute.internal   <none>\n",
    "# ip-10-0-1-223.ca-central-1.compute.internal   <none>\n",
    "# ip-10-0-1-8.ca-central-1.compute.internal     1z\n",
    "!kubectl get nodes \"-o=custom-columns=NAME:.metadata.name,GPU:.status.allocatable.nvidia\\.com/gpu\"\n"
   ]
  },
  {
   "cell_type": "code",
   "execution_count": null,
   "id": "5d4e2db7-eec8-484d-af50-ff23a339c8f0",
   "metadata": {},
   "outputs": [],
   "source": [
    "# NAME                                          TAINTS\n",
    "# ip-10-0-1-107.ca-central-1.compute.internal   <none>\n",
    "# ip-10-0-1-175.ca-central-1.compute.internal   [map[effect:NoSchedule key:nvidia.com/gpu value:true]]\n",
    "# ip-10-0-1-90.ca-central-1.compute.internal    <none>\n",
    "!kubectl get nodes -o custom-columns=NAME:.metadata.name,TAINTS:.spec.taints"
   ]
  },
  {
   "cell_type": "code",
   "execution_count": null,
   "id": "35f0a916-0089-4030-97aa-a074fe340403",
   "metadata": {},
   "outputs": [],
   "source": [
    "# NAME                     TYPE           CLUSTER-IP     EXTERNAL-IP                                                                  PORT(S)          AGE\n",
    "# kubernetes               ClusterIP      172.20.0.1     <none>                                                                       443/TCP          37m\n",
    "# kubyterlab-llm-service   LoadBalancer   172.20.129.8   a4740e3e56bfe40ac81121bd46071903-1377611187.ca-central-1.elb.amazonaws.com   8888:31434/TCP   13s\n",
    "!kubectl get service"
   ]
  },
  {
   "cell_type": "code",
   "execution_count": 286,
   "id": "fde9f7f4-b4cc-4834-9ccc-e69f70ffbbad",
   "metadata": {},
   "outputs": [
    {
     "name": "stdout",
     "output_type": "stream",
     "text": [
      "NAME                 READY   UP-TO-DATE   AVAILABLE   AGE\n",
      "kubyterlab-llm-pod   0/1     1            0           54m\n"
     ]
    }
   ],
   "source": [
    "# NAME               READY   UP-TO-DATE   AVAILABLE   AGE\n",
    "# kubyterlab-llm-pod   1/1     1            1           31m\n",
    "!kubectl get deployments"
   ]
  },
  {
   "cell_type": "code",
   "execution_count": 252,
   "id": "9c927c44-b74d-4fa4-839b-775a50c1c8f0",
   "metadata": {},
   "outputs": [],
   "source": [
    "# !kubectl describe deployment kubyterlab-llm-pod"
   ]
  },
  {
   "cell_type": "code",
   "execution_count": 167,
   "id": "205103e7-0983-4eb5-8050-f17eb646c145",
   "metadata": {},
   "outputs": [
    {
     "name": "stdout",
     "output_type": "stream",
     "text": [
      "pod \"kubyterlab-llm-pod-6fcf8c78d-hkqpb\" deleted\n"
     ]
    }
   ],
   "source": [
    "!kubectl delete pod kubyterlab-llm-pod-6fcf8c78d-hkqpb"
   ]
  },
  {
   "cell_type": "code",
   "execution_count": 83,
   "id": "3d2ac1bd-3d25-4fa8-b2dd-fb7fa10e42d2",
   "metadata": {},
   "outputs": [
    {
     "name": "stdout",
     "output_type": "stream",
     "text": [
      "NAME                                  READY   STATUS    RESTARTS       AGE\n",
      "kubyterlab-llm-pod-5b75b56d56-rpqj9   1/1     Running   2 (116s ago)   79m\n"
     ]
    }
   ],
   "source": [
    "!kubectl get pods"
   ]
  },
  {
   "cell_type": "code",
   "execution_count": 254,
   "id": "0a2da721-c219-436c-8ba5-11d905c507d1",
   "metadata": {},
   "outputs": [
    {
     "name": "stdout",
     "output_type": "stream",
     "text": [
      "NAME      STATUS   VOLUME   CAPACITY   ACCESS MODES   STORAGECLASS   VOLUMEATTRIBUTESCLASS   AGE\n",
      "pvc-llm   Bound    pv-llm   500Gi      RWO            manual         <unset>                 26m\n"
     ]
    }
   ],
   "source": [
    "!kubectl get pvc"
   ]
  },
  {
   "cell_type": "code",
   "execution_count": 114,
   "id": "2da94936-7f52-4780-9dea-6bb90fe9c22f",
   "metadata": {},
   "outputs": [
    {
     "name": "stdout",
     "output_type": "stream",
     "text": [
      "Defaulted container \"kubyterlab-llm\" out of: kubyterlab-llm, init-container (init)\n"
     ]
    }
   ],
   "source": [
    "!kubectl logs kubyterlab-llm-pod-985f8595b-pq9xs"
   ]
  },
  {
   "cell_type": "code",
   "execution_count": 115,
   "id": "759dac0a-bf71-41b0-b2fd-e71787c5aee4",
   "metadata": {},
   "outputs": [
    {
     "name": "stdout",
     "output_type": "stream",
     "text": [
      "Name:             kubyterlab-llm-pod-985f8595b-pq9xs\n",
      "Namespace:        default\n",
      "Priority:         0\n",
      "Service Account:  default\n",
      "Node:             <none>\n",
      "Labels:           app=kubyterlab-llm\n",
      "                  pod-template-hash=985f8595b\n",
      "Annotations:      <none>\n",
      "Status:           Pending\n",
      "IP:               \n",
      "IPs:              <none>\n",
      "Controlled By:    ReplicaSet/kubyterlab-llm-pod-985f8595b\n",
      "Init Containers:\n",
      "  init-container:\n",
      "    Image:      busybox\n",
      "    Port:       <none>\n",
      "    Host Port:  <none>\n",
      "    Command:\n",
      "      /bin/sh\n",
      "      -c\n",
      "      mkdir -p /jupyterlab/notebooks /jupyterlab/models/mistral /jupyterlab/models/hf\n",
      "      \n",
      "    Environment:  <none>\n",
      "    Mounts:\n",
      "      /jupyterlab from pvc-llm (rw)\n",
      "      /var/run/secrets/kubernetes.io/serviceaccount from kube-api-access-r6bnd (ro)\n",
      "Containers:\n",
      "  kubyterlab-llm:\n",
      "    Image:      275678099358.dkr.ecr.ca-central-1.amazonaws.com/kubyterlab:25.01-llm\n",
      "    Port:       8888/TCP\n",
      "    Host Port:  0/TCP\n",
      "    Limits:\n",
      "      cpu:                    1\n",
      "      memory:                 8Gi\n",
      "      nvidia.com/gpu:         1\n",
      "      nvidia.com/gpu-memory:  24Gi\n",
      "    Requests:\n",
      "      cpu:                    1\n",
      "      memory:                 8Gi\n",
      "      nvidia.com/gpu:         1\n",
      "      nvidia.com/gpu-memory:  24Gi\n",
      "    Environment:\n",
      "      JUPYTERLAB_SETTINGS_DIR:  /jupyterlab/config\n",
      "      MISTRAL_MODEL:            /jupyterlab/models/mistral\n",
      "      HF_HOME:                  /jupyterlab/models/hf\n",
      "      ARTEFACT_ROOT_FOLDER:     /jupyterlab/artefacts\n",
      "    Mounts:\n",
      "      /jupyterlab from pvc-llm (rw)\n",
      "      /var/run/secrets/kubernetes.io/serviceaccount from kube-api-access-r6bnd (ro)\n",
      "Conditions:\n",
      "  Type           Status\n",
      "  PodScheduled   False \n",
      "Volumes:\n",
      "  pvc-llm:\n",
      "    Type:       PersistentVolumeClaim (a reference to a PersistentVolumeClaim in the same namespace)\n",
      "    ClaimName:  pvc-llm\n",
      "    ReadOnly:   false\n",
      "  kube-api-access-r6bnd:\n",
      "    Type:                    Projected (a volume that contains injected data from multiple sources)\n",
      "    TokenExpirationSeconds:  3607\n",
      "    ConfigMapName:           kube-root-ca.crt\n",
      "    ConfigMapOptional:       <nil>\n",
      "    DownwardAPI:             true\n",
      "QoS Class:                   Burstable\n",
      "Node-Selectors:              <none>\n",
      "Tolerations:                 node.kubernetes.io/not-ready:NoExecute op=Exists for 300s\n",
      "                             node.kubernetes.io/unreachable:NoExecute op=Exists for 300s\n",
      "                             nvidia.com/gpu:NoSchedule op=Exists\n",
      "                             nvidia.com/gpu-memory:NoSchedule op=Exists\n",
      "Events:\n",
      "  Type     Reason            Age                    From               Message\n",
      "  ----     ------            ----                   ----               -------\n",
      "  Warning  FailedScheduling  3m29s (x2 over 8m46s)  default-scheduler  0/3 nodes are available: 2 Insufficient memory, 2 Insufficient nvidia.com/gpu, 3 Insufficient nvidia.com/gpu-memory. preemption: 0/3 nodes are available: 3 No preemption victims found for incoming pod.\n"
     ]
    }
   ],
   "source": [
    "!kubectl describe pod kubyterlab-llm-pod-985f8595b-pq9xs"
   ]
  },
  {
   "cell_type": "code",
   "execution_count": 32,
   "id": "e4308b32-7f70-4861-81f6-7bc0702cbc87",
   "metadata": {},
   "outputs": [
    {
     "name": "stdout",
     "output_type": "stream",
     "text": [
      "Defaulted container \"kubyterlab-llm\" out of: kubyterlab-llm, init-container (init)\n",
      "Thu Jan  2 00:36:32 2025       \n",
      "+-----------------------------------------------------------------------------------------+\n",
      "| NVIDIA-SMI 550.127.08             Driver Version: 550.127.08     CUDA Version: 12.6     |\n",
      "|-----------------------------------------+------------------------+----------------------+\n",
      "| GPU  Name                 Persistence-M | Bus-Id          Disp.A | Volatile Uncorr. ECC |\n",
      "| Fan  Temp   Perf          Pwr:Usage/Cap |           Memory-Usage | GPU-Util  Compute M. |\n",
      "|                                         |                        |               MIG M. |\n",
      "|=========================================+========================+======================|\n",
      "|   0  Tesla T4                       On  |   00000000:00:1E.0 Off |                    0 |\n",
      "| N/A   46C    P0             70W /   70W |   11901MiB /  15360MiB |    100%      Default |\n",
      "|                                         |                        |                  N/A |\n",
      "+-----------------------------------------+------------------------+----------------------+\n",
      "                                                                                         \n",
      "+-----------------------------------------------------------------------------------------+\n",
      "| Processes:                                                                              |\n",
      "|  GPU   GI   CI        PID   Type   Process name                              GPU Memory |\n",
      "|        ID   ID                                                               Usage      |\n",
      "|=========================================================================================|\n",
      "+-----------------------------------------------------------------------------------------+\n"
     ]
    }
   ],
   "source": [
    "!kubectl exec $pod_name bash -- nvidia-smi"
   ]
  },
  {
   "cell_type": "code",
   "execution_count": 36,
   "id": "5a68c2d5-dc22-4529-9e8f-a7935f360340",
   "metadata": {},
   "outputs": [
    {
     "name": "stdout",
     "output_type": "stream",
     "text": [
      "Defaulted container \"kubyterlab-llm\" out of: kubyterlab-llm, init-container (init)\n",
      "GPU 0: Tesla T4 (UUID: GPU-a2c5739c-00e4-85bb-2bf8-7b56723a21ba)\n"
     ]
    }
   ],
   "source": [
    "!kubectl exec $pod_name bash -- nvidia-smi -L"
   ]
  },
  {
   "cell_type": "code",
   "execution_count": 39,
   "id": "8d229310-97eb-4788-bf0e-22203dffe078",
   "metadata": {},
   "outputs": [
    {
     "name": "stdout",
     "output_type": "stream",
     "text": [
      "Defaulted container \"kubyterlab-llm\" out of: kubyterlab-llm, init-container (init)\n",
      "nvcc: NVIDIA (R) Cuda compiler driver\n",
      "Copyright (c) 2005-2024 NVIDIA Corporation\n",
      "Built on Wed_Aug_14_10:10:22_PDT_2024\n",
      "Cuda compilation tools, release 12.6, V12.6.68\n",
      "Build cuda_12.6.r12.6/compiler.34714021_0\n"
     ]
    }
   ],
   "source": [
    "!kubectl exec $pod_name bash -- nvcc --version"
   ]
  },
  {
   "cell_type": "code",
   "execution_count": 42,
   "id": "dd85d695-cf55-4be8-85d8-ed5d2508d134",
   "metadata": {},
   "outputs": [
    {
     "name": "stdout",
     "output_type": "stream",
     "text": [
      "Defaulted container \"kubyterlab-llm\" out of: kubyterlab-llm, init-container (init)\n",
      "\n"
     ]
    }
   ],
   "source": [
    "!kubectl exec $pod_name bash -- echo $$CUDA_VISIBLE_DEVICES"
   ]
  },
  {
   "cell_type": "code",
   "execution_count": null,
   "id": "722a4aa7-a0c3-462e-9e37-60230261fcd3",
   "metadata": {},
   "outputs": [],
   "source": [
    "!kubectl describe pod $pod_name"
   ]
  },
  {
   "cell_type": "code",
   "execution_count": 113,
   "id": "116fd849-a569-472e-93d6-23624e93c7e3",
   "metadata": {},
   "outputs": [
    {
     "name": "stdout",
     "output_type": "stream",
     "text": [
      "NAME                                   READY   STATUS    RESTARTS   AGE\n",
      "aws-node-cvzp2                         2/2     Running   0          4m59s\n",
      "aws-node-kmnjj                         2/2     Running   0          4m57s\n",
      "aws-node-zlmn8                         2/2     Running   0          6m35s\n",
      "coredns-749d5dbdd9-cdd8v               1/1     Running   0          8m29s\n",
      "coredns-749d5dbdd9-xtrc8               1/1     Running   0          8m29s\n",
      "ebs-csi-controller-59b6797bf-fhcph     5/5     Running   0          4m6s\n",
      "ebs-csi-controller-59b6797bf-w9mns     5/5     Running   0          4m6s\n",
      "ebs-csi-node-mp9sr                     3/3     Running   0          4m6s\n",
      "ebs-csi-node-mqt55                     3/3     Running   0          4m6s\n",
      "ebs-csi-node-q8dfl                     3/3     Running   0          4m6s\n",
      "kube-proxy-ctjcd                       1/1     Running   0          6m35s\n",
      "kube-proxy-nv8tx                       1/1     Running   0          4m57s\n",
      "kube-proxy-qmwmh                       1/1     Running   0          4m59s\n",
      "nvidia-device-plugin-daemonset-4b76p   1/1     Running   0          4m4s\n",
      "nvidia-device-plugin-daemonset-ltcdg   1/1     Running   0          4m4s\n",
      "nvidia-device-plugin-daemonset-wv2rd   1/1     Running   0          4m4s\n"
     ]
    }
   ],
   "source": [
    "!kubectl get pod -n kube-system"
   ]
  },
  {
   "cell_type": "code",
   "execution_count": 177,
   "id": "90495808-55bb-4d5b-84e8-c00ca25250b4",
   "metadata": {},
   "outputs": [
    {
     "name": "stdout",
     "output_type": "stream",
     "text": [
      "Name:          pvc-llm\n",
      "Namespace:     default\n",
      "StorageClass:  manual\n",
      "Status:        Bound\n",
      "Volume:        pv-llm\n",
      "Labels:        <none>\n",
      "Annotations:   pv.kubernetes.io/bind-completed: yes\n",
      "               pv.kubernetes.io/bound-by-controller: yes\n",
      "Finalizers:    [kubernetes.io/pvc-protection]\n",
      "Capacity:      10Gi\n",
      "Access Modes:  RWO\n",
      "VolumeMode:    Filesystem\n",
      "Used By:       kubyterlab-llm-pod-67f5cf95dc-s2mrn\n",
      "Events:        <none>\n"
     ]
    }
   ],
   "source": [
    "!kubectl describe pvc pvc-llm"
   ]
  },
  {
   "cell_type": "code",
   "execution_count": 178,
   "id": "da047557-f797-4492-b7f6-1cdcb16a3283",
   "metadata": {},
   "outputs": [
    {
     "name": "stdout",
     "output_type": "stream",
     "text": [
      "Name:            pv-llm\n",
      "Labels:          <none>\n",
      "Annotations:     pv.kubernetes.io/bound-by-controller: yes\n",
      "Finalizers:      [kubernetes.io/pv-protection]\n",
      "StorageClass:    manual\n",
      "Status:          Bound\n",
      "Claim:           default/pvc-llm\n",
      "Reclaim Policy:  Retain\n",
      "Access Modes:    RWO\n",
      "VolumeMode:      Filesystem\n",
      "Capacity:        10Gi\n",
      "Node Affinity:   <none>\n",
      "Message:         \n",
      "Source:\n",
      "    Type:       AWSElasticBlockStore (a Persistent Disk resource in AWS)\n",
      "    VolumeID:   vol-04ce08a2c05b8e1da\n",
      "    FSType:     ext4\n",
      "    Partition:  0\n",
      "    ReadOnly:   false\n",
      "Events:         <none>\n"
     ]
    }
   ],
   "source": [
    "!kubectl describe pv pv-llm"
   ]
  },
  {
   "cell_type": "code",
   "execution_count": 169,
   "id": "80827487-9836-450d-806d-5f56b00ab821",
   "metadata": {},
   "outputs": [
    {
     "name": "stdout",
     "output_type": "stream",
     "text": [
      "Name:                   kubyterlab-llm-pod\n",
      "Namespace:              default\n",
      "CreationTimestamp:      Mon, 02 Dec 2024 20:05:56 +0000\n",
      "Labels:                 <none>\n",
      "Annotations:            deployment.kubernetes.io/revision: 1\n",
      "Selector:               app=kubyterlab-llm\n",
      "Replicas:               1 desired | 1 updated | 1 total | 0 available | 1 unavailable\n",
      "StrategyType:           RollingUpdate\n",
      "MinReadySeconds:        0\n",
      "RollingUpdateStrategy:  25% max unavailable, 25% max surge\n",
      "Pod Template:\n",
      "  Labels:  app=kubyterlab-llm\n",
      "  Containers:\n",
      "   kubyterlab-llm:\n",
      "    Image:      kubyterlab:24.10\n",
      "    Port:       8888/TCP\n",
      "    Host Port:  0/TCP\n",
      "    Limits:\n",
      "      cpu:             1\n",
      "      memory:          8Gi\n",
      "      nvidia.com/gpu:  1\n",
      "    Requests:\n",
      "      cpu:             1\n",
      "      memory:          8Gi\n",
      "      nvidia.com/gpu:  1\n",
      "    Environment:\n",
      "      JUPYTERLAB_SETTINGS_DIR:  /jupyterlab/config\n",
      "      MISTRAL_MODEL:            /models/mistral\n",
      "    Mounts:\n",
      "      /corpus from pv-llm (rw)\n",
      "      /jupyterlab from pv-llm (rw)\n",
      "      /models from pv-llm (rw)\n",
      "  Volumes:\n",
      "   pv-llm:\n",
      "    Type:          PersistentVolumeClaim (a reference to a PersistentVolumeClaim in the same namespace)\n",
      "    ClaimName:     pvc-llm\n",
      "    ReadOnly:      false\n",
      "  Node-Selectors:  <none>\n",
      "  Tolerations:     nvidia.com/gpu:NoSchedule op=Exists\n",
      "Conditions:\n",
      "  Type           Status  Reason\n",
      "  ----           ------  ------\n",
      "  Available      False   MinimumReplicasUnavailable\n",
      "  Progressing    True    ReplicaSetUpdated\n",
      "OldReplicaSets:  <none>\n",
      "NewReplicaSet:   kubyterlab-llm-pod-67f5cf95dc (1/1 replicas created)\n",
      "Events:\n",
      "  Type    Reason             Age    From                   Message\n",
      "  ----    ------             ----   ----                   -------\n",
      "  Normal  ScalingReplicaSet  5m46s  deployment-controller  Scaled up replica set kubyterlab-llm-pod-67f5cf95dc to 1\n"
     ]
    }
   ],
   "source": [
    "!kubectl describe deployment kubyterlab-llm-pod"
   ]
  },
  {
   "cell_type": "code",
   "execution_count": 42,
   "id": "ce402031-be81-4578-8877-15bcd40ad8e0",
   "metadata": {},
   "outputs": [
    {
     "name": "stdout",
     "output_type": "stream",
     "text": [
      "NAME                                          STATUS   ROLES    AGE   VERSION\n",
      "ip-10-0-1-191.ca-central-1.compute.internal   Ready    <none>   31m   v1.30.6-eks-94953ac\n"
     ]
    }
   ],
   "source": [
    "!kubectl get nodes"
   ]
  },
  {
   "cell_type": "code",
   "execution_count": 49,
   "id": "d0bb4314-1002-45c7-b0c2-4d706b5d533f",
   "metadata": {},
   "outputs": [
    {
     "name": "stdout",
     "output_type": "stream",
     "text": [
      "NAME               DATA   AGE\n",
      "kube-root-ca.crt   1      103m\n"
     ]
    }
   ],
   "source": [
    "!kubectl get configmap"
   ]
  },
  {
   "cell_type": "code",
   "execution_count": 65,
   "id": "6d65a766-6f17-413c-a7f5-9f8e07fd0a12",
   "metadata": {},
   "outputs": [
    {
     "name": "stdout",
     "output_type": "stream",
     "text": [
      "NAME                                     READY   STATUS    RESTARTS   AGE\n",
      "pod/ebs-csi-controller-59b6797bf-k2lh2   5/5     Running   0          125m\n",
      "pod/ebs-csi-controller-59b6797bf-rb2zq   5/5     Running   0          125m\n",
      "pod/ebs-csi-node-8l42k                   3/3     Running   0          125m\n",
      "pod/ebs-csi-node-hc4lq                   3/3     Running   0          125m\n",
      "\n",
      "NAME                          DESIRED   CURRENT   READY   UP-TO-DATE   AVAILABLE   NODE SELECTOR            AGE\n",
      "daemonset.apps/ebs-csi-node   2         2         2       2            2           kubernetes.io/os=linux   125m\n",
      "\n",
      "NAME                                 READY   UP-TO-DATE   AVAILABLE   AGE\n",
      "deployment.apps/ebs-csi-controller   2/2     2            2           125m\n",
      "\n",
      "NAME                                           DESIRED   CURRENT   READY   AGE\n",
      "replicaset.apps/ebs-csi-controller-59b6797bf   2         2         2       125m\n"
     ]
    }
   ],
   "source": [
    "!kubectl get all -l app.kubernetes.io/name=aws-ebs-csi-driver -n kube-system"
   ]
  },
  {
   "cell_type": "code",
   "execution_count": 68,
   "id": "3bf4b6bf-4a67-48e4-ba16-8207e90b7fce",
   "metadata": {},
   "outputs": [
    {
     "name": "stdout",
     "output_type": "stream",
     "text": [
      "{\n",
      "    \"OpenIDConnectProviderList\": []\n",
      "}\n"
     ]
    }
   ],
   "source": [
    "!aws iam list-open-id-connect-providers"
   ]
  },
  {
   "cell_type": "code",
   "execution_count": 87,
   "id": "65c00bf0-9326-417c-964f-530ab62c85da",
   "metadata": {},
   "outputs": [
    {
     "name": "stdout",
     "output_type": "stream",
     "text": [
      "Found 2 pods, using pod/ebs-csi-controller-59b6797bf-k2lh2\n",
      "I1223 16:24:32.293349       1 main.go:147] \"Region provided via AWS_REGION environment variable\" region=\"ca-central-1\"\n",
      "I1223 16:24:32.294752       1 driver.go:69] \"Driver Information\" Driver=\"ebs.csi.aws.com\" Version=\"v1.38.1\"\n",
      "I1223 18:04:43.332685       1 controller.go:410] \"ControllerPublishVolume: attaching\" volumeID=\"vol-08036a0c5d4471e2d\" nodeID=\"i-0d29b5066e2e23a31\"\n",
      "E1223 18:04:48.868648       1 batcher.go:161] \"execute: error executing batch\" err=\"error listing AWS instances: operation error EC2: DescribeInstances, get identity: get credentials: failed to refresh cached credentials, failed to retrieve credentials, operation error STS: AssumeRoleWithWebIdentity, exceeded maximum number of attempts, 3, https response error StatusCode: 400, RequestID: 11016048-8564-4225-ba6b-55d74f97cb8a, InvalidIdentityToken: No OpenIDConnect provider found in your account for https://oidc.eks.ca-central-1.amazonaws.com/id/4FB04E75229E24476C49CBB7BDC2959D\"\n",
      "E1223 18:04:48.868705       1 driver.go:108] \"GRPC error\" err=\"rpc error: code = Internal desc = Could not attach volume \\\"vol-08036a0c5d4471e2d\\\" to node \\\"i-0d29b5066e2e23a31\\\": error listing AWS instances: operation error EC2: DescribeInstances, get identity: get credentials: failed to refresh cached credentials, failed to retrieve credentials, operation error STS: AssumeRoleWithWebIdentity, exceeded maximum number of attempts, 3, https response error StatusCode: 400, RequestID: 11016048-8564-4225-ba6b-55d74f97cb8a, InvalidIdentityToken: No OpenIDConnect provider found in your account for https://oidc.eks.ca-central-1.amazonaws.com/id/4FB04E75229E24476C49CBB7BDC2959D\"\n",
      "I1223 18:04:48.876390       1 controller.go:410] \"ControllerPublishVolume: attaching\" volumeID=\"vol-08036a0c5d4471e2d\" nodeID=\"i-0d29b5066e2e23a31\"\n",
      "E1223 18:04:50.241740       1 batcher.go:161] \"execute: error executing batch\" err=\"error listing AWS instances: operation error EC2: DescribeInstances, get identity: get credentials: failed to refresh cached credentials, failed to retrieve credentials, operation error STS: AssumeRoleWithWebIdentity, exceeded maximum number of attempts, 3, https response error StatusCode: 400, RequestID: 1aa2059c-420a-48d5-b5b1-9f4cc12b1525, InvalidIdentityToken: No OpenIDConnect provider found in your account for https://oidc.eks.ca-central-1.amazonaws.com/id/4FB04E75229E24476C49CBB7BDC2959D\"\n",
      "E1223 18:04:50.242080       1 driver.go:108] \"GRPC error\" err=\"rpc error: code = Internal desc = Could not attach volume \\\"vol-08036a0c5d4471e2d\\\" to node \\\"i-0d29b5066e2e23a31\\\": error listing AWS instances: operation error EC2: DescribeInstances, get identity: get credentials: failed to refresh cached credentials, failed to retrieve credentials, operation error STS: AssumeRoleWithWebIdentity, exceeded maximum number of attempts, 3, https response error StatusCode: 400, RequestID: 1aa2059c-420a-48d5-b5b1-9f4cc12b1525, InvalidIdentityToken: No OpenIDConnect provider found in your account for https://oidc.eks.ca-central-1.amazonaws.com/id/4FB04E75229E24476C49CBB7BDC2959D\"\n",
      "I1223 18:04:50.258264       1 controller.go:410] \"ControllerPublishVolume: attaching\" volumeID=\"vol-08036a0c5d4471e2d\" nodeID=\"i-0d29b5066e2e23a31\"\n",
      "E1223 18:04:54.422544       1 batcher.go:161] \"execute: error executing batch\" err=\"error listing AWS instances: operation error EC2: DescribeInstances, get identity: get credentials: failed to refresh cached credentials, failed to retrieve credentials, operation error STS: AssumeRoleWithWebIdentity, exceeded maximum number of attempts, 3, https response error StatusCode: 400, RequestID: fce2ef6a-049d-4654-8775-340886babc78, InvalidIdentityToken: No OpenIDConnect provider found in your account for https://oidc.eks.ca-central-1.amazonaws.com/id/4FB04E75229E24476C49CBB7BDC2959D\"\n",
      "E1223 18:04:54.423513       1 driver.go:108] \"GRPC error\" err=\"rpc error: code = Internal desc = Could not attach volume \\\"vol-08036a0c5d4471e2d\\\" to node \\\"i-0d29b5066e2e23a31\\\": error listing AWS instances: operation error EC2: DescribeInstances, get identity: get credentials: failed to refresh cached credentials, failed to retrieve credentials, operation error STS: AssumeRoleWithWebIdentity, exceeded maximum number of attempts, 3, https response error StatusCode: 400, RequestID: fce2ef6a-049d-4654-8775-340886babc78, InvalidIdentityToken: No OpenIDConnect provider found in your account for https://oidc.eks.ca-central-1.amazonaws.com/id/4FB04E75229E24476C49CBB7BDC2959D\"\n",
      "I1223 18:04:54.431824       1 controller.go:410] \"ControllerPublishVolume: attaching\" volumeID=\"vol-08036a0c5d4471e2d\" nodeID=\"i-0d29b5066e2e23a31\"\n",
      "E1223 18:04:56.642802       1 batcher.go:161] \"execute: error executing batch\" err=\"error listing AWS instances: operation error EC2: DescribeInstances, get identity: get credentials: failed to refresh cached credentials, failed to retrieve credentials, operation error STS: AssumeRoleWithWebIdentity, exceeded maximum number of attempts, 3, https response error StatusCode: 400, RequestID: 6bdc72d8-e1e8-44cf-92e3-1aea85b42b35, InvalidIdentityToken: No OpenIDConnect provider found in your account for https://oidc.eks.ca-central-1.amazonaws.com/id/4FB04E75229E24476C49CBB7BDC2959D\"\n",
      "E1223 18:04:56.642874       1 driver.go:108] \"GRPC error\" err=\"rpc error: code = Internal desc = Could not attach volume \\\"vol-08036a0c5d4471e2d\\\" to node \\\"i-0d29b5066e2e23a31\\\": error listing AWS instances: operation error EC2: DescribeInstances, get identity: get credentials: failed to refresh cached credentials, failed to retrieve credentials, operation error STS: AssumeRoleWithWebIdentity, exceeded maximum number of attempts, 3, https response error StatusCode: 400, RequestID: 6bdc72d8-e1e8-44cf-92e3-1aea85b42b35, InvalidIdentityToken: No OpenIDConnect provider found in your account for https://oidc.eks.ca-central-1.amazonaws.com/id/4FB04E75229E24476C49CBB7BDC2959D\"\n",
      "I1223 18:04:58.431656       1 controller.go:410] \"ControllerPublishVolume: attaching\" volumeID=\"vol-08036a0c5d4471e2d\" nodeID=\"i-0d29b5066e2e23a31\"\n",
      "E1223 18:04:59.428852       1 batcher.go:161] \"execute: error executing batch\" err=\"error listing AWS instances: operation error EC2: DescribeInstances, get identity: get credentials: failed to refresh cached credentials, failed to retrieve credentials, operation error STS: AssumeRoleWithWebIdentity, exceeded maximum number of attempts, 3, https response error StatusCode: 400, RequestID: 3a62ad06-0149-46e8-9eaf-e78a3f6edd18, InvalidIdentityToken: No OpenIDConnect provider found in your account for https://oidc.eks.ca-central-1.amazonaws.com/id/4FB04E75229E24476C49CBB7BDC2959D\"\n",
      "E1223 18:04:59.428943       1 driver.go:108] \"GRPC error\" err=\"rpc error: code = Internal desc = Could not attach volume \\\"vol-08036a0c5d4471e2d\\\" to node \\\"i-0d29b5066e2e23a31\\\": error listing AWS instances: operation error EC2: DescribeInstances, get identity: get credentials: failed to refresh cached credentials, failed to retrieve credentials, operation error STS: AssumeRoleWithWebIdentity, exceeded maximum number of attempts, 3, https response error StatusCode: 400, RequestID: 3a62ad06-0149-46e8-9eaf-e78a3f6edd18, InvalidIdentityToken: No OpenIDConnect provider found in your account for https://oidc.eks.ca-central-1.amazonaws.com/id/4FB04E75229E24476C49CBB7BDC2959D\"\n",
      "I1223 18:05:15.441959       1 controller.go:410] \"ControllerPublishVolume: attaching\" volumeID=\"vol-08036a0c5d4471e2d\" nodeID=\"i-0d29b5066e2e23a31\"\n",
      "E1223 18:05:17.237555       1 batcher.go:161] \"execute: error executing batch\" err=\"error listing AWS instances: operation error EC2: DescribeInstances, get identity: get credentials: failed to refresh cached credentials, failed to retrieve credentials, operation error STS: AssumeRoleWithWebIdentity, exceeded maximum number of attempts, 3, https response error StatusCode: 400, RequestID: 54ecde19-0511-4344-bb44-01d692a72647, InvalidIdentityToken: No OpenIDConnect provider found in your account for https://oidc.eks.ca-central-1.amazonaws.com/id/4FB04E75229E24476C49CBB7BDC2959D\"\n",
      "E1223 18:05:17.237624       1 driver.go:108] \"GRPC error\" err=\"rpc error: code = Internal desc = Could not attach volume \\\"vol-08036a0c5d4471e2d\\\" to node \\\"i-0d29b5066e2e23a31\\\": error listing AWS instances: operation error EC2: DescribeInstances, get identity: get credentials: failed to refresh cached credentials, failed to retrieve credentials, operation error STS: AssumeRoleWithWebIdentity, exceeded maximum number of attempts, 3, https response error StatusCode: 400, RequestID: 54ecde19-0511-4344-bb44-01d692a72647, InvalidIdentityToken: No OpenIDConnect provider found in your account for https://oidc.eks.ca-central-1.amazonaws.com/id/4FB04E75229E24476C49CBB7BDC2959D\"\n",
      "I1223 18:05:49.246919       1 controller.go:410] \"ControllerPublishVolume: attaching\" volumeID=\"vol-08036a0c5d4471e2d\" nodeID=\"i-0d29b5066e2e23a31\"\n",
      "E1223 18:05:53.618124       1 batcher.go:161] \"execute: error executing batch\" err=\"error listing AWS instances: operation error EC2: DescribeInstances, get identity: get credentials: failed to refresh cached credentials, failed to retrieve credentials, operation error STS: AssumeRoleWithWebIdentity, exceeded maximum number of attempts, 3, https response error StatusCode: 400, RequestID: 265bfb14-82da-462c-a5ba-dba821597201, InvalidIdentityToken: No OpenIDConnect provider found in your account for https://oidc.eks.ca-central-1.amazonaws.com/id/4FB04E75229E24476C49CBB7BDC2959D\"\n",
      "E1223 18:05:53.618175       1 driver.go:108] \"GRPC error\" err=\"rpc error: code = Internal desc = Could not attach volume \\\"vol-08036a0c5d4471e2d\\\" to node \\\"i-0d29b5066e2e23a31\\\": error listing AWS instances: operation error EC2: DescribeInstances, get identity: get credentials: failed to refresh cached credentials, failed to retrieve credentials, operation error STS: AssumeRoleWithWebIdentity, exceeded maximum number of attempts, 3, https response error StatusCode: 400, RequestID: 265bfb14-82da-462c-a5ba-dba821597201, InvalidIdentityToken: No OpenIDConnect provider found in your account for https://oidc.eks.ca-central-1.amazonaws.com/id/4FB04E75229E24476C49CBB7BDC2959D\"\n",
      "I1223 18:06:57.630956       1 controller.go:410] \"ControllerPublishVolume: attaching\" volumeID=\"vol-08036a0c5d4471e2d\" nodeID=\"i-0d29b5066e2e23a31\"\n",
      "E1223 18:06:59.096189       1 batcher.go:161] \"execute: error executing batch\" err=\"error listing AWS instances: operation error EC2: DescribeInstances, get identity: get credentials: failed to refresh cached credentials, failed to retrieve credentials, operation error STS: AssumeRoleWithWebIdentity, exceeded maximum number of attempts, 3, https response error StatusCode: 400, RequestID: ae36f109-938a-4bab-8701-e391b9164591, InvalidIdentityToken: No OpenIDConnect provider found in your account for https://oidc.eks.ca-central-1.amazonaws.com/id/4FB04E75229E24476C49CBB7BDC2959D\"\n",
      "E1223 18:06:59.096236       1 driver.go:108] \"GRPC error\" err=\"rpc error: code = Internal desc = Could not attach volume \\\"vol-08036a0c5d4471e2d\\\" to node \\\"i-0d29b5066e2e23a31\\\": error listing AWS instances: operation error EC2: DescribeInstances, get identity: get credentials: failed to refresh cached credentials, failed to retrieve credentials, operation error STS: AssumeRoleWithWebIdentity, exceeded maximum number of attempts, 3, https response error StatusCode: 400, RequestID: ae36f109-938a-4bab-8701-e391b9164591, InvalidIdentityToken: No OpenIDConnect provider found in your account for https://oidc.eks.ca-central-1.amazonaws.com/id/4FB04E75229E24476C49CBB7BDC2959D\"\n",
      "I1223 18:09:07.106306       1 controller.go:410] \"ControllerPublishVolume: attaching\" volumeID=\"vol-08036a0c5d4471e2d\" nodeID=\"i-0d29b5066e2e23a31\"\n",
      "E1223 18:09:11.326779       1 batcher.go:161] \"execute: error executing batch\" err=\"error listing AWS instances: operation error EC2: DescribeInstances, get identity: get credentials: failed to refresh cached credentials, failed to retrieve credentials, operation error STS: AssumeRoleWithWebIdentity, exceeded maximum number of attempts, 3, https response error StatusCode: 400, RequestID: 55cf5007-ac8f-4d88-aff4-2f6204f716e6, InvalidIdentityToken: No OpenIDConnect provider found in your account for https://oidc.eks.ca-central-1.amazonaws.com/id/4FB04E75229E24476C49CBB7BDC2959D\"\n",
      "E1223 18:09:11.326835       1 driver.go:108] \"GRPC error\" err=\"rpc error: code = Internal desc = Could not attach volume \\\"vol-08036a0c5d4471e2d\\\" to node \\\"i-0d29b5066e2e23a31\\\": error listing AWS instances: operation error EC2: DescribeInstances, get identity: get credentials: failed to refresh cached credentials, failed to retrieve credentials, operation error STS: AssumeRoleWithWebIdentity, exceeded maximum number of attempts, 3, https response error StatusCode: 400, RequestID: 55cf5007-ac8f-4d88-aff4-2f6204f716e6, InvalidIdentityToken: No OpenIDConnect provider found in your account for https://oidc.eks.ca-central-1.amazonaws.com/id/4FB04E75229E24476C49CBB7BDC2959D\"\n",
      "I1223 18:13:27.334602       1 controller.go:410] \"ControllerPublishVolume: attaching\" volumeID=\"vol-08036a0c5d4471e2d\" nodeID=\"i-0d29b5066e2e23a31\"\n",
      "E1223 18:13:32.547727       1 batcher.go:161] \"execute: error executing batch\" err=\"error listing AWS instances: operation error EC2: DescribeInstances, get identity: get credentials: failed to refresh cached credentials, failed to retrieve credentials, operation error STS: AssumeRoleWithWebIdentity, exceeded maximum number of attempts, 3, https response error StatusCode: 400, RequestID: 746d0bba-bb33-4204-b9c4-7cd806ba23df, InvalidIdentityToken: No OpenIDConnect provider found in your account for https://oidc.eks.ca-central-1.amazonaws.com/id/4FB04E75229E24476C49CBB7BDC2959D\"\n",
      "E1223 18:13:32.547869       1 driver.go:108] \"GRPC error\" err=\"rpc error: code = Internal desc = Could not attach volume \\\"vol-08036a0c5d4471e2d\\\" to node \\\"i-0d29b5066e2e23a31\\\": error listing AWS instances: operation error EC2: DescribeInstances, get identity: get credentials: failed to refresh cached credentials, failed to retrieve credentials, operation error STS: AssumeRoleWithWebIdentity, exceeded maximum number of attempts, 3, https response error StatusCode: 400, RequestID: 746d0bba-bb33-4204-b9c4-7cd806ba23df, InvalidIdentityToken: No OpenIDConnect provider found in your account for https://oidc.eks.ca-central-1.amazonaws.com/id/4FB04E75229E24476C49CBB7BDC2959D\"\n",
      "I1223 18:14:36.086879       1 controller.go:410] \"ControllerPublishVolume: attaching\" volumeID=\"vol-08036a0c5d4471e2d\" nodeID=\"i-0d29b5066e2e23a31\"\n",
      "E1223 18:14:42.492775       1 batcher.go:161] \"execute: error executing batch\" err=\"error listing AWS instances: operation error EC2: DescribeInstances, get identity: get credentials: failed to refresh cached credentials, failed to retrieve credentials, operation error STS: AssumeRoleWithWebIdentity, exceeded maximum number of attempts, 3, https response error StatusCode: 400, RequestID: 47ce8663-823a-448b-9006-4532c3159458, InvalidIdentityToken: No OpenIDConnect provider found in your account for https://oidc.eks.ca-central-1.amazonaws.com/id/4FB04E75229E24476C49CBB7BDC2959D\"\n",
      "E1223 18:14:42.492818       1 driver.go:108] \"GRPC error\" err=\"rpc error: code = Internal desc = Could not attach volume \\\"vol-08036a0c5d4471e2d\\\" to node \\\"i-0d29b5066e2e23a31\\\": error listing AWS instances: operation error EC2: DescribeInstances, get identity: get credentials: failed to refresh cached credentials, failed to retrieve credentials, operation error STS: AssumeRoleWithWebIdentity, exceeded maximum number of attempts, 3, https response error StatusCode: 400, RequestID: 47ce8663-823a-448b-9006-4532c3159458, InvalidIdentityToken: No OpenIDConnect provider found in your account for https://oidc.eks.ca-central-1.amazonaws.com/id/4FB04E75229E24476C49CBB7BDC2959D\"\n",
      "I1223 18:18:32.556304       1 controller.go:410] \"ControllerPublishVolume: attaching\" volumeID=\"vol-08036a0c5d4471e2d\" nodeID=\"i-0d29b5066e2e23a31\"\n",
      "E1223 18:18:37.621152       1 batcher.go:161] \"execute: error executing batch\" err=\"error listing AWS instances: operation error EC2: DescribeInstances, get identity: get credentials: failed to refresh cached credentials, failed to retrieve credentials, operation error STS: AssumeRoleWithWebIdentity, exceeded maximum number of attempts, 3, https response error StatusCode: 400, RequestID: 0b3d6618-9bef-4626-a105-1868f89c0643, InvalidIdentityToken: No OpenIDConnect provider found in your account for https://oidc.eks.ca-central-1.amazonaws.com/id/4FB04E75229E24476C49CBB7BDC2959D\"\n",
      "E1223 18:18:37.621196       1 driver.go:108] \"GRPC error\" err=\"rpc error: code = Internal desc = Could not attach volume \\\"vol-08036a0c5d4471e2d\\\" to node \\\"i-0d29b5066e2e23a31\\\": error listing AWS instances: operation error EC2: DescribeInstances, get identity: get credentials: failed to refresh cached credentials, failed to retrieve credentials, operation error STS: AssumeRoleWithWebIdentity, exceeded maximum number of attempts, 3, https response error StatusCode: 400, RequestID: 0b3d6618-9bef-4626-a105-1868f89c0643, InvalidIdentityToken: No OpenIDConnect provider found in your account for https://oidc.eks.ca-central-1.amazonaws.com/id/4FB04E75229E24476C49CBB7BDC2959D\"\n",
      "I1223 18:23:37.631881       1 controller.go:410] \"ControllerPublishVolume: attaching\" volumeID=\"vol-08036a0c5d4471e2d\" nodeID=\"i-0d29b5066e2e23a31\"\n",
      "E1223 18:23:40.896480       1 batcher.go:161] \"execute: error executing batch\" err=\"error listing AWS instances: operation error EC2: DescribeInstances, get identity: get credentials: failed to refresh cached credentials, failed to retrieve credentials, operation error STS: AssumeRoleWithWebIdentity, exceeded maximum number of attempts, 3, https response error StatusCode: 400, RequestID: a1f579b5-9d32-4a7f-ad07-643afe46e3e2, InvalidIdentityToken: No OpenIDConnect provider found in your account for https://oidc.eks.ca-central-1.amazonaws.com/id/4FB04E75229E24476C49CBB7BDC2959D\"\n",
      "E1223 18:23:40.897408       1 driver.go:108] \"GRPC error\" err=\"rpc error: code = Internal desc = Could not attach volume \\\"vol-08036a0c5d4471e2d\\\" to node \\\"i-0d29b5066e2e23a31\\\": error listing AWS instances: operation error EC2: DescribeInstances, get identity: get credentials: failed to refresh cached credentials, failed to retrieve credentials, operation error STS: AssumeRoleWithWebIdentity, exceeded maximum number of attempts, 3, https response error StatusCode: 400, RequestID: a1f579b5-9d32-4a7f-ad07-643afe46e3e2, InvalidIdentityToken: No OpenIDConnect provider found in your account for https://oidc.eks.ca-central-1.amazonaws.com/id/4FB04E75229E24476C49CBB7BDC2959D\"\n",
      "I1223 18:24:36.086799       1 controller.go:410] \"ControllerPublishVolume: attaching\" volumeID=\"vol-08036a0c5d4471e2d\" nodeID=\"i-0d29b5066e2e23a31\"\n",
      "E1223 18:24:40.099542       1 batcher.go:161] \"execute: error executing batch\" err=\"error listing AWS instances: operation error EC2: DescribeInstances, get identity: get credentials: failed to refresh cached credentials, failed to retrieve credentials, operation error STS: AssumeRoleWithWebIdentity, exceeded maximum number of attempts, 3, https response error StatusCode: 400, RequestID: f1ffc1a7-b3c7-4295-84d4-cf6f135b3cfb, InvalidIdentityToken: No OpenIDConnect provider found in your account for https://oidc.eks.ca-central-1.amazonaws.com/id/4FB04E75229E24476C49CBB7BDC2959D\"\n",
      "E1223 18:24:40.099591       1 driver.go:108] \"GRPC error\" err=\"rpc error: code = Internal desc = Could not attach volume \\\"vol-08036a0c5d4471e2d\\\" to node \\\"i-0d29b5066e2e23a31\\\": error listing AWS instances: operation error EC2: DescribeInstances, get identity: get credentials: failed to refresh cached credentials, failed to retrieve credentials, operation error STS: AssumeRoleWithWebIdentity, exceeded maximum number of attempts, 3, https response error StatusCode: 400, RequestID: f1ffc1a7-b3c7-4295-84d4-cf6f135b3cfb, InvalidIdentityToken: No OpenIDConnect provider found in your account for https://oidc.eks.ca-central-1.amazonaws.com/id/4FB04E75229E24476C49CBB7BDC2959D\"\n",
      "I1223 18:28:40.913285       1 controller.go:410] \"ControllerPublishVolume: attaching\" volumeID=\"vol-08036a0c5d4471e2d\" nodeID=\"i-0d29b5066e2e23a31\"\n",
      "E1223 18:28:44.595896       1 batcher.go:161] \"execute: error executing batch\" err=\"error listing AWS instances: operation error EC2: DescribeInstances, get identity: get credentials: failed to refresh cached credentials, failed to retrieve credentials, operation error STS: AssumeRoleWithWebIdentity, exceeded maximum number of attempts, 3, https response error StatusCode: 400, RequestID: b24d797a-f41f-4ee7-bbbc-f2ec4fb60df9, InvalidIdentityToken: No OpenIDConnect provider found in your account for https://oidc.eks.ca-central-1.amazonaws.com/id/4FB04E75229E24476C49CBB7BDC2959D\"\n",
      "E1223 18:28:44.596010       1 driver.go:108] \"GRPC error\" err=\"rpc error: code = Internal desc = Could not attach volume \\\"vol-08036a0c5d4471e2d\\\" to node \\\"i-0d29b5066e2e23a31\\\": error listing AWS instances: operation error EC2: DescribeInstances, get identity: get credentials: failed to refresh cached credentials, failed to retrieve credentials, operation error STS: AssumeRoleWithWebIdentity, exceeded maximum number of attempts, 3, https response error StatusCode: 400, RequestID: b24d797a-f41f-4ee7-bbbc-f2ec4fb60df9, InvalidIdentityToken: No OpenIDConnect provider found in your account for https://oidc.eks.ca-central-1.amazonaws.com/id/4FB04E75229E24476C49CBB7BDC2959D\"\n",
      "I1223 18:33:44.609787       1 controller.go:410] \"ControllerPublishVolume: attaching\" volumeID=\"vol-08036a0c5d4471e2d\" nodeID=\"i-0d29b5066e2e23a31\"\n",
      "E1223 18:33:49.143905       1 batcher.go:161] \"execute: error executing batch\" err=\"error listing AWS instances: operation error EC2: DescribeInstances, get identity: get credentials: failed to refresh cached credentials, failed to retrieve credentials, operation error STS: AssumeRoleWithWebIdentity, exceeded maximum number of attempts, 3, https response error StatusCode: 400, RequestID: 26c635de-0a44-4b29-9299-674fdbfed300, InvalidIdentityToken: No OpenIDConnect provider found in your account for https://oidc.eks.ca-central-1.amazonaws.com/id/4FB04E75229E24476C49CBB7BDC2959D\"\n",
      "E1223 18:33:49.144086       1 driver.go:108] \"GRPC error\" err=\"rpc error: code = Internal desc = Could not attach volume \\\"vol-08036a0c5d4471e2d\\\" to node \\\"i-0d29b5066e2e23a31\\\": error listing AWS instances: operation error EC2: DescribeInstances, get identity: get credentials: failed to refresh cached credentials, failed to retrieve credentials, operation error STS: AssumeRoleWithWebIdentity, exceeded maximum number of attempts, 3, https response error StatusCode: 400, RequestID: 26c635de-0a44-4b29-9299-674fdbfed300, InvalidIdentityToken: No OpenIDConnect provider found in your account for https://oidc.eks.ca-central-1.amazonaws.com/id/4FB04E75229E24476C49CBB7BDC2959D\"\n",
      "I1223 18:34:36.086864       1 controller.go:410] \"ControllerPublishVolume: attaching\" volumeID=\"vol-08036a0c5d4471e2d\" nodeID=\"i-0d29b5066e2e23a31\"\n",
      "E1223 18:34:42.157386       1 batcher.go:161] \"execute: error executing batch\" err=\"error listing AWS instances: operation error EC2: DescribeInstances, get identity: get credentials: failed to refresh cached credentials, failed to retrieve credentials, operation error STS: AssumeRoleWithWebIdentity, exceeded maximum number of attempts, 3, https response error StatusCode: 400, RequestID: 29345fa2-72bb-424d-8909-3e1c1a7be10c, InvalidIdentityToken: No OpenIDConnect provider found in your account for https://oidc.eks.ca-central-1.amazonaws.com/id/4FB04E75229E24476C49CBB7BDC2959D\"\n",
      "E1223 18:34:42.157488       1 driver.go:108] \"GRPC error\" err=\"rpc error: code = Internal desc = Could not attach volume \\\"vol-08036a0c5d4471e2d\\\" to node \\\"i-0d29b5066e2e23a31\\\": error listing AWS instances: operation error EC2: DescribeInstances, get identity: get credentials: failed to refresh cached credentials, failed to retrieve credentials, operation error STS: AssumeRoleWithWebIdentity, exceeded maximum number of attempts, 3, https response error StatusCode: 400, RequestID: 29345fa2-72bb-424d-8909-3e1c1a7be10c, InvalidIdentityToken: No OpenIDConnect provider found in your account for https://oidc.eks.ca-central-1.amazonaws.com/id/4FB04E75229E24476C49CBB7BDC2959D\"\n",
      "I1223 18:38:49.150860       1 controller.go:410] \"ControllerPublishVolume: attaching\" volumeID=\"vol-08036a0c5d4471e2d\" nodeID=\"i-0d29b5066e2e23a31\"\n",
      "E1223 18:38:53.763199       1 batcher.go:161] \"execute: error executing batch\" err=\"error listing AWS instances: operation error EC2: DescribeInstances, get identity: get credentials: failed to refresh cached credentials, failed to retrieve credentials, operation error STS: AssumeRoleWithWebIdentity, exceeded maximum number of attempts, 3, https response error StatusCode: 400, RequestID: a08604e5-2729-49fd-ad60-4a321a1b9d1c, InvalidIdentityToken: No OpenIDConnect provider found in your account for https://oidc.eks.ca-central-1.amazonaws.com/id/4FB04E75229E24476C49CBB7BDC2959D\"\n",
      "E1223 18:38:53.763244       1 driver.go:108] \"GRPC error\" err=\"rpc error: code = Internal desc = Could not attach volume \\\"vol-08036a0c5d4471e2d\\\" to node \\\"i-0d29b5066e2e23a31\\\": error listing AWS instances: operation error EC2: DescribeInstances, get identity: get credentials: failed to refresh cached credentials, failed to retrieve credentials, operation error STS: AssumeRoleWithWebIdentity, exceeded maximum number of attempts, 3, https response error StatusCode: 400, RequestID: a08604e5-2729-49fd-ad60-4a321a1b9d1c, InvalidIdentityToken: No OpenIDConnect provider found in your account for https://oidc.eks.ca-central-1.amazonaws.com/id/4FB04E75229E24476C49CBB7BDC2959D\"\n",
      "I1223 18:43:53.774470       1 controller.go:410] \"ControllerPublishVolume: attaching\" volumeID=\"vol-08036a0c5d4471e2d\" nodeID=\"i-0d29b5066e2e23a31\"\n",
      "E1223 18:43:58.261459       1 batcher.go:161] \"execute: error executing batch\" err=\"error listing AWS instances: operation error EC2: DescribeInstances, get identity: get credentials: failed to refresh cached credentials, failed to retrieve credentials, operation error STS: AssumeRoleWithWebIdentity, exceeded maximum number of attempts, 3, https response error StatusCode: 400, RequestID: 88976027-efcc-4066-9714-5cac8d6add6e, InvalidIdentityToken: No OpenIDConnect provider found in your account for https://oidc.eks.ca-central-1.amazonaws.com/id/4FB04E75229E24476C49CBB7BDC2959D\"\n",
      "E1223 18:43:58.261509       1 driver.go:108] \"GRPC error\" err=\"rpc error: code = Internal desc = Could not attach volume \\\"vol-08036a0c5d4471e2d\\\" to node \\\"i-0d29b5066e2e23a31\\\": error listing AWS instances: operation error EC2: DescribeInstances, get identity: get credentials: failed to refresh cached credentials, failed to retrieve credentials, operation error STS: AssumeRoleWithWebIdentity, exceeded maximum number of attempts, 3, https response error StatusCode: 400, RequestID: 88976027-efcc-4066-9714-5cac8d6add6e, InvalidIdentityToken: No OpenIDConnect provider found in your account for https://oidc.eks.ca-central-1.amazonaws.com/id/4FB04E75229E24476C49CBB7BDC2959D\"\n",
      "I1223 18:44:36.087179       1 controller.go:410] \"ControllerPublishVolume: attaching\" volumeID=\"vol-08036a0c5d4471e2d\" nodeID=\"i-0d29b5066e2e23a31\"\n",
      "E1223 18:44:39.287177       1 batcher.go:161] \"execute: error executing batch\" err=\"error listing AWS instances: operation error EC2: DescribeInstances, get identity: get credentials: failed to refresh cached credentials, failed to retrieve credentials, operation error STS: AssumeRoleWithWebIdentity, exceeded maximum number of attempts, 3, https response error StatusCode: 400, RequestID: 847b68fd-da06-42d2-9723-977b458e1df7, InvalidIdentityToken: No OpenIDConnect provider found in your account for https://oidc.eks.ca-central-1.amazonaws.com/id/4FB04E75229E24476C49CBB7BDC2959D\"\n",
      "E1223 18:44:39.287224       1 driver.go:108] \"GRPC error\" err=\"rpc error: code = Internal desc = Could not attach volume \\\"vol-08036a0c5d4471e2d\\\" to node \\\"i-0d29b5066e2e23a31\\\": error listing AWS instances: operation error EC2: DescribeInstances, get identity: get credentials: failed to refresh cached credentials, failed to retrieve credentials, operation error STS: AssumeRoleWithWebIdentity, exceeded maximum number of attempts, 3, https response error StatusCode: 400, RequestID: 847b68fd-da06-42d2-9723-977b458e1df7, InvalidIdentityToken: No OpenIDConnect provider found in your account for https://oidc.eks.ca-central-1.amazonaws.com/id/4FB04E75229E24476C49CBB7BDC2959D\"\n",
      "I1223 18:48:58.272500       1 controller.go:410] \"ControllerPublishVolume: attaching\" volumeID=\"vol-08036a0c5d4471e2d\" nodeID=\"i-0d29b5066e2e23a31\"\n",
      "E1223 18:49:00.400439       1 batcher.go:161] \"execute: error executing batch\" err=\"error listing AWS instances: operation error EC2: DescribeInstances, get identity: get credentials: failed to refresh cached credentials, failed to retrieve credentials, operation error STS: AssumeRoleWithWebIdentity, exceeded maximum number of attempts, 3, https response error StatusCode: 400, RequestID: 7232750f-b1f5-492c-806c-35d6ba6df160, InvalidIdentityToken: No OpenIDConnect provider found in your account for https://oidc.eks.ca-central-1.amazonaws.com/id/4FB04E75229E24476C49CBB7BDC2959D\"\n",
      "E1223 18:49:00.400485       1 driver.go:108] \"GRPC error\" err=\"rpc error: code = Internal desc = Could not attach volume \\\"vol-08036a0c5d4471e2d\\\" to node \\\"i-0d29b5066e2e23a31\\\": error listing AWS instances: operation error EC2: DescribeInstances, get identity: get credentials: failed to refresh cached credentials, failed to retrieve credentials, operation error STS: AssumeRoleWithWebIdentity, exceeded maximum number of attempts, 3, https response error StatusCode: 400, RequestID: 7232750f-b1f5-492c-806c-35d6ba6df160, InvalidIdentityToken: No OpenIDConnect provider found in your account for https://oidc.eks.ca-central-1.amazonaws.com/id/4FB04E75229E24476C49CBB7BDC2959D\"\n",
      "I1223 18:54:00.409567       1 controller.go:410] \"ControllerPublishVolume: attaching\" volumeID=\"vol-08036a0c5d4471e2d\" nodeID=\"i-0d29b5066e2e23a31\"\n",
      "E1223 18:54:02.917117       1 batcher.go:161] \"execute: error executing batch\" err=\"error listing AWS instances: operation error EC2: DescribeInstances, get identity: get credentials: failed to refresh cached credentials, failed to retrieve credentials, operation error STS: AssumeRoleWithWebIdentity, exceeded maximum number of attempts, 3, https response error StatusCode: 400, RequestID: 06894953-26a5-4298-a40b-1555a4be8807, InvalidIdentityToken: No OpenIDConnect provider found in your account for https://oidc.eks.ca-central-1.amazonaws.com/id/4FB04E75229E24476C49CBB7BDC2959D\"\n",
      "E1223 18:54:02.917190       1 driver.go:108] \"GRPC error\" err=\"rpc error: code = Internal desc = Could not attach volume \\\"vol-08036a0c5d4471e2d\\\" to node \\\"i-0d29b5066e2e23a31\\\": error listing AWS instances: operation error EC2: DescribeInstances, get identity: get credentials: failed to refresh cached credentials, failed to retrieve credentials, operation error STS: AssumeRoleWithWebIdentity, exceeded maximum number of attempts, 3, https response error StatusCode: 400, RequestID: 06894953-26a5-4298-a40b-1555a4be8807, InvalidIdentityToken: No OpenIDConnect provider found in your account for https://oidc.eks.ca-central-1.amazonaws.com/id/4FB04E75229E24476C49CBB7BDC2959D\"\n",
      "I1223 18:54:36.087945       1 controller.go:410] \"ControllerPublishVolume: attaching\" volumeID=\"vol-08036a0c5d4471e2d\" nodeID=\"i-0d29b5066e2e23a31\"\n",
      "E1223 18:54:38.528064       1 batcher.go:161] \"execute: error executing batch\" err=\"error listing AWS instances: operation error EC2: DescribeInstances, get identity: get credentials: failed to refresh cached credentials, failed to retrieve credentials, operation error STS: AssumeRoleWithWebIdentity, exceeded maximum number of attempts, 3, https response error StatusCode: 400, RequestID: 0ebcf015-a93a-4da9-8f29-e4b5007f1fed, InvalidIdentityToken: No OpenIDConnect provider found in your account for https://oidc.eks.ca-central-1.amazonaws.com/id/4FB04E75229E24476C49CBB7BDC2959D\"\n",
      "E1223 18:54:38.528117       1 driver.go:108] \"GRPC error\" err=\"rpc error: code = Internal desc = Could not attach volume \\\"vol-08036a0c5d4471e2d\\\" to node \\\"i-0d29b5066e2e23a31\\\": error listing AWS instances: operation error EC2: DescribeInstances, get identity: get credentials: failed to refresh cached credentials, failed to retrieve credentials, operation error STS: AssumeRoleWithWebIdentity, exceeded maximum number of attempts, 3, https response error StatusCode: 400, RequestID: 0ebcf015-a93a-4da9-8f29-e4b5007f1fed, InvalidIdentityToken: No OpenIDConnect provider found in your account for https://oidc.eks.ca-central-1.amazonaws.com/id/4FB04E75229E24476C49CBB7BDC2959D\"\n",
      "I1223 18:59:02.963285       1 controller.go:410] \"ControllerPublishVolume: attaching\" volumeID=\"vol-08036a0c5d4471e2d\" nodeID=\"i-0d29b5066e2e23a31\"\n",
      "E1223 18:59:07.704816       1 batcher.go:161] \"execute: error executing batch\" err=\"error listing AWS instances: operation error EC2: DescribeInstances, get identity: get credentials: failed to refresh cached credentials, failed to retrieve credentials, operation error STS: AssumeRoleWithWebIdentity, exceeded maximum number of attempts, 3, https response error StatusCode: 400, RequestID: 1e39179b-51fd-4332-abf8-f55e09fdd051, InvalidIdentityToken: No OpenIDConnect provider found in your account for https://oidc.eks.ca-central-1.amazonaws.com/id/4FB04E75229E24476C49CBB7BDC2959D\"\n",
      "E1223 18:59:07.704859       1 driver.go:108] \"GRPC error\" err=\"rpc error: code = Internal desc = Could not attach volume \\\"vol-08036a0c5d4471e2d\\\" to node \\\"i-0d29b5066e2e23a31\\\": error listing AWS instances: operation error EC2: DescribeInstances, get identity: get credentials: failed to refresh cached credentials, failed to retrieve credentials, operation error STS: AssumeRoleWithWebIdentity, exceeded maximum number of attempts, 3, https response error StatusCode: 400, RequestID: 1e39179b-51fd-4332-abf8-f55e09fdd051, InvalidIdentityToken: No OpenIDConnect provider found in your account for https://oidc.eks.ca-central-1.amazonaws.com/id/4FB04E75229E24476C49CBB7BDC2959D\"\n",
      "I1223 19:04:07.718049       1 controller.go:410] \"ControllerPublishVolume: attaching\" volumeID=\"vol-08036a0c5d4471e2d\" nodeID=\"i-0d29b5066e2e23a31\"\n",
      "E1223 19:04:11.187361       1 batcher.go:161] \"execute: error executing batch\" err=\"error listing AWS instances: operation error EC2: DescribeInstances, get identity: get credentials: failed to refresh cached credentials, failed to retrieve credentials, operation error STS: AssumeRoleWithWebIdentity, exceeded maximum number of attempts, 3, https response error StatusCode: 400, RequestID: aaa546db-cdcd-4383-b7df-bebc274442fb, InvalidIdentityToken: No OpenIDConnect provider found in your account for https://oidc.eks.ca-central-1.amazonaws.com/id/4FB04E75229E24476C49CBB7BDC2959D\"\n",
      "E1223 19:04:11.187412       1 driver.go:108] \"GRPC error\" err=\"rpc error: code = Internal desc = Could not attach volume \\\"vol-08036a0c5d4471e2d\\\" to node \\\"i-0d29b5066e2e23a31\\\": error listing AWS instances: operation error EC2: DescribeInstances, get identity: get credentials: failed to refresh cached credentials, failed to retrieve credentials, operation error STS: AssumeRoleWithWebIdentity, exceeded maximum number of attempts, 3, https response error StatusCode: 400, RequestID: aaa546db-cdcd-4383-b7df-bebc274442fb, InvalidIdentityToken: No OpenIDConnect provider found in your account for https://oidc.eks.ca-central-1.amazonaws.com/id/4FB04E75229E24476C49CBB7BDC2959D\"\n",
      "I1223 19:04:36.088416       1 controller.go:410] \"ControllerPublishVolume: attaching\" volumeID=\"vol-08036a0c5d4471e2d\" nodeID=\"i-0d29b5066e2e23a31\"\n",
      "E1223 19:04:39.484554       1 batcher.go:161] \"execute: error executing batch\" err=\"error listing AWS instances: operation error EC2: DescribeInstances, get identity: get credentials: failed to refresh cached credentials, failed to retrieve credentials, operation error STS: AssumeRoleWithWebIdentity, exceeded maximum number of attempts, 3, https response error StatusCode: 400, RequestID: 0a78b066-e651-4044-baed-3aa8d85b7354, InvalidIdentityToken: No OpenIDConnect provider found in your account for https://oidc.eks.ca-central-1.amazonaws.com/id/4FB04E75229E24476C49CBB7BDC2959D\"\n",
      "E1223 19:04:39.484604       1 driver.go:108] \"GRPC error\" err=\"rpc error: code = Internal desc = Could not attach volume \\\"vol-08036a0c5d4471e2d\\\" to node \\\"i-0d29b5066e2e23a31\\\": error listing AWS instances: operation error EC2: DescribeInstances, get identity: get credentials: failed to refresh cached credentials, failed to retrieve credentials, operation error STS: AssumeRoleWithWebIdentity, exceeded maximum number of attempts, 3, https response error StatusCode: 400, RequestID: 0a78b066-e651-4044-baed-3aa8d85b7354, InvalidIdentityToken: No OpenIDConnect provider found in your account for https://oidc.eks.ca-central-1.amazonaws.com/id/4FB04E75229E24476C49CBB7BDC2959D\"\n",
      "I1223 19:09:11.196267       1 controller.go:410] \"ControllerPublishVolume: attaching\" volumeID=\"vol-08036a0c5d4471e2d\" nodeID=\"i-0d29b5066e2e23a31\"\n",
      "E1223 19:09:13.138797       1 batcher.go:161] \"execute: error executing batch\" err=\"error listing AWS instances: operation error EC2: DescribeInstances, get identity: get credentials: failed to refresh cached credentials, failed to retrieve credentials, operation error STS: AssumeRoleWithWebIdentity, exceeded maximum number of attempts, 3, https response error StatusCode: 400, RequestID: 0d88520d-1fef-4d21-bc37-8c3e64a9ad5e, InvalidIdentityToken: No OpenIDConnect provider found in your account for https://oidc.eks.ca-central-1.amazonaws.com/id/4FB04E75229E24476C49CBB7BDC2959D\"\n",
      "E1223 19:09:13.138850       1 driver.go:108] \"GRPC error\" err=\"rpc error: code = Internal desc = Could not attach volume \\\"vol-08036a0c5d4471e2d\\\" to node \\\"i-0d29b5066e2e23a31\\\": error listing AWS instances: operation error EC2: DescribeInstances, get identity: get credentials: failed to refresh cached credentials, failed to retrieve credentials, operation error STS: AssumeRoleWithWebIdentity, exceeded maximum number of attempts, 3, https response error StatusCode: 400, RequestID: 0d88520d-1fef-4d21-bc37-8c3e64a9ad5e, InvalidIdentityToken: No OpenIDConnect provider found in your account for https://oidc.eks.ca-central-1.amazonaws.com/id/4FB04E75229E24476C49CBB7BDC2959D\"\n",
      "I1223 19:14:13.148373       1 controller.go:410] \"ControllerPublishVolume: attaching\" volumeID=\"vol-08036a0c5d4471e2d\" nodeID=\"i-0d29b5066e2e23a31\"\n",
      "E1223 19:14:17.229622       1 batcher.go:161] \"execute: error executing batch\" err=\"error listing AWS instances: operation error EC2: DescribeInstances, get identity: get credentials: failed to refresh cached credentials, failed to retrieve credentials, operation error STS: AssumeRoleWithWebIdentity, exceeded maximum number of attempts, 3, https response error StatusCode: 400, RequestID: ce1a7a7d-adeb-4395-83bf-90dd7f1e4a33, InvalidIdentityToken: No OpenIDConnect provider found in your account for https://oidc.eks.ca-central-1.amazonaws.com/id/4FB04E75229E24476C49CBB7BDC2959D\"\n",
      "E1223 19:14:17.229750       1 driver.go:108] \"GRPC error\" err=\"rpc error: code = Internal desc = Could not attach volume \\\"vol-08036a0c5d4471e2d\\\" to node \\\"i-0d29b5066e2e23a31\\\": error listing AWS instances: operation error EC2: DescribeInstances, get identity: get credentials: failed to refresh cached credentials, failed to retrieve credentials, operation error STS: AssumeRoleWithWebIdentity, exceeded maximum number of attempts, 3, https response error StatusCode: 400, RequestID: ce1a7a7d-adeb-4395-83bf-90dd7f1e4a33, InvalidIdentityToken: No OpenIDConnect provider found in your account for https://oidc.eks.ca-central-1.amazonaws.com/id/4FB04E75229E24476C49CBB7BDC2959D\"\n",
      "I1223 19:14:36.089354       1 controller.go:410] \"ControllerPublishVolume: attaching\" volumeID=\"vol-08036a0c5d4471e2d\" nodeID=\"i-0d29b5066e2e23a31\"\n",
      "E1223 19:14:40.048253       1 batcher.go:161] \"execute: error executing batch\" err=\"error listing AWS instances: operation error EC2: DescribeInstances, get identity: get credentials: failed to refresh cached credentials, failed to retrieve credentials, operation error STS: AssumeRoleWithWebIdentity, exceeded maximum number of attempts, 3, https response error StatusCode: 400, RequestID: 332ce568-6c98-49cb-be5a-1ab652e68122, InvalidIdentityToken: No OpenIDConnect provider found in your account for https://oidc.eks.ca-central-1.amazonaws.com/id/4FB04E75229E24476C49CBB7BDC2959D\"\n",
      "E1223 19:14:40.048306       1 driver.go:108] \"GRPC error\" err=\"rpc error: code = Internal desc = Could not attach volume \\\"vol-08036a0c5d4471e2d\\\" to node \\\"i-0d29b5066e2e23a31\\\": error listing AWS instances: operation error EC2: DescribeInstances, get identity: get credentials: failed to refresh cached credentials, failed to retrieve credentials, operation error STS: AssumeRoleWithWebIdentity, exceeded maximum number of attempts, 3, https response error StatusCode: 400, RequestID: 332ce568-6c98-49cb-be5a-1ab652e68122, InvalidIdentityToken: No OpenIDConnect provider found in your account for https://oidc.eks.ca-central-1.amazonaws.com/id/4FB04E75229E24476C49CBB7BDC2959D\"\n",
      "I1223 19:19:17.239608       1 controller.go:410] \"ControllerPublishVolume: attaching\" volumeID=\"vol-08036a0c5d4471e2d\" nodeID=\"i-0d29b5066e2e23a31\"\n",
      "E1223 19:19:18.464371       1 batcher.go:161] \"execute: error executing batch\" err=\"error listing AWS instances: operation error EC2: DescribeInstances, get identity: get credentials: failed to refresh cached credentials, failed to retrieve credentials, operation error STS: AssumeRoleWithWebIdentity, exceeded maximum number of attempts, 3, https response error StatusCode: 400, RequestID: 15055563-b662-48f8-ae5b-bfa14c1e5333, InvalidIdentityToken: No OpenIDConnect provider found in your account for https://oidc.eks.ca-central-1.amazonaws.com/id/4FB04E75229E24476C49CBB7BDC2959D\"\n",
      "E1223 19:19:18.464585       1 driver.go:108] \"GRPC error\" err=\"rpc error: code = Internal desc = Could not attach volume \\\"vol-08036a0c5d4471e2d\\\" to node \\\"i-0d29b5066e2e23a31\\\": error listing AWS instances: operation error EC2: DescribeInstances, get identity: get credentials: failed to refresh cached credentials, failed to retrieve credentials, operation error STS: AssumeRoleWithWebIdentity, exceeded maximum number of attempts, 3, https response error StatusCode: 400, RequestID: 15055563-b662-48f8-ae5b-bfa14c1e5333, InvalidIdentityToken: No OpenIDConnect provider found in your account for https://oidc.eks.ca-central-1.amazonaws.com/id/4FB04E75229E24476C49CBB7BDC2959D\"\n",
      "I1223 19:24:18.478400       1 controller.go:410] \"ControllerPublishVolume: attaching\" volumeID=\"vol-08036a0c5d4471e2d\" nodeID=\"i-0d29b5066e2e23a31\"\n",
      "E1223 19:24:21.644675       1 batcher.go:161] \"execute: error executing batch\" err=\"error listing AWS instances: operation error EC2: DescribeInstances, get identity: get credentials: failed to refresh cached credentials, failed to retrieve credentials, operation error STS: AssumeRoleWithWebIdentity, exceeded maximum number of attempts, 3, https response error StatusCode: 400, RequestID: 32901ca8-bce3-4578-8f50-00da5f831923, InvalidIdentityToken: No OpenIDConnect provider found in your account for https://oidc.eks.ca-central-1.amazonaws.com/id/4FB04E75229E24476C49CBB7BDC2959D\"\n",
      "E1223 19:24:21.644775       1 driver.go:108] \"GRPC error\" err=\"rpc error: code = Internal desc = Could not attach volume \\\"vol-08036a0c5d4471e2d\\\" to node \\\"i-0d29b5066e2e23a31\\\": error listing AWS instances: operation error EC2: DescribeInstances, get identity: get credentials: failed to refresh cached credentials, failed to retrieve credentials, operation error STS: AssumeRoleWithWebIdentity, exceeded maximum number of attempts, 3, https response error StatusCode: 400, RequestID: 32901ca8-bce3-4578-8f50-00da5f831923, InvalidIdentityToken: No OpenIDConnect provider found in your account for https://oidc.eks.ca-central-1.amazonaws.com/id/4FB04E75229E24476C49CBB7BDC2959D\"\n",
      "I1223 19:24:36.090200       1 controller.go:410] \"ControllerPublishVolume: attaching\" volumeID=\"vol-08036a0c5d4471e2d\" nodeID=\"i-0d29b5066e2e23a31\"\n",
      "E1223 19:24:41.718827       1 batcher.go:161] \"execute: error executing batch\" err=\"error listing AWS instances: operation error EC2: DescribeInstances, get identity: get credentials: failed to refresh cached credentials, failed to retrieve credentials, operation error STS: AssumeRoleWithWebIdentity, exceeded maximum number of attempts, 3, https response error StatusCode: 400, RequestID: eccb81a0-5e75-4957-a115-a7273b0c74c4, InvalidIdentityToken: No OpenIDConnect provider found in your account for https://oidc.eks.ca-central-1.amazonaws.com/id/4FB04E75229E24476C49CBB7BDC2959D\"\n",
      "E1223 19:24:41.718872       1 driver.go:108] \"GRPC error\" err=\"rpc error: code = Internal desc = Could not attach volume \\\"vol-08036a0c5d4471e2d\\\" to node \\\"i-0d29b5066e2e23a31\\\": error listing AWS instances: operation error EC2: DescribeInstances, get identity: get credentials: failed to refresh cached credentials, failed to retrieve credentials, operation error STS: AssumeRoleWithWebIdentity, exceeded maximum number of attempts, 3, https response error StatusCode: 400, RequestID: eccb81a0-5e75-4957-a115-a7273b0c74c4, InvalidIdentityToken: No OpenIDConnect provider found in your account for https://oidc.eks.ca-central-1.amazonaws.com/id/4FB04E75229E24476C49CBB7BDC2959D\"\n",
      "I1223 19:29:21.656701       1 controller.go:410] \"ControllerPublishVolume: attaching\" volumeID=\"vol-08036a0c5d4471e2d\" nodeID=\"i-0d29b5066e2e23a31\"\n",
      "E1223 19:29:22.928357       1 batcher.go:161] \"execute: error executing batch\" err=\"error listing AWS instances: operation error EC2: DescribeInstances, get identity: get credentials: failed to refresh cached credentials, failed to retrieve credentials, operation error STS: AssumeRoleWithWebIdentity, exceeded maximum number of attempts, 3, https response error StatusCode: 400, RequestID: 9328279e-fa18-461a-8630-657cfa9d883c, InvalidIdentityToken: No OpenIDConnect provider found in your account for https://oidc.eks.ca-central-1.amazonaws.com/id/4FB04E75229E24476C49CBB7BDC2959D\"\n",
      "E1223 19:29:22.928405       1 driver.go:108] \"GRPC error\" err=\"rpc error: code = Internal desc = Could not attach volume \\\"vol-08036a0c5d4471e2d\\\" to node \\\"i-0d29b5066e2e23a31\\\": error listing AWS instances: operation error EC2: DescribeInstances, get identity: get credentials: failed to refresh cached credentials, failed to retrieve credentials, operation error STS: AssumeRoleWithWebIdentity, exceeded maximum number of attempts, 3, https response error StatusCode: 400, RequestID: 9328279e-fa18-461a-8630-657cfa9d883c, InvalidIdentityToken: No OpenIDConnect provider found in your account for https://oidc.eks.ca-central-1.amazonaws.com/id/4FB04E75229E24476C49CBB7BDC2959D\"\n",
      "I1223 19:34:22.937201       1 controller.go:410] \"ControllerPublishVolume: attaching\" volumeID=\"vol-08036a0c5d4471e2d\" nodeID=\"i-0d29b5066e2e23a31\"\n",
      "E1223 19:34:26.019735       1 batcher.go:161] \"execute: error executing batch\" err=\"error listing AWS instances: operation error EC2: DescribeInstances, get identity: get credentials: failed to refresh cached credentials, failed to retrieve credentials, operation error STS: AssumeRoleWithWebIdentity, exceeded maximum number of attempts, 3, https response error StatusCode: 400, RequestID: 01786ee9-b436-470b-9ea0-951b73073974, InvalidIdentityToken: No OpenIDConnect provider found in your account for https://oidc.eks.ca-central-1.amazonaws.com/id/4FB04E75229E24476C49CBB7BDC2959D\"\n",
      "E1223 19:34:26.019777       1 driver.go:108] \"GRPC error\" err=\"rpc error: code = Internal desc = Could not attach volume \\\"vol-08036a0c5d4471e2d\\\" to node \\\"i-0d29b5066e2e23a31\\\": error listing AWS instances: operation error EC2: DescribeInstances, get identity: get credentials: failed to refresh cached credentials, failed to retrieve credentials, operation error STS: AssumeRoleWithWebIdentity, exceeded maximum number of attempts, 3, https response error StatusCode: 400, RequestID: 01786ee9-b436-470b-9ea0-951b73073974, InvalidIdentityToken: No OpenIDConnect provider found in your account for https://oidc.eks.ca-central-1.amazonaws.com/id/4FB04E75229E24476C49CBB7BDC2959D\"\n",
      "I1223 19:34:36.090117       1 controller.go:410] \"ControllerPublishVolume: attaching\" volumeID=\"vol-08036a0c5d4471e2d\" nodeID=\"i-0d29b5066e2e23a31\"\n",
      "E1223 19:34:39.848733       1 batcher.go:161] \"execute: error executing batch\" err=\"error listing AWS instances: operation error EC2: DescribeInstances, get identity: get credentials: failed to refresh cached credentials, failed to retrieve credentials, operation error STS: AssumeRoleWithWebIdentity, exceeded maximum number of attempts, 3, https response error StatusCode: 400, RequestID: 28432cae-e2d7-452b-b344-68adf2c5acfb, InvalidIdentityToken: No OpenIDConnect provider found in your account for https://oidc.eks.ca-central-1.amazonaws.com/id/4FB04E75229E24476C49CBB7BDC2959D\"\n",
      "E1223 19:34:39.849642       1 driver.go:108] \"GRPC error\" err=\"rpc error: code = Internal desc = Could not attach volume \\\"vol-08036a0c5d4471e2d\\\" to node \\\"i-0d29b5066e2e23a31\\\": error listing AWS instances: operation error EC2: DescribeInstances, get identity: get credentials: failed to refresh cached credentials, failed to retrieve credentials, operation error STS: AssumeRoleWithWebIdentity, exceeded maximum number of attempts, 3, https response error StatusCode: 400, RequestID: 28432cae-e2d7-452b-b344-68adf2c5acfb, InvalidIdentityToken: No OpenIDConnect provider found in your account for https://oidc.eks.ca-central-1.amazonaws.com/id/4FB04E75229E24476C49CBB7BDC2959D\"\n",
      "I1223 19:39:26.030494       1 controller.go:410] \"ControllerPublishVolume: attaching\" volumeID=\"vol-08036a0c5d4471e2d\" nodeID=\"i-0d29b5066e2e23a31\"\n",
      "E1223 19:39:30.045470       1 batcher.go:161] \"execute: error executing batch\" err=\"error listing AWS instances: operation error EC2: DescribeInstances, get identity: get credentials: failed to refresh cached credentials, failed to retrieve credentials, operation error STS: AssumeRoleWithWebIdentity, exceeded maximum number of attempts, 3, https response error StatusCode: 400, RequestID: 2562eab8-84bc-4661-ac6a-feecb4a2d230, InvalidIdentityToken: No OpenIDConnect provider found in your account for https://oidc.eks.ca-central-1.amazonaws.com/id/4FB04E75229E24476C49CBB7BDC2959D\"\n",
      "E1223 19:39:30.045520       1 driver.go:108] \"GRPC error\" err=\"rpc error: code = Internal desc = Could not attach volume \\\"vol-08036a0c5d4471e2d\\\" to node \\\"i-0d29b5066e2e23a31\\\": error listing AWS instances: operation error EC2: DescribeInstances, get identity: get credentials: failed to refresh cached credentials, failed to retrieve credentials, operation error STS: AssumeRoleWithWebIdentity, exceeded maximum number of attempts, 3, https response error StatusCode: 400, RequestID: 2562eab8-84bc-4661-ac6a-feecb4a2d230, InvalidIdentityToken: No OpenIDConnect provider found in your account for https://oidc.eks.ca-central-1.amazonaws.com/id/4FB04E75229E24476C49CBB7BDC2959D\"\n",
      "I1223 19:44:30.054991       1 controller.go:410] \"ControllerPublishVolume: attaching\" volumeID=\"vol-08036a0c5d4471e2d\" nodeID=\"i-0d29b5066e2e23a31\"\n",
      "E1223 19:44:34.399545       1 batcher.go:161] \"execute: error executing batch\" err=\"error listing AWS instances: operation error EC2: DescribeInstances, get identity: get credentials: failed to refresh cached credentials, failed to retrieve credentials, operation error STS: AssumeRoleWithWebIdentity, exceeded maximum number of attempts, 3, https response error StatusCode: 400, RequestID: ca55d275-f781-4558-bdca-4277776853e7, InvalidIdentityToken: No OpenIDConnect provider found in your account for https://oidc.eks.ca-central-1.amazonaws.com/id/4FB04E75229E24476C49CBB7BDC2959D\"\n",
      "E1223 19:44:34.399593       1 driver.go:108] \"GRPC error\" err=\"rpc error: code = Internal desc = Could not attach volume \\\"vol-08036a0c5d4471e2d\\\" to node \\\"i-0d29b5066e2e23a31\\\": error listing AWS instances: operation error EC2: DescribeInstances, get identity: get credentials: failed to refresh cached credentials, failed to retrieve credentials, operation error STS: AssumeRoleWithWebIdentity, exceeded maximum number of attempts, 3, https response error StatusCode: 400, RequestID: ca55d275-f781-4558-bdca-4277776853e7, InvalidIdentityToken: No OpenIDConnect provider found in your account for https://oidc.eks.ca-central-1.amazonaws.com/id/4FB04E75229E24476C49CBB7BDC2959D\"\n",
      "I1223 19:44:36.090533       1 controller.go:410] \"ControllerPublishVolume: attaching\" volumeID=\"vol-08036a0c5d4471e2d\" nodeID=\"i-0d29b5066e2e23a31\"\n",
      "E1223 19:44:41.117184       1 batcher.go:161] \"execute: error executing batch\" err=\"error listing AWS instances: operation error EC2: DescribeInstances, get identity: get credentials: failed to refresh cached credentials, failed to retrieve credentials, operation error STS: AssumeRoleWithWebIdentity, exceeded maximum number of attempts, 3, https response error StatusCode: 400, RequestID: 1f06f3ff-4c9f-4df5-8512-24e206adc317, InvalidIdentityToken: No OpenIDConnect provider found in your account for https://oidc.eks.ca-central-1.amazonaws.com/id/4FB04E75229E24476C49CBB7BDC2959D\"\n",
      "E1223 19:44:41.117233       1 driver.go:108] \"GRPC error\" err=\"rpc error: code = Internal desc = Could not attach volume \\\"vol-08036a0c5d4471e2d\\\" to node \\\"i-0d29b5066e2e23a31\\\": error listing AWS instances: operation error EC2: DescribeInstances, get identity: get credentials: failed to refresh cached credentials, failed to retrieve credentials, operation error STS: AssumeRoleWithWebIdentity, exceeded maximum number of attempts, 3, https response error StatusCode: 400, RequestID: 1f06f3ff-4c9f-4df5-8512-24e206adc317, InvalidIdentityToken: No OpenIDConnect provider found in your account for https://oidc.eks.ca-central-1.amazonaws.com/id/4FB04E75229E24476C49CBB7BDC2959D\"\n",
      "I1223 19:49:34.410746       1 controller.go:410] \"ControllerPublishVolume: attaching\" volumeID=\"vol-08036a0c5d4471e2d\" nodeID=\"i-0d29b5066e2e23a31\"\n",
      "E1223 19:49:37.530833       1 batcher.go:161] \"execute: error executing batch\" err=\"error listing AWS instances: operation error EC2: DescribeInstances, get identity: get credentials: failed to refresh cached credentials, failed to retrieve credentials, operation error STS: AssumeRoleWithWebIdentity, exceeded maximum number of attempts, 3, https response error StatusCode: 400, RequestID: fe954751-0c2e-418a-89f3-4c280200c62d, InvalidIdentityToken: No OpenIDConnect provider found in your account for https://oidc.eks.ca-central-1.amazonaws.com/id/4FB04E75229E24476C49CBB7BDC2959D\"\n",
      "E1223 19:49:37.530892       1 driver.go:108] \"GRPC error\" err=\"rpc error: code = Internal desc = Could not attach volume \\\"vol-08036a0c5d4471e2d\\\" to node \\\"i-0d29b5066e2e23a31\\\": error listing AWS instances: operation error EC2: DescribeInstances, get identity: get credentials: failed to refresh cached credentials, failed to retrieve credentials, operation error STS: AssumeRoleWithWebIdentity, exceeded maximum number of attempts, 3, https response error StatusCode: 400, RequestID: fe954751-0c2e-418a-89f3-4c280200c62d, InvalidIdentityToken: No OpenIDConnect provider found in your account for https://oidc.eks.ca-central-1.amazonaws.com/id/4FB04E75229E24476C49CBB7BDC2959D\"\n",
      "I1223 19:54:36.090798       1 controller.go:410] \"ControllerPublishVolume: attaching\" volumeID=\"vol-08036a0c5d4471e2d\" nodeID=\"i-0d29b5066e2e23a31\"\n",
      "E1223 19:54:40.141317       1 batcher.go:161] \"execute: error executing batch\" err=\"error listing AWS instances: operation error EC2: DescribeInstances, get identity: get credentials: failed to refresh cached credentials, failed to retrieve credentials, operation error STS: AssumeRoleWithWebIdentity, exceeded maximum number of attempts, 3, https response error StatusCode: 400, RequestID: 0a4aae11-a5a8-47fa-9feb-a567b517d015, InvalidIdentityToken: No OpenIDConnect provider found in your account for https://oidc.eks.ca-central-1.amazonaws.com/id/4FB04E75229E24476C49CBB7BDC2959D\"\n",
      "E1223 19:54:40.141372       1 driver.go:108] \"GRPC error\" err=\"rpc error: code = Internal desc = Could not attach volume \\\"vol-08036a0c5d4471e2d\\\" to node \\\"i-0d29b5066e2e23a31\\\": error listing AWS instances: operation error EC2: DescribeInstances, get identity: get credentials: failed to refresh cached credentials, failed to retrieve credentials, operation error STS: AssumeRoleWithWebIdentity, exceeded maximum number of attempts, 3, https response error StatusCode: 400, RequestID: 0a4aae11-a5a8-47fa-9feb-a567b517d015, InvalidIdentityToken: No OpenIDConnect provider found in your account for https://oidc.eks.ca-central-1.amazonaws.com/id/4FB04E75229E24476C49CBB7BDC2959D\"\n",
      "I1223 19:54:40.152889       1 controller.go:410] \"ControllerPublishVolume: attaching\" volumeID=\"vol-08036a0c5d4471e2d\" nodeID=\"i-0d29b5066e2e23a31\"\n",
      "E1223 19:54:43.391418       1 batcher.go:161] \"execute: error executing batch\" err=\"error listing AWS instances: operation error EC2: DescribeInstances, get identity: get credentials: failed to refresh cached credentials, failed to retrieve credentials, operation error STS: AssumeRoleWithWebIdentity, exceeded maximum number of attempts, 3, https response error StatusCode: 400, RequestID: 8ca29e8e-e442-4b54-9ee8-727a83f04a72, InvalidIdentityToken: No OpenIDConnect provider found in your account for https://oidc.eks.ca-central-1.amazonaws.com/id/4FB04E75229E24476C49CBB7BDC2959D\"\n",
      "E1223 19:54:43.391466       1 driver.go:108] \"GRPC error\" err=\"rpc error: code = Internal desc = Could not attach volume \\\"vol-08036a0c5d4471e2d\\\" to node \\\"i-0d29b5066e2e23a31\\\": error listing AWS instances: operation error EC2: DescribeInstances, get identity: get credentials: failed to refresh cached credentials, failed to retrieve credentials, operation error STS: AssumeRoleWithWebIdentity, exceeded maximum number of attempts, 3, https response error StatusCode: 400, RequestID: 8ca29e8e-e442-4b54-9ee8-727a83f04a72, InvalidIdentityToken: No OpenIDConnect provider found in your account for https://oidc.eks.ca-central-1.amazonaws.com/id/4FB04E75229E24476C49CBB7BDC2959D\"\n",
      "I1223 19:59:40.153185       1 controller.go:410] \"ControllerPublishVolume: attaching\" volumeID=\"vol-08036a0c5d4471e2d\" nodeID=\"i-0d29b5066e2e23a31\"\n",
      "E1223 19:59:44.875073       1 batcher.go:161] \"execute: error executing batch\" err=\"error listing AWS instances: operation error EC2: DescribeInstances, get identity: get credentials: failed to refresh cached credentials, failed to retrieve credentials, operation error STS: AssumeRoleWithWebIdentity, exceeded maximum number of attempts, 3, https response error StatusCode: 400, RequestID: 93784115-2b93-4fae-a402-e6d1b9dcc255, InvalidIdentityToken: No OpenIDConnect provider found in your account for https://oidc.eks.ca-central-1.amazonaws.com/id/4FB04E75229E24476C49CBB7BDC2959D\"\n",
      "E1223 19:59:44.875123       1 driver.go:108] \"GRPC error\" err=\"rpc error: code = Internal desc = Could not attach volume \\\"vol-08036a0c5d4471e2d\\\" to node \\\"i-0d29b5066e2e23a31\\\": error listing AWS instances: operation error EC2: DescribeInstances, get identity: get credentials: failed to refresh cached credentials, failed to retrieve credentials, operation error STS: AssumeRoleWithWebIdentity, exceeded maximum number of attempts, 3, https response error StatusCode: 400, RequestID: 93784115-2b93-4fae-a402-e6d1b9dcc255, InvalidIdentityToken: No OpenIDConnect provider found in your account for https://oidc.eks.ca-central-1.amazonaws.com/id/4FB04E75229E24476C49CBB7BDC2959D\"\n",
      "I1223 20:04:36.091151       1 controller.go:410] \"ControllerPublishVolume: attaching\" volumeID=\"vol-08036a0c5d4471e2d\" nodeID=\"i-0d29b5066e2e23a31\"\n",
      "E1223 20:04:37.503296       1 batcher.go:161] \"execute: error executing batch\" err=\"error listing AWS instances: operation error EC2: DescribeInstances, get identity: get credentials: failed to refresh cached credentials, failed to retrieve credentials, operation error STS: AssumeRoleWithWebIdentity, exceeded maximum number of attempts, 3, https response error StatusCode: 400, RequestID: 34256d15-376b-4ddf-9e34-dae6c4ddf87e, InvalidIdentityToken: No OpenIDConnect provider found in your account for https://oidc.eks.ca-central-1.amazonaws.com/id/4FB04E75229E24476C49CBB7BDC2959D\"\n",
      "E1223 20:04:37.503341       1 driver.go:108] \"GRPC error\" err=\"rpc error: code = Internal desc = Could not attach volume \\\"vol-08036a0c5d4471e2d\\\" to node \\\"i-0d29b5066e2e23a31\\\": error listing AWS instances: operation error EC2: DescribeInstances, get identity: get credentials: failed to refresh cached credentials, failed to retrieve credentials, operation error STS: AssumeRoleWithWebIdentity, exceeded maximum number of attempts, 3, https response error StatusCode: 400, RequestID: 34256d15-376b-4ddf-9e34-dae6c4ddf87e, InvalidIdentityToken: No OpenIDConnect provider found in your account for https://oidc.eks.ca-central-1.amazonaws.com/id/4FB04E75229E24476C49CBB7BDC2959D\"\n",
      "I1223 20:04:44.889412       1 controller.go:410] \"ControllerPublishVolume: attaching\" volumeID=\"vol-08036a0c5d4471e2d\" nodeID=\"i-0d29b5066e2e23a31\"\n",
      "E1223 20:04:47.640799       1 batcher.go:161] \"execute: error executing batch\" err=\"error listing AWS instances: operation error EC2: DescribeInstances, get identity: get credentials: failed to refresh cached credentials, failed to retrieve credentials, operation error STS: AssumeRoleWithWebIdentity, exceeded maximum number of attempts, 3, https response error StatusCode: 400, RequestID: 001fb9e7-4ab0-4bd0-97cc-3f4608717e53, InvalidIdentityToken: No OpenIDConnect provider found in your account for https://oidc.eks.ca-central-1.amazonaws.com/id/4FB04E75229E24476C49CBB7BDC2959D\"\n",
      "E1223 20:04:47.640850       1 driver.go:108] \"GRPC error\" err=\"rpc error: code = Internal desc = Could not attach volume \\\"vol-08036a0c5d4471e2d\\\" to node \\\"i-0d29b5066e2e23a31\\\": error listing AWS instances: operation error EC2: DescribeInstances, get identity: get credentials: failed to refresh cached credentials, failed to retrieve credentials, operation error STS: AssumeRoleWithWebIdentity, exceeded maximum number of attempts, 3, https response error StatusCode: 400, RequestID: 001fb9e7-4ab0-4bd0-97cc-3f4608717e53, InvalidIdentityToken: No OpenIDConnect provider found in your account for https://oidc.eks.ca-central-1.amazonaws.com/id/4FB04E75229E24476C49CBB7BDC2959D\"\n",
      "I1223 20:09:47.650836       1 controller.go:410] \"ControllerPublishVolume: attaching\" volumeID=\"vol-08036a0c5d4471e2d\" nodeID=\"i-0d29b5066e2e23a31\"\n",
      "E1223 20:09:50.423621       1 batcher.go:161] \"execute: error executing batch\" err=\"error listing AWS instances: operation error EC2: DescribeInstances, get identity: get credentials: failed to refresh cached credentials, failed to retrieve credentials, operation error STS: AssumeRoleWithWebIdentity, exceeded maximum number of attempts, 3, https response error StatusCode: 400, RequestID: e4ef4c99-5b5b-4de3-a541-ed08a1b58570, InvalidIdentityToken: No OpenIDConnect provider found in your account for https://oidc.eks.ca-central-1.amazonaws.com/id/4FB04E75229E24476C49CBB7BDC2959D\"\n",
      "E1223 20:09:50.423671       1 driver.go:108] \"GRPC error\" err=\"rpc error: code = Internal desc = Could not attach volume \\\"vol-08036a0c5d4471e2d\\\" to node \\\"i-0d29b5066e2e23a31\\\": error listing AWS instances: operation error EC2: DescribeInstances, get identity: get credentials: failed to refresh cached credentials, failed to retrieve credentials, operation error STS: AssumeRoleWithWebIdentity, exceeded maximum number of attempts, 3, https response error StatusCode: 400, RequestID: e4ef4c99-5b5b-4de3-a541-ed08a1b58570, InvalidIdentityToken: No OpenIDConnect provider found in your account for https://oidc.eks.ca-central-1.amazonaws.com/id/4FB04E75229E24476C49CBB7BDC2959D\"\n",
      "I1223 20:14:36.091409       1 controller.go:410] \"ControllerPublishVolume: attaching\" volumeID=\"vol-08036a0c5d4471e2d\" nodeID=\"i-0d29b5066e2e23a31\"\n",
      "E1223 20:14:36.663182       1 batcher.go:161] \"execute: error executing batch\" err=\"error listing AWS instances: operation error EC2: DescribeInstances, get identity: get credentials: failed to refresh cached credentials, failed to retrieve credentials, operation error STS: AssumeRoleWithWebIdentity, https response error StatusCode: 403, RequestID: a5e27f60-c909-42aa-92f2-2862a1266f8b, api error AccessDenied: Not authorized to perform sts:AssumeRoleWithWebIdentity\"\n",
      "E1223 20:14:36.663228       1 driver.go:108] \"GRPC error\" err=\"rpc error: code = Internal desc = Could not attach volume \\\"vol-08036a0c5d4471e2d\\\" to node \\\"i-0d29b5066e2e23a31\\\": error listing AWS instances: operation error EC2: DescribeInstances, get identity: get credentials: failed to refresh cached credentials, failed to retrieve credentials, operation error STS: AssumeRoleWithWebIdentity, https response error StatusCode: 403, RequestID: a5e27f60-c909-42aa-92f2-2862a1266f8b, api error AccessDenied: Not authorized to perform sts:AssumeRoleWithWebIdentity\"\n",
      "I1223 20:14:50.431324       1 controller.go:410] \"ControllerPublishVolume: attaching\" volumeID=\"vol-08036a0c5d4471e2d\" nodeID=\"i-0d29b5066e2e23a31\"\n",
      "E1223 20:14:50.944407       1 batcher.go:161] \"execute: error executing batch\" err=\"error listing AWS instances: operation error EC2: DescribeInstances, get identity: get credentials: failed to refresh cached credentials, failed to retrieve credentials, operation error STS: AssumeRoleWithWebIdentity, https response error StatusCode: 403, RequestID: 77d7217a-9cac-4ba4-b38d-a4ac83496f01, api error AccessDenied: Not authorized to perform sts:AssumeRoleWithWebIdentity\"\n",
      "E1223 20:14:50.944452       1 driver.go:108] \"GRPC error\" err=\"rpc error: code = Internal desc = Could not attach volume \\\"vol-08036a0c5d4471e2d\\\" to node \\\"i-0d29b5066e2e23a31\\\": error listing AWS instances: operation error EC2: DescribeInstances, get identity: get credentials: failed to refresh cached credentials, failed to retrieve credentials, operation error STS: AssumeRoleWithWebIdentity, https response error StatusCode: 403, RequestID: 77d7217a-9cac-4ba4-b38d-a4ac83496f01, api error AccessDenied: Not authorized to perform sts:AssumeRoleWithWebIdentity\"\n",
      "I1223 20:19:50.953768       1 controller.go:410] \"ControllerPublishVolume: attaching\" volumeID=\"vol-08036a0c5d4471e2d\" nodeID=\"i-0d29b5066e2e23a31\"\n",
      "E1223 20:19:51.526912       1 batcher.go:161] \"execute: error executing batch\" err=\"error listing AWS instances: operation error EC2: DescribeInstances, get identity: get credentials: failed to refresh cached credentials, failed to retrieve credentials, operation error STS: AssumeRoleWithWebIdentity, https response error StatusCode: 403, RequestID: fc73c4ba-a8dd-4a9b-ad8e-b8f3d3685ebf, api error AccessDenied: Not authorized to perform sts:AssumeRoleWithWebIdentity\"\n",
      "E1223 20:19:51.526956       1 driver.go:108] \"GRPC error\" err=\"rpc error: code = Internal desc = Could not attach volume \\\"vol-08036a0c5d4471e2d\\\" to node \\\"i-0d29b5066e2e23a31\\\": error listing AWS instances: operation error EC2: DescribeInstances, get identity: get credentials: failed to refresh cached credentials, failed to retrieve credentials, operation error STS: AssumeRoleWithWebIdentity, https response error StatusCode: 403, RequestID: fc73c4ba-a8dd-4a9b-ad8e-b8f3d3685ebf, api error AccessDenied: Not authorized to perform sts:AssumeRoleWithWebIdentity\"\n",
      "I1223 20:24:36.092349       1 controller.go:410] \"ControllerPublishVolume: attaching\" volumeID=\"vol-08036a0c5d4471e2d\" nodeID=\"i-0d29b5066e2e23a31\"\n",
      "E1223 20:24:36.687392       1 batcher.go:161] \"execute: error executing batch\" err=\"error listing AWS instances: operation error EC2: DescribeInstances, get identity: get credentials: failed to refresh cached credentials, failed to retrieve credentials, operation error STS: AssumeRoleWithWebIdentity, https response error StatusCode: 403, RequestID: 1f843b3f-cf31-4ace-9e39-f6f1e0611a70, api error AccessDenied: Not authorized to perform sts:AssumeRoleWithWebIdentity\"\n",
      "E1223 20:24:36.687439       1 driver.go:108] \"GRPC error\" err=\"rpc error: code = Internal desc = Could not attach volume \\\"vol-08036a0c5d4471e2d\\\" to node \\\"i-0d29b5066e2e23a31\\\": error listing AWS instances: operation error EC2: DescribeInstances, get identity: get credentials: failed to refresh cached credentials, failed to retrieve credentials, operation error STS: AssumeRoleWithWebIdentity, https response error StatusCode: 403, RequestID: 1f843b3f-cf31-4ace-9e39-f6f1e0611a70, api error AccessDenied: Not authorized to perform sts:AssumeRoleWithWebIdentity\"\n",
      "I1223 20:24:51.538517       1 controller.go:410] \"ControllerPublishVolume: attaching\" volumeID=\"vol-08036a0c5d4471e2d\" nodeID=\"i-0d29b5066e2e23a31\"\n",
      "E1223 20:24:52.056477       1 batcher.go:161] \"execute: error executing batch\" err=\"error listing AWS instances: operation error EC2: DescribeInstances, get identity: get credentials: failed to refresh cached credentials, failed to retrieve credentials, operation error STS: AssumeRoleWithWebIdentity, https response error StatusCode: 403, RequestID: 0a60c985-e802-4a47-8cd5-36199c19255b, api error AccessDenied: Not authorized to perform sts:AssumeRoleWithWebIdentity\"\n",
      "E1223 20:24:52.056521       1 driver.go:108] \"GRPC error\" err=\"rpc error: code = Internal desc = Could not attach volume \\\"vol-08036a0c5d4471e2d\\\" to node \\\"i-0d29b5066e2e23a31\\\": error listing AWS instances: operation error EC2: DescribeInstances, get identity: get credentials: failed to refresh cached credentials, failed to retrieve credentials, operation error STS: AssumeRoleWithWebIdentity, https response error StatusCode: 403, RequestID: 0a60c985-e802-4a47-8cd5-36199c19255b, api error AccessDenied: Not authorized to perform sts:AssumeRoleWithWebIdentity\"\n",
      "I1223 20:29:52.064102       1 controller.go:410] \"ControllerPublishVolume: attaching\" volumeID=\"vol-08036a0c5d4471e2d\" nodeID=\"i-0d29b5066e2e23a31\"\n",
      "E1223 20:29:52.617613       1 batcher.go:161] \"execute: error executing batch\" err=\"error listing AWS instances: operation error EC2: DescribeInstances, get identity: get credentials: failed to refresh cached credentials, failed to retrieve credentials, operation error STS: AssumeRoleWithWebIdentity, https response error StatusCode: 403, RequestID: 139a35ec-a780-47a9-9caf-d25ee4dcc047, api error AccessDenied: Not authorized to perform sts:AssumeRoleWithWebIdentity\"\n",
      "E1223 20:29:52.617663       1 driver.go:108] \"GRPC error\" err=\"rpc error: code = Internal desc = Could not attach volume \\\"vol-08036a0c5d4471e2d\\\" to node \\\"i-0d29b5066e2e23a31\\\": error listing AWS instances: operation error EC2: DescribeInstances, get identity: get credentials: failed to refresh cached credentials, failed to retrieve credentials, operation error STS: AssumeRoleWithWebIdentity, https response error StatusCode: 403, RequestID: 139a35ec-a780-47a9-9caf-d25ee4dcc047, api error AccessDenied: Not authorized to perform sts:AssumeRoleWithWebIdentity\"\n",
      "I1223 20:34:36.093505       1 controller.go:410] \"ControllerPublishVolume: attaching\" volumeID=\"vol-08036a0c5d4471e2d\" nodeID=\"i-0d29b5066e2e23a31\"\n",
      "E1223 20:34:36.666598       1 batcher.go:161] \"execute: error executing batch\" err=\"error listing AWS instances: operation error EC2: DescribeInstances, get identity: get credentials: failed to refresh cached credentials, failed to retrieve credentials, operation error STS: AssumeRoleWithWebIdentity, https response error StatusCode: 403, RequestID: b68f71ab-fbb1-4d3c-bbe8-a62965c843c5, api error AccessDenied: Not authorized to perform sts:AssumeRoleWithWebIdentity\"\n",
      "E1223 20:34:36.666787       1 driver.go:108] \"GRPC error\" err=\"rpc error: code = Internal desc = Could not attach volume \\\"vol-08036a0c5d4471e2d\\\" to node \\\"i-0d29b5066e2e23a31\\\": error listing AWS instances: operation error EC2: DescribeInstances, get identity: get credentials: failed to refresh cached credentials, failed to retrieve credentials, operation error STS: AssumeRoleWithWebIdentity, https response error StatusCode: 403, RequestID: b68f71ab-fbb1-4d3c-bbe8-a62965c843c5, api error AccessDenied: Not authorized to perform sts:AssumeRoleWithWebIdentity\"\n",
      "I1223 20:34:52.629480       1 controller.go:410] \"ControllerPublishVolume: attaching\" volumeID=\"vol-08036a0c5d4471e2d\" nodeID=\"i-0d29b5066e2e23a31\"\n",
      "E1223 20:34:53.143635       1 batcher.go:161] \"execute: error executing batch\" err=\"error listing AWS instances: operation error EC2: DescribeInstances, get identity: get credentials: failed to refresh cached credentials, failed to retrieve credentials, operation error STS: AssumeRoleWithWebIdentity, https response error StatusCode: 403, RequestID: c099b973-4fb5-44e5-a607-0ab1ffd08158, api error AccessDenied: Not authorized to perform sts:AssumeRoleWithWebIdentity\"\n",
      "E1223 20:34:53.143674       1 driver.go:108] \"GRPC error\" err=\"rpc error: code = Internal desc = Could not attach volume \\\"vol-08036a0c5d4471e2d\\\" to node \\\"i-0d29b5066e2e23a31\\\": error listing AWS instances: operation error EC2: DescribeInstances, get identity: get credentials: failed to refresh cached credentials, failed to retrieve credentials, operation error STS: AssumeRoleWithWebIdentity, https response error StatusCode: 403, RequestID: c099b973-4fb5-44e5-a607-0ab1ffd08158, api error AccessDenied: Not authorized to perform sts:AssumeRoleWithWebIdentity\"\n",
      "I1223 20:39:53.151163       1 controller.go:410] \"ControllerPublishVolume: attaching\" volumeID=\"vol-08036a0c5d4471e2d\" nodeID=\"i-0d29b5066e2e23a31\"\n",
      "E1223 20:39:53.723419       1 batcher.go:161] \"execute: error executing batch\" err=\"error listing AWS instances: operation error EC2: DescribeInstances, get identity: get credentials: failed to refresh cached credentials, failed to retrieve credentials, operation error STS: AssumeRoleWithWebIdentity, https response error StatusCode: 403, RequestID: c4d99b35-a20a-4576-9485-7fe8acebf1a8, api error AccessDenied: Not authorized to perform sts:AssumeRoleWithWebIdentity\"\n",
      "E1223 20:39:53.723691       1 driver.go:108] \"GRPC error\" err=\"rpc error: code = Internal desc = Could not attach volume \\\"vol-08036a0c5d4471e2d\\\" to node \\\"i-0d29b5066e2e23a31\\\": error listing AWS instances: operation error EC2: DescribeInstances, get identity: get credentials: failed to refresh cached credentials, failed to retrieve credentials, operation error STS: AssumeRoleWithWebIdentity, https response error StatusCode: 403, RequestID: c4d99b35-a20a-4576-9485-7fe8acebf1a8, api error AccessDenied: Not authorized to perform sts:AssumeRoleWithWebIdentity\"\n",
      "I1223 20:44:36.094363       1 controller.go:410] \"ControllerPublishVolume: attaching\" volumeID=\"vol-08036a0c5d4471e2d\" nodeID=\"i-0d29b5066e2e23a31\"\n",
      "E1223 20:44:36.622701       1 batcher.go:161] \"execute: error executing batch\" err=\"error listing AWS instances: operation error EC2: DescribeInstances, get identity: get credentials: failed to refresh cached credentials, failed to retrieve credentials, operation error STS: AssumeRoleWithWebIdentity, https response error StatusCode: 403, RequestID: 242491be-0d3f-442f-ba84-45fc0fd40779, api error AccessDenied: Not authorized to perform sts:AssumeRoleWithWebIdentity\"\n",
      "E1223 20:44:36.622901       1 driver.go:108] \"GRPC error\" err=\"rpc error: code = Internal desc = Could not attach volume \\\"vol-08036a0c5d4471e2d\\\" to node \\\"i-0d29b5066e2e23a31\\\": error listing AWS instances: operation error EC2: DescribeInstances, get identity: get credentials: failed to refresh cached credentials, failed to retrieve credentials, operation error STS: AssumeRoleWithWebIdentity, https response error StatusCode: 403, RequestID: 242491be-0d3f-442f-ba84-45fc0fd40779, api error AccessDenied: Not authorized to perform sts:AssumeRoleWithWebIdentity\"\n",
      "I1223 20:44:53.735374       1 controller.go:410] \"ControllerPublishVolume: attaching\" volumeID=\"vol-08036a0c5d4471e2d\" nodeID=\"i-0d29b5066e2e23a31\"\n",
      "E1223 20:44:54.245130       1 batcher.go:161] \"execute: error executing batch\" err=\"error listing AWS instances: operation error EC2: DescribeInstances, get identity: get credentials: failed to refresh cached credentials, failed to retrieve credentials, operation error STS: AssumeRoleWithWebIdentity, https response error StatusCode: 403, RequestID: 7f3cf224-7374-45cc-8ccc-bc6637665f7f, api error AccessDenied: Not authorized to perform sts:AssumeRoleWithWebIdentity\"\n",
      "E1223 20:44:54.245175       1 driver.go:108] \"GRPC error\" err=\"rpc error: code = Internal desc = Could not attach volume \\\"vol-08036a0c5d4471e2d\\\" to node \\\"i-0d29b5066e2e23a31\\\": error listing AWS instances: operation error EC2: DescribeInstances, get identity: get credentials: failed to refresh cached credentials, failed to retrieve credentials, operation error STS: AssumeRoleWithWebIdentity, https response error StatusCode: 403, RequestID: 7f3cf224-7374-45cc-8ccc-bc6637665f7f, api error AccessDenied: Not authorized to perform sts:AssumeRoleWithWebIdentity\"\n",
      "I1223 20:49:54.256087       1 controller.go:410] \"ControllerPublishVolume: attaching\" volumeID=\"vol-08036a0c5d4471e2d\" nodeID=\"i-0d29b5066e2e23a31\"\n",
      "E1223 20:49:54.786546       1 batcher.go:161] \"execute: error executing batch\" err=\"error listing AWS instances: operation error EC2: DescribeInstances, get identity: get credentials: failed to refresh cached credentials, failed to retrieve credentials, operation error STS: AssumeRoleWithWebIdentity, https response error StatusCode: 403, RequestID: ded24ce0-15eb-4bdb-9c31-02a7586c9eb0, api error AccessDenied: Not authorized to perform sts:AssumeRoleWithWebIdentity\"\n",
      "E1223 20:49:54.786808       1 driver.go:108] \"GRPC error\" err=\"rpc error: code = Internal desc = Could not attach volume \\\"vol-08036a0c5d4471e2d\\\" to node \\\"i-0d29b5066e2e23a31\\\": error listing AWS instances: operation error EC2: DescribeInstances, get identity: get credentials: failed to refresh cached credentials, failed to retrieve credentials, operation error STS: AssumeRoleWithWebIdentity, https response error StatusCode: 403, RequestID: ded24ce0-15eb-4bdb-9c31-02a7586c9eb0, api error AccessDenied: Not authorized to perform sts:AssumeRoleWithWebIdentity\"\n",
      "I1223 20:54:36.094731       1 controller.go:410] \"ControllerPublishVolume: attaching\" volumeID=\"vol-08036a0c5d4471e2d\" nodeID=\"i-0d29b5066e2e23a31\"\n",
      "E1223 20:54:36.628841       1 batcher.go:161] \"execute: error executing batch\" err=\"error listing AWS instances: operation error EC2: DescribeInstances, get identity: get credentials: failed to refresh cached credentials, failed to retrieve credentials, operation error STS: AssumeRoleWithWebIdentity, https response error StatusCode: 403, RequestID: a71d9cfd-714b-41c2-ada3-e165669abeeb, api error AccessDenied: Not authorized to perform sts:AssumeRoleWithWebIdentity\"\n",
      "E1223 20:54:36.628914       1 driver.go:108] \"GRPC error\" err=\"rpc error: code = Internal desc = Could not attach volume \\\"vol-08036a0c5d4471e2d\\\" to node \\\"i-0d29b5066e2e23a31\\\": error listing AWS instances: operation error EC2: DescribeInstances, get identity: get credentials: failed to refresh cached credentials, failed to retrieve credentials, operation error STS: AssumeRoleWithWebIdentity, https response error StatusCode: 403, RequestID: a71d9cfd-714b-41c2-ada3-e165669abeeb, api error AccessDenied: Not authorized to perform sts:AssumeRoleWithWebIdentity\"\n",
      "I1223 20:54:54.798816       1 controller.go:410] \"ControllerPublishVolume: attaching\" volumeID=\"vol-08036a0c5d4471e2d\" nodeID=\"i-0d29b5066e2e23a31\"\n",
      "E1223 20:54:55.309854       1 batcher.go:161] \"execute: error executing batch\" err=\"error listing AWS instances: operation error EC2: DescribeInstances, get identity: get credentials: failed to refresh cached credentials, failed to retrieve credentials, operation error STS: AssumeRoleWithWebIdentity, https response error StatusCode: 403, RequestID: 619828a3-14a3-408c-8310-000908bcb79c, api error AccessDenied: Not authorized to perform sts:AssumeRoleWithWebIdentity\"\n",
      "E1223 20:54:55.309922       1 driver.go:108] \"GRPC error\" err=\"rpc error: code = Internal desc = Could not attach volume \\\"vol-08036a0c5d4471e2d\\\" to node \\\"i-0d29b5066e2e23a31\\\": error listing AWS instances: operation error EC2: DescribeInstances, get identity: get credentials: failed to refresh cached credentials, failed to retrieve credentials, operation error STS: AssumeRoleWithWebIdentity, https response error StatusCode: 403, RequestID: 619828a3-14a3-408c-8310-000908bcb79c, api error AccessDenied: Not authorized to perform sts:AssumeRoleWithWebIdentity\"\n",
      "I1223 20:59:55.318941       1 controller.go:410] \"ControllerPublishVolume: attaching\" volumeID=\"vol-08036a0c5d4471e2d\" nodeID=\"i-0d29b5066e2e23a31\"\n",
      "E1223 20:59:55.882663       1 batcher.go:161] \"execute: error executing batch\" err=\"error listing AWS instances: operation error EC2: DescribeInstances, get identity: get credentials: failed to refresh cached credentials, failed to retrieve credentials, operation error STS: AssumeRoleWithWebIdentity, https response error StatusCode: 403, RequestID: 995e2bb1-33dd-4909-b015-bb65e419aee3, api error AccessDenied: Not authorized to perform sts:AssumeRoleWithWebIdentity\"\n",
      "E1223 20:59:55.882714       1 driver.go:108] \"GRPC error\" err=\"rpc error: code = Internal desc = Could not attach volume \\\"vol-08036a0c5d4471e2d\\\" to node \\\"i-0d29b5066e2e23a31\\\": error listing AWS instances: operation error EC2: DescribeInstances, get identity: get credentials: failed to refresh cached credentials, failed to retrieve credentials, operation error STS: AssumeRoleWithWebIdentity, https response error StatusCode: 403, RequestID: 995e2bb1-33dd-4909-b015-bb65e419aee3, api error AccessDenied: Not authorized to perform sts:AssumeRoleWithWebIdentity\"\n",
      "I1223 21:04:36.095627       1 controller.go:410] \"ControllerPublishVolume: attaching\" volumeID=\"vol-08036a0c5d4471e2d\" nodeID=\"i-0d29b5066e2e23a31\"\n",
      "E1223 21:04:36.660921       1 batcher.go:161] \"execute: error executing batch\" err=\"error listing AWS instances: operation error EC2: DescribeInstances, get identity: get credentials: failed to refresh cached credentials, failed to retrieve credentials, operation error STS: AssumeRoleWithWebIdentity, https response error StatusCode: 403, RequestID: d5595e22-6481-41d5-af7e-87be508f841a, api error AccessDenied: Not authorized to perform sts:AssumeRoleWithWebIdentity\"\n",
      "E1223 21:04:36.660975       1 driver.go:108] \"GRPC error\" err=\"rpc error: code = Internal desc = Could not attach volume \\\"vol-08036a0c5d4471e2d\\\" to node \\\"i-0d29b5066e2e23a31\\\": error listing AWS instances: operation error EC2: DescribeInstances, get identity: get credentials: failed to refresh cached credentials, failed to retrieve credentials, operation error STS: AssumeRoleWithWebIdentity, https response error StatusCode: 403, RequestID: d5595e22-6481-41d5-af7e-87be508f841a, api error AccessDenied: Not authorized to perform sts:AssumeRoleWithWebIdentity\"\n",
      "I1223 21:04:55.890471       1 controller.go:410] \"ControllerPublishVolume: attaching\" volumeID=\"vol-08036a0c5d4471e2d\" nodeID=\"i-0d29b5066e2e23a31\"\n",
      "E1223 21:04:56.404224       1 batcher.go:161] \"execute: error executing batch\" err=\"error listing AWS instances: operation error EC2: DescribeInstances, get identity: get credentials: failed to refresh cached credentials, failed to retrieve credentials, operation error STS: AssumeRoleWithWebIdentity, https response error StatusCode: 403, RequestID: 7616ba01-6899-47fb-8920-d750a59544cd, api error AccessDenied: Not authorized to perform sts:AssumeRoleWithWebIdentity\"\n",
      "E1223 21:04:56.404267       1 driver.go:108] \"GRPC error\" err=\"rpc error: code = Internal desc = Could not attach volume \\\"vol-08036a0c5d4471e2d\\\" to node \\\"i-0d29b5066e2e23a31\\\": error listing AWS instances: operation error EC2: DescribeInstances, get identity: get credentials: failed to refresh cached credentials, failed to retrieve credentials, operation error STS: AssumeRoleWithWebIdentity, https response error StatusCode: 403, RequestID: 7616ba01-6899-47fb-8920-d750a59544cd, api error AccessDenied: Not authorized to perform sts:AssumeRoleWithWebIdentity\"\n",
      "I1223 21:09:56.414563       1 controller.go:410] \"ControllerPublishVolume: attaching\" volumeID=\"vol-08036a0c5d4471e2d\" nodeID=\"i-0d29b5066e2e23a31\"\n",
      "E1223 21:09:56.947388       1 batcher.go:161] \"execute: error executing batch\" err=\"error listing AWS instances: operation error EC2: DescribeInstances, get identity: get credentials: failed to refresh cached credentials, failed to retrieve credentials, operation error STS: AssumeRoleWithWebIdentity, https response error StatusCode: 403, RequestID: 74a6eadc-9526-463d-8949-02f810045739, api error AccessDenied: Not authorized to perform sts:AssumeRoleWithWebIdentity\"\n",
      "E1223 21:09:56.947612       1 driver.go:108] \"GRPC error\" err=\"rpc error: code = Internal desc = Could not attach volume \\\"vol-08036a0c5d4471e2d\\\" to node \\\"i-0d29b5066e2e23a31\\\": error listing AWS instances: operation error EC2: DescribeInstances, get identity: get credentials: failed to refresh cached credentials, failed to retrieve credentials, operation error STS: AssumeRoleWithWebIdentity, https response error StatusCode: 403, RequestID: 74a6eadc-9526-463d-8949-02f810045739, api error AccessDenied: Not authorized to perform sts:AssumeRoleWithWebIdentity\"\n",
      "I1223 21:14:36.096443       1 controller.go:410] \"ControllerPublishVolume: attaching\" volumeID=\"vol-08036a0c5d4471e2d\" nodeID=\"i-0d29b5066e2e23a31\"\n",
      "E1223 21:14:36.663130       1 batcher.go:161] \"execute: error executing batch\" err=\"error listing AWS instances: operation error EC2: DescribeInstances, get identity: get credentials: failed to refresh cached credentials, failed to retrieve credentials, operation error STS: AssumeRoleWithWebIdentity, https response error StatusCode: 403, RequestID: 625ee55d-bb7e-4184-bebe-61eeaa4b79b1, api error AccessDenied: Not authorized to perform sts:AssumeRoleWithWebIdentity\"\n",
      "E1223 21:14:36.663177       1 driver.go:108] \"GRPC error\" err=\"rpc error: code = Internal desc = Could not attach volume \\\"vol-08036a0c5d4471e2d\\\" to node \\\"i-0d29b5066e2e23a31\\\": error listing AWS instances: operation error EC2: DescribeInstances, get identity: get credentials: failed to refresh cached credentials, failed to retrieve credentials, operation error STS: AssumeRoleWithWebIdentity, https response error StatusCode: 403, RequestID: 625ee55d-bb7e-4184-bebe-61eeaa4b79b1, api error AccessDenied: Not authorized to perform sts:AssumeRoleWithWebIdentity\"\n",
      "I1223 21:14:56.957615       1 controller.go:410] \"ControllerPublishVolume: attaching\" volumeID=\"vol-08036a0c5d4471e2d\" nodeID=\"i-0d29b5066e2e23a31\"\n",
      "E1223 21:14:57.470525       1 batcher.go:161] \"execute: error executing batch\" err=\"error listing AWS instances: operation error EC2: DescribeInstances, get identity: get credentials: failed to refresh cached credentials, failed to retrieve credentials, operation error STS: AssumeRoleWithWebIdentity, https response error StatusCode: 403, RequestID: 3200b8bd-6295-435a-a089-7e8f064ce52c, api error AccessDenied: Not authorized to perform sts:AssumeRoleWithWebIdentity\"\n",
      "E1223 21:14:57.470575       1 driver.go:108] \"GRPC error\" err=\"rpc error: code = Internal desc = Could not attach volume \\\"vol-08036a0c5d4471e2d\\\" to node \\\"i-0d29b5066e2e23a31\\\": error listing AWS instances: operation error EC2: DescribeInstances, get identity: get credentials: failed to refresh cached credentials, failed to retrieve credentials, operation error STS: AssumeRoleWithWebIdentity, https response error StatusCode: 403, RequestID: 3200b8bd-6295-435a-a089-7e8f064ce52c, api error AccessDenied: Not authorized to perform sts:AssumeRoleWithWebIdentity\"\n",
      "I1223 21:19:57.484811       1 controller.go:410] \"ControllerPublishVolume: attaching\" volumeID=\"vol-08036a0c5d4471e2d\" nodeID=\"i-0d29b5066e2e23a31\"\n",
      "E1223 21:19:58.052873       1 batcher.go:161] \"execute: error executing batch\" err=\"error listing AWS instances: operation error EC2: DescribeInstances, get identity: get credentials: failed to refresh cached credentials, failed to retrieve credentials, operation error STS: AssumeRoleWithWebIdentity, https response error StatusCode: 403, RequestID: 21c2f2a7-f320-4e92-8085-b040ce64a695, api error AccessDenied: Not authorized to perform sts:AssumeRoleWithWebIdentity\"\n",
      "E1223 21:19:58.052942       1 driver.go:108] \"GRPC error\" err=\"rpc error: code = Internal desc = Could not attach volume \\\"vol-08036a0c5d4471e2d\\\" to node \\\"i-0d29b5066e2e23a31\\\": error listing AWS instances: operation error EC2: DescribeInstances, get identity: get credentials: failed to refresh cached credentials, failed to retrieve credentials, operation error STS: AssumeRoleWithWebIdentity, https response error StatusCode: 403, RequestID: 21c2f2a7-f320-4e92-8085-b040ce64a695, api error AccessDenied: Not authorized to perform sts:AssumeRoleWithWebIdentity\"\n"
     ]
    }
   ],
   "source": [
    "!kubectl logs deployment/ebs-csi-controller -n kube-system -c ebs-plugin"
   ]
  },
  {
   "cell_type": "code",
   "execution_count": 78,
   "id": "8ab7f84b-398b-41fb-9c35-30f40c179f16",
   "metadata": {},
   "outputs": [
    {
     "name": "stdout",
     "output_type": "stream",
     "text": [
      "Found 2 pods, using pod/ebs-csi-node-hc4lq\n",
      "I1223 16:24:30.958969       1 main.go:153] \"Initializing metadata\"\n",
      "I1223 16:24:30.963930       1 metadata.go:48] \"Retrieved metadata from IMDS\"\n",
      "I1223 16:24:30.964409       1 driver.go:69] \"Driver Information\" Driver=\"ebs.csi.aws.com\" Version=\"v1.38.1\"\n",
      "E1223 16:24:31.978152       1 node.go:856] \"Unexpected failure when attempting to remove node taint(s)\" err=\"isAllocatableSet: driver not found on node ip-10-0-1-85.ca-central-1.compute.internal\"\n",
      "E1223 16:24:32.489247       1 node.go:856] \"Unexpected failure when attempting to remove node taint(s)\" err=\"isAllocatableSet: driver not found on node ip-10-0-1-85.ca-central-1.compute.internal\"\n",
      "I1223 16:24:33.501156       1 node.go:936] \"CSINode Allocatable value is set\" nodeName=\"ip-10-0-1-85.ca-central-1.compute.internal\" count=24\n"
     ]
    }
   ],
   "source": [
    "!kubectl logs daemonset/ebs-csi-node -n kube-system -c ebs-plugin"
   ]
  },
  {
   "cell_type": "code",
   "execution_count": 79,
   "id": "f2fd1fcf-f18f-4b19-abeb-1c207ddd58de",
   "metadata": {},
   "outputs": [
    {
     "name": "stdout",
     "output_type": "stream",
     "text": [
      "Found 2 pods, using pod/ebs-csi-controller-59b6797bf-k2lh2\n",
      "W1223 16:24:34.160727       1 feature_gate.go:354] Setting GA feature gate Topology=true. It will be removed in a future release.\n",
      "I1223 16:24:34.162583       1 feature_gate.go:387] feature gates: {map[Topology:true]}\n",
      "I1223 16:24:34.162675       1 csi-provisioner.go:154] Version: v5.1.0\n",
      "I1223 16:24:34.162687       1 csi-provisioner.go:177] Building kube configs for running in cluster...\n",
      "I1223 16:24:34.175251       1 common.go:143] \"Probing CSI driver for readiness\"\n",
      "I1223 16:24:34.196726       1 csi-provisioner.go:230] Detected CSI driver ebs.csi.aws.com\n",
      "I1223 16:24:34.196760       1 csi-provisioner.go:240] Supports migration from in-tree plugin: kubernetes.io/aws-ebs\n",
      "I1223 16:24:34.197954       1 common.go:143] \"Probing CSI driver for readiness\"\n",
      "I1223 16:24:34.211624       1 csi-provisioner.go:299] CSI driver supports PUBLISH_UNPUBLISH_VOLUME, watching VolumeAttachments\n",
      "I1223 16:24:34.212341       1 controller.go:744] \"Using saving PVs to API server in background\"\n",
      "I1223 16:24:34.212898       1 leaderelection.go:254] attempting to acquire leader lease kube-system/ebs-csi-aws-com...\n",
      "I1223 16:24:34.239568       1 leaderelection.go:268] successfully acquired lease kube-system/ebs-csi-aws-com\n",
      "I1223 16:24:34.240134       1 leader_election.go:184] \"became leader, starting\"\n",
      "I1223 16:24:34.240431       1 envvar.go:172] \"Feature gate default state\" feature=\"WatchListClient\" enabled=false\n",
      "I1223 16:24:34.240447       1 envvar.go:172] \"Feature gate default state\" feature=\"InformerResourceVersion\" enabled=false\n",
      "I1223 16:24:34.247608       1 reflector.go:368] Caches populated for *v1.StorageClass from k8s.io/client-go@v0.31.0/tools/cache/reflector.go:243\n",
      "I1223 16:24:34.254275       1 reflector.go:368] Caches populated for *v1.PersistentVolumeClaim from k8s.io/client-go@v0.31.0/tools/cache/reflector.go:243\n",
      "I1223 16:24:34.262791       1 reflector.go:368] Caches populated for *v1.VolumeAttachment from k8s.io/client-go@v0.31.0/tools/cache/reflector.go:243\n",
      "I1223 16:24:34.266488       1 reflector.go:368] Caches populated for *v1.Node from k8s.io/client-go@v0.31.0/tools/cache/reflector.go:243\n",
      "I1223 16:24:34.268549       1 reflector.go:368] Caches populated for *v1.CSINode from k8s.io/client-go@v0.31.0/tools/cache/reflector.go:243\n",
      "I1223 16:24:34.341305       1 controller.go:824] \"Starting provisioner controller\" component=\"ebs.csi.aws.com_ebs-csi-controller-59b6797bf-k2lh2_ffda4245-c20c-4387-b221-9fb74820a5f5\"\n",
      "I1223 16:24:34.341511       1 volume_store.go:98] \"Starting save volume queue\"\n",
      "I1223 16:24:34.345333       1 reflector.go:368] Caches populated for *v1.StorageClass from k8s.io/client-go@v0.31.0/tools/cache/reflector.go:243\n",
      "I1223 16:24:34.345438       1 reflector.go:368] Caches populated for *v1.PersistentVolume from k8s.io/client-go@v0.31.0/tools/cache/reflector.go:243\n",
      "I1223 16:24:34.442794       1 controller.go:873] \"Started provisioner controller\" component=\"ebs.csi.aws.com_ebs-csi-controller-59b6797bf-k2lh2_ffda4245-c20c-4387-b221-9fb74820a5f5\"\n"
     ]
    }
   ],
   "source": [
    "!kubectl logs deployment/ebs-csi-controller -n kube-system -c csi-provisioner"
   ]
  },
  {
   "cell_type": "code",
   "execution_count": 80,
   "id": "49134a19-5818-4030-8a7a-6c9e04d6157c",
   "metadata": {},
   "outputs": [
    {
     "name": "stdout",
     "output_type": "stream",
     "text": [
      "Found 2 pods, using pod/ebs-csi-controller-59b6797bf-k2lh2\n",
      "I1223 16:24:36.030375       1 main.go:109] \"Version\" version=\"v4.7.0\"\n",
      "I1223 16:24:36.037130       1 common.go:143] \"Probing CSI driver for readiness\"\n",
      "I1223 16:24:36.045391       1 main.go:169] \"CSI driver name\" driver=\"ebs.csi.aws.com\"\n",
      "I1223 16:24:36.047066       1 common.go:143] \"Probing CSI driver for readiness\"\n",
      "I1223 16:24:36.049264       1 main.go:249] \"CSI driver supports ControllerPublishUnpublish, using real CSI handler\" driver=\"ebs.csi.aws.com\"\n",
      "I1223 16:24:36.050412       1 leaderelection.go:254] attempting to acquire leader lease kube-system/external-attacher-leader-ebs-csi-aws-com...\n",
      "I1223 16:24:36.072344       1 leaderelection.go:268] successfully acquired lease kube-system/external-attacher-leader-ebs-csi-aws-com\n",
      "I1223 16:24:36.072743       1 leader_election.go:184] \"became leader, starting\"\n",
      "I1223 16:24:36.072890       1 controller.go:129] \"Starting CSI attacher\"\n",
      "I1223 16:24:36.073047       1 envvar.go:172] \"Feature gate default state\" feature=\"WatchListClient\" enabled=false\n",
      "I1223 16:24:36.073124       1 envvar.go:172] \"Feature gate default state\" feature=\"InformerResourceVersion\" enabled=false\n",
      "I1223 16:24:36.078531       1 reflector.go:368] Caches populated for *v1.PersistentVolume from k8s.io/client-go@v0.31.0/tools/cache/reflector.go:243\n",
      "I1223 16:24:36.079160       1 reflector.go:368] Caches populated for *v1.VolumeAttachment from k8s.io/client-go@v0.31.0/tools/cache/reflector.go:243\n",
      "I1223 16:24:36.079564       1 reflector.go:368] Caches populated for *v1.CSINode from k8s.io/client-go@v0.31.0/tools/cache/reflector.go:243\n",
      "I1223 18:04:43.317070       1 csi_handler.go:261] \"Attaching\" VolumeAttachment=\"csi-b6742dc861137065d3f79a3d2251a708407f857d294a4dd32dd2a783b9d25f6c\"\n",
      "I1223 18:04:48.875754       1 csi_handler.go:243] \"Error processing\" VolumeAttachment=\"csi-b6742dc861137065d3f79a3d2251a708407f857d294a4dd32dd2a783b9d25f6c\" err=\"failed to attach: rpc error: code = Internal desc = Could not attach volume \\\"vol-08036a0c5d4471e2d\\\" to node \\\"i-0d29b5066e2e23a31\\\": error listing AWS instances: operation error EC2: DescribeInstances, get identity: get credentials: failed to refresh cached credentials, failed to retrieve credentials, operation error STS: AssumeRoleWithWebIdentity, exceeded maximum number of attempts, 3, https response error StatusCode: 400, RequestID: 11016048-8564-4225-ba6b-55d74f97cb8a, InvalidIdentityToken: No OpenIDConnect provider found in your account for https://oidc.eks.ca-central-1.amazonaws.com/id/4FB04E75229E24476C49CBB7BDC2959D\"\n",
      "I1223 18:04:48.875982       1 csi_handler.go:261] \"Attaching\" VolumeAttachment=\"csi-b6742dc861137065d3f79a3d2251a708407f857d294a4dd32dd2a783b9d25f6c\"\n",
      "I1223 18:04:50.256712       1 csi_handler.go:243] \"Error processing\" VolumeAttachment=\"csi-b6742dc861137065d3f79a3d2251a708407f857d294a4dd32dd2a783b9d25f6c\" err=\"failed to attach: rpc error: code = Internal desc = Could not attach volume \\\"vol-08036a0c5d4471e2d\\\" to node \\\"i-0d29b5066e2e23a31\\\": error listing AWS instances: operation error EC2: DescribeInstances, get identity: get credentials: failed to refresh cached credentials, failed to retrieve credentials, operation error STS: AssumeRoleWithWebIdentity, exceeded maximum number of attempts, 3, https response error StatusCode: 400, RequestID: 1aa2059c-420a-48d5-b5b1-9f4cc12b1525, InvalidIdentityToken: No OpenIDConnect provider found in your account for https://oidc.eks.ca-central-1.amazonaws.com/id/4FB04E75229E24476C49CBB7BDC2959D\"\n",
      "I1223 18:04:50.257140       1 csi_handler.go:261] \"Attaching\" VolumeAttachment=\"csi-b6742dc861137065d3f79a3d2251a708407f857d294a4dd32dd2a783b9d25f6c\"\n",
      "I1223 18:04:54.430914       1 csi_handler.go:243] \"Error processing\" VolumeAttachment=\"csi-b6742dc861137065d3f79a3d2251a708407f857d294a4dd32dd2a783b9d25f6c\" err=\"failed to attach: rpc error: code = Internal desc = Could not attach volume \\\"vol-08036a0c5d4471e2d\\\" to node \\\"i-0d29b5066e2e23a31\\\": error listing AWS instances: operation error EC2: DescribeInstances, get identity: get credentials: failed to refresh cached credentials, failed to retrieve credentials, operation error STS: AssumeRoleWithWebIdentity, exceeded maximum number of attempts, 3, https response error StatusCode: 400, RequestID: fce2ef6a-049d-4654-8775-340886babc78, InvalidIdentityToken: No OpenIDConnect provider found in your account for https://oidc.eks.ca-central-1.amazonaws.com/id/4FB04E75229E24476C49CBB7BDC2959D\"\n",
      "I1223 18:04:54.431240       1 csi_handler.go:261] \"Attaching\" VolumeAttachment=\"csi-b6742dc861137065d3f79a3d2251a708407f857d294a4dd32dd2a783b9d25f6c\"\n",
      "I1223 18:04:56.649368       1 csi_handler.go:243] \"Error processing\" VolumeAttachment=\"csi-b6742dc861137065d3f79a3d2251a708407f857d294a4dd32dd2a783b9d25f6c\" err=\"failed to attach: rpc error: code = Internal desc = Could not attach volume \\\"vol-08036a0c5d4471e2d\\\" to node \\\"i-0d29b5066e2e23a31\\\": error listing AWS instances: operation error EC2: DescribeInstances, get identity: get credentials: failed to refresh cached credentials, failed to retrieve credentials, operation error STS: AssumeRoleWithWebIdentity, exceeded maximum number of attempts, 3, https response error StatusCode: 400, RequestID: 6bdc72d8-e1e8-44cf-92e3-1aea85b42b35, InvalidIdentityToken: No OpenIDConnect provider found in your account for https://oidc.eks.ca-central-1.amazonaws.com/id/4FB04E75229E24476C49CBB7BDC2959D\"\n",
      "I1223 18:04:58.431222       1 csi_handler.go:261] \"Attaching\" VolumeAttachment=\"csi-b6742dc861137065d3f79a3d2251a708407f857d294a4dd32dd2a783b9d25f6c\"\n",
      "I1223 18:04:59.439256       1 csi_handler.go:243] \"Error processing\" VolumeAttachment=\"csi-b6742dc861137065d3f79a3d2251a708407f857d294a4dd32dd2a783b9d25f6c\" err=\"failed to attach: rpc error: code = Internal desc = Could not attach volume \\\"vol-08036a0c5d4471e2d\\\" to node \\\"i-0d29b5066e2e23a31\\\": error listing AWS instances: operation error EC2: DescribeInstances, get identity: get credentials: failed to refresh cached credentials, failed to retrieve credentials, operation error STS: AssumeRoleWithWebIdentity, exceeded maximum number of attempts, 3, https response error StatusCode: 400, RequestID: 3a62ad06-0149-46e8-9eaf-e78a3f6edd18, InvalidIdentityToken: No OpenIDConnect provider found in your account for https://oidc.eks.ca-central-1.amazonaws.com/id/4FB04E75229E24476C49CBB7BDC2959D\"\n",
      "I1223 18:05:15.441527       1 csi_handler.go:261] \"Attaching\" VolumeAttachment=\"csi-b6742dc861137065d3f79a3d2251a708407f857d294a4dd32dd2a783b9d25f6c\"\n",
      "I1223 18:05:17.246132       1 csi_handler.go:243] \"Error processing\" VolumeAttachment=\"csi-b6742dc861137065d3f79a3d2251a708407f857d294a4dd32dd2a783b9d25f6c\" err=\"failed to attach: rpc error: code = Internal desc = Could not attach volume \\\"vol-08036a0c5d4471e2d\\\" to node \\\"i-0d29b5066e2e23a31\\\": error listing AWS instances: operation error EC2: DescribeInstances, get identity: get credentials: failed to refresh cached credentials, failed to retrieve credentials, operation error STS: AssumeRoleWithWebIdentity, exceeded maximum number of attempts, 3, https response error StatusCode: 400, RequestID: 54ecde19-0511-4344-bb44-01d692a72647, InvalidIdentityToken: No OpenIDConnect provider found in your account for https://oidc.eks.ca-central-1.amazonaws.com/id/4FB04E75229E24476C49CBB7BDC2959D\"\n",
      "I1223 18:05:49.246411       1 csi_handler.go:261] \"Attaching\" VolumeAttachment=\"csi-b6742dc861137065d3f79a3d2251a708407f857d294a4dd32dd2a783b9d25f6c\"\n",
      "I1223 18:05:53.629531       1 csi_handler.go:243] \"Error processing\" VolumeAttachment=\"csi-b6742dc861137065d3f79a3d2251a708407f857d294a4dd32dd2a783b9d25f6c\" err=\"failed to attach: rpc error: code = Internal desc = Could not attach volume \\\"vol-08036a0c5d4471e2d\\\" to node \\\"i-0d29b5066e2e23a31\\\": error listing AWS instances: operation error EC2: DescribeInstances, get identity: get credentials: failed to refresh cached credentials, failed to retrieve credentials, operation error STS: AssumeRoleWithWebIdentity, exceeded maximum number of attempts, 3, https response error StatusCode: 400, RequestID: 265bfb14-82da-462c-a5ba-dba821597201, InvalidIdentityToken: No OpenIDConnect provider found in your account for https://oidc.eks.ca-central-1.amazonaws.com/id/4FB04E75229E24476C49CBB7BDC2959D\"\n",
      "I1223 18:06:57.630530       1 csi_handler.go:261] \"Attaching\" VolumeAttachment=\"csi-b6742dc861137065d3f79a3d2251a708407f857d294a4dd32dd2a783b9d25f6c\"\n",
      "I1223 18:06:59.104994       1 csi_handler.go:243] \"Error processing\" VolumeAttachment=\"csi-b6742dc861137065d3f79a3d2251a708407f857d294a4dd32dd2a783b9d25f6c\" err=\"failed to attach: rpc error: code = Internal desc = Could not attach volume \\\"vol-08036a0c5d4471e2d\\\" to node \\\"i-0d29b5066e2e23a31\\\": error listing AWS instances: operation error EC2: DescribeInstances, get identity: get credentials: failed to refresh cached credentials, failed to retrieve credentials, operation error STS: AssumeRoleWithWebIdentity, exceeded maximum number of attempts, 3, https response error StatusCode: 400, RequestID: ae36f109-938a-4bab-8701-e391b9164591, InvalidIdentityToken: No OpenIDConnect provider found in your account for https://oidc.eks.ca-central-1.amazonaws.com/id/4FB04E75229E24476C49CBB7BDC2959D\"\n",
      "I1223 18:09:07.105790       1 csi_handler.go:261] \"Attaching\" VolumeAttachment=\"csi-b6742dc861137065d3f79a3d2251a708407f857d294a4dd32dd2a783b9d25f6c\"\n",
      "I1223 18:09:11.333612       1 csi_handler.go:243] \"Error processing\" VolumeAttachment=\"csi-b6742dc861137065d3f79a3d2251a708407f857d294a4dd32dd2a783b9d25f6c\" err=\"failed to attach: rpc error: code = Internal desc = Could not attach volume \\\"vol-08036a0c5d4471e2d\\\" to node \\\"i-0d29b5066e2e23a31\\\": error listing AWS instances: operation error EC2: DescribeInstances, get identity: get credentials: failed to refresh cached credentials, failed to retrieve credentials, operation error STS: AssumeRoleWithWebIdentity, exceeded maximum number of attempts, 3, https response error StatusCode: 400, RequestID: 55cf5007-ac8f-4d88-aff4-2f6204f716e6, InvalidIdentityToken: No OpenIDConnect provider found in your account for https://oidc.eks.ca-central-1.amazonaws.com/id/4FB04E75229E24476C49CBB7BDC2959D\"\n",
      "I1223 18:13:27.334134       1 csi_handler.go:261] \"Attaching\" VolumeAttachment=\"csi-b6742dc861137065d3f79a3d2251a708407f857d294a4dd32dd2a783b9d25f6c\"\n",
      "I1223 18:13:32.554061       1 csi_handler.go:243] \"Error processing\" VolumeAttachment=\"csi-b6742dc861137065d3f79a3d2251a708407f857d294a4dd32dd2a783b9d25f6c\" err=\"failed to attach: rpc error: code = Internal desc = Could not attach volume \\\"vol-08036a0c5d4471e2d\\\" to node \\\"i-0d29b5066e2e23a31\\\": error listing AWS instances: operation error EC2: DescribeInstances, get identity: get credentials: failed to refresh cached credentials, failed to retrieve credentials, operation error STS: AssumeRoleWithWebIdentity, exceeded maximum number of attempts, 3, https response error StatusCode: 400, RequestID: 746d0bba-bb33-4204-b9c4-7cd806ba23df, InvalidIdentityToken: No OpenIDConnect provider found in your account for https://oidc.eks.ca-central-1.amazonaws.com/id/4FB04E75229E24476C49CBB7BDC2959D\"\n",
      "I1223 18:14:36.086242       1 csi_handler.go:261] \"Attaching\" VolumeAttachment=\"csi-b6742dc861137065d3f79a3d2251a708407f857d294a4dd32dd2a783b9d25f6c\"\n",
      "I1223 18:14:42.499900       1 csi_handler.go:243] \"Error processing\" VolumeAttachment=\"csi-b6742dc861137065d3f79a3d2251a708407f857d294a4dd32dd2a783b9d25f6c\" err=\"failed to attach: rpc error: code = Internal desc = Could not attach volume \\\"vol-08036a0c5d4471e2d\\\" to node \\\"i-0d29b5066e2e23a31\\\": error listing AWS instances: operation error EC2: DescribeInstances, get identity: get credentials: failed to refresh cached credentials, failed to retrieve credentials, operation error STS: AssumeRoleWithWebIdentity, exceeded maximum number of attempts, 3, https response error StatusCode: 400, RequestID: 47ce8663-823a-448b-9006-4532c3159458, InvalidIdentityToken: No OpenIDConnect provider found in your account for https://oidc.eks.ca-central-1.amazonaws.com/id/4FB04E75229E24476C49CBB7BDC2959D\"\n",
      "I1223 18:18:32.555174       1 csi_handler.go:261] \"Attaching\" VolumeAttachment=\"csi-b6742dc861137065d3f79a3d2251a708407f857d294a4dd32dd2a783b9d25f6c\"\n",
      "I1223 18:18:37.629784       1 csi_handler.go:243] \"Error processing\" VolumeAttachment=\"csi-b6742dc861137065d3f79a3d2251a708407f857d294a4dd32dd2a783b9d25f6c\" err=\"failed to attach: rpc error: code = Internal desc = Could not attach volume \\\"vol-08036a0c5d4471e2d\\\" to node \\\"i-0d29b5066e2e23a31\\\": error listing AWS instances: operation error EC2: DescribeInstances, get identity: get credentials: failed to refresh cached credentials, failed to retrieve credentials, operation error STS: AssumeRoleWithWebIdentity, exceeded maximum number of attempts, 3, https response error StatusCode: 400, RequestID: 0b3d6618-9bef-4626-a105-1868f89c0643, InvalidIdentityToken: No OpenIDConnect provider found in your account for https://oidc.eks.ca-central-1.amazonaws.com/id/4FB04E75229E24476C49CBB7BDC2959D\"\n",
      "I1223 18:23:37.631317       1 csi_handler.go:261] \"Attaching\" VolumeAttachment=\"csi-b6742dc861137065d3f79a3d2251a708407f857d294a4dd32dd2a783b9d25f6c\"\n",
      "I1223 18:23:40.912382       1 csi_handler.go:243] \"Error processing\" VolumeAttachment=\"csi-b6742dc861137065d3f79a3d2251a708407f857d294a4dd32dd2a783b9d25f6c\" err=\"failed to attach: rpc error: code = Internal desc = Could not attach volume \\\"vol-08036a0c5d4471e2d\\\" to node \\\"i-0d29b5066e2e23a31\\\": error listing AWS instances: operation error EC2: DescribeInstances, get identity: get credentials: failed to refresh cached credentials, failed to retrieve credentials, operation error STS: AssumeRoleWithWebIdentity, exceeded maximum number of attempts, 3, https response error StatusCode: 400, RequestID: a1f579b5-9d32-4a7f-ad07-643afe46e3e2, InvalidIdentityToken: No OpenIDConnect provider found in your account for https://oidc.eks.ca-central-1.amazonaws.com/id/4FB04E75229E24476C49CBB7BDC2959D\"\n",
      "I1223 18:24:36.086053       1 csi_handler.go:261] \"Attaching\" VolumeAttachment=\"csi-b6742dc861137065d3f79a3d2251a708407f857d294a4dd32dd2a783b9d25f6c\"\n",
      "I1223 18:24:40.115544       1 csi_handler.go:243] \"Error processing\" VolumeAttachment=\"csi-b6742dc861137065d3f79a3d2251a708407f857d294a4dd32dd2a783b9d25f6c\" err=\"failed to attach: rpc error: code = Internal desc = Could not attach volume \\\"vol-08036a0c5d4471e2d\\\" to node \\\"i-0d29b5066e2e23a31\\\": error listing AWS instances: operation error EC2: DescribeInstances, get identity: get credentials: failed to refresh cached credentials, failed to retrieve credentials, operation error STS: AssumeRoleWithWebIdentity, exceeded maximum number of attempts, 3, https response error StatusCode: 400, RequestID: f1ffc1a7-b3c7-4295-84d4-cf6f135b3cfb, InvalidIdentityToken: No OpenIDConnect provider found in your account for https://oidc.eks.ca-central-1.amazonaws.com/id/4FB04E75229E24476C49CBB7BDC2959D\"\n",
      "I1223 18:28:40.912776       1 csi_handler.go:261] \"Attaching\" VolumeAttachment=\"csi-b6742dc861137065d3f79a3d2251a708407f857d294a4dd32dd2a783b9d25f6c\"\n",
      "I1223 18:28:44.606339       1 csi_handler.go:243] \"Error processing\" VolumeAttachment=\"csi-b6742dc861137065d3f79a3d2251a708407f857d294a4dd32dd2a783b9d25f6c\" err=\"failed to attach: rpc error: code = Internal desc = Could not attach volume \\\"vol-08036a0c5d4471e2d\\\" to node \\\"i-0d29b5066e2e23a31\\\": error listing AWS instances: operation error EC2: DescribeInstances, get identity: get credentials: failed to refresh cached credentials, failed to retrieve credentials, operation error STS: AssumeRoleWithWebIdentity, exceeded maximum number of attempts, 3, https response error StatusCode: 400, RequestID: b24d797a-f41f-4ee7-bbbc-f2ec4fb60df9, InvalidIdentityToken: No OpenIDConnect provider found in your account for https://oidc.eks.ca-central-1.amazonaws.com/id/4FB04E75229E24476C49CBB7BDC2959D\"\n",
      "I1223 18:33:44.609229       1 csi_handler.go:261] \"Attaching\" VolumeAttachment=\"csi-b6742dc861137065d3f79a3d2251a708407f857d294a4dd32dd2a783b9d25f6c\"\n",
      "I1223 18:33:49.150073       1 csi_handler.go:243] \"Error processing\" VolumeAttachment=\"csi-b6742dc861137065d3f79a3d2251a708407f857d294a4dd32dd2a783b9d25f6c\" err=\"failed to attach: rpc error: code = Internal desc = Could not attach volume \\\"vol-08036a0c5d4471e2d\\\" to node \\\"i-0d29b5066e2e23a31\\\": error listing AWS instances: operation error EC2: DescribeInstances, get identity: get credentials: failed to refresh cached credentials, failed to retrieve credentials, operation error STS: AssumeRoleWithWebIdentity, exceeded maximum number of attempts, 3, https response error StatusCode: 400, RequestID: 26c635de-0a44-4b29-9299-674fdbfed300, InvalidIdentityToken: No OpenIDConnect provider found in your account for https://oidc.eks.ca-central-1.amazonaws.com/id/4FB04E75229E24476C49CBB7BDC2959D\"\n",
      "I1223 18:34:36.086323       1 csi_handler.go:261] \"Attaching\" VolumeAttachment=\"csi-b6742dc861137065d3f79a3d2251a708407f857d294a4dd32dd2a783b9d25f6c\"\n",
      "I1223 18:34:42.164556       1 csi_handler.go:243] \"Error processing\" VolumeAttachment=\"csi-b6742dc861137065d3f79a3d2251a708407f857d294a4dd32dd2a783b9d25f6c\" err=\"failed to attach: rpc error: code = Internal desc = Could not attach volume \\\"vol-08036a0c5d4471e2d\\\" to node \\\"i-0d29b5066e2e23a31\\\": error listing AWS instances: operation error EC2: DescribeInstances, get identity: get credentials: failed to refresh cached credentials, failed to retrieve credentials, operation error STS: AssumeRoleWithWebIdentity, exceeded maximum number of attempts, 3, https response error StatusCode: 400, RequestID: 29345fa2-72bb-424d-8909-3e1c1a7be10c, InvalidIdentityToken: No OpenIDConnect provider found in your account for https://oidc.eks.ca-central-1.amazonaws.com/id/4FB04E75229E24476C49CBB7BDC2959D\"\n",
      "I1223 18:38:49.150289       1 csi_handler.go:261] \"Attaching\" VolumeAttachment=\"csi-b6742dc861137065d3f79a3d2251a708407f857d294a4dd32dd2a783b9d25f6c\"\n",
      "I1223 18:38:53.773559       1 csi_handler.go:243] \"Error processing\" VolumeAttachment=\"csi-b6742dc861137065d3f79a3d2251a708407f857d294a4dd32dd2a783b9d25f6c\" err=\"failed to attach: rpc error: code = Internal desc = Could not attach volume \\\"vol-08036a0c5d4471e2d\\\" to node \\\"i-0d29b5066e2e23a31\\\": error listing AWS instances: operation error EC2: DescribeInstances, get identity: get credentials: failed to refresh cached credentials, failed to retrieve credentials, operation error STS: AssumeRoleWithWebIdentity, exceeded maximum number of attempts, 3, https response error StatusCode: 400, RequestID: a08604e5-2729-49fd-ad60-4a321a1b9d1c, InvalidIdentityToken: No OpenIDConnect provider found in your account for https://oidc.eks.ca-central-1.amazonaws.com/id/4FB04E75229E24476C49CBB7BDC2959D\"\n",
      "I1223 18:43:53.773972       1 csi_handler.go:261] \"Attaching\" VolumeAttachment=\"csi-b6742dc861137065d3f79a3d2251a708407f857d294a4dd32dd2a783b9d25f6c\"\n",
      "I1223 18:43:58.271679       1 csi_handler.go:243] \"Error processing\" VolumeAttachment=\"csi-b6742dc861137065d3f79a3d2251a708407f857d294a4dd32dd2a783b9d25f6c\" err=\"failed to attach: rpc error: code = Internal desc = Could not attach volume \\\"vol-08036a0c5d4471e2d\\\" to node \\\"i-0d29b5066e2e23a31\\\": error listing AWS instances: operation error EC2: DescribeInstances, get identity: get credentials: failed to refresh cached credentials, failed to retrieve credentials, operation error STS: AssumeRoleWithWebIdentity, exceeded maximum number of attempts, 3, https response error StatusCode: 400, RequestID: 88976027-efcc-4066-9714-5cac8d6add6e, InvalidIdentityToken: No OpenIDConnect provider found in your account for https://oidc.eks.ca-central-1.amazonaws.com/id/4FB04E75229E24476C49CBB7BDC2959D\"\n",
      "I1223 18:44:36.086372       1 csi_handler.go:261] \"Attaching\" VolumeAttachment=\"csi-b6742dc861137065d3f79a3d2251a708407f857d294a4dd32dd2a783b9d25f6c\"\n",
      "I1223 18:44:39.294462       1 csi_handler.go:243] \"Error processing\" VolumeAttachment=\"csi-b6742dc861137065d3f79a3d2251a708407f857d294a4dd32dd2a783b9d25f6c\" err=\"failed to attach: rpc error: code = Internal desc = Could not attach volume \\\"vol-08036a0c5d4471e2d\\\" to node \\\"i-0d29b5066e2e23a31\\\": error listing AWS instances: operation error EC2: DescribeInstances, get identity: get credentials: failed to refresh cached credentials, failed to retrieve credentials, operation error STS: AssumeRoleWithWebIdentity, exceeded maximum number of attempts, 3, https response error StatusCode: 400, RequestID: 847b68fd-da06-42d2-9723-977b458e1df7, InvalidIdentityToken: No OpenIDConnect provider found in your account for https://oidc.eks.ca-central-1.amazonaws.com/id/4FB04E75229E24476C49CBB7BDC2959D\"\n",
      "I1223 18:48:58.271888       1 csi_handler.go:261] \"Attaching\" VolumeAttachment=\"csi-b6742dc861137065d3f79a3d2251a708407f857d294a4dd32dd2a783b9d25f6c\"\n",
      "I1223 18:49:00.408763       1 csi_handler.go:243] \"Error processing\" VolumeAttachment=\"csi-b6742dc861137065d3f79a3d2251a708407f857d294a4dd32dd2a783b9d25f6c\" err=\"failed to attach: rpc error: code = Internal desc = Could not attach volume \\\"vol-08036a0c5d4471e2d\\\" to node \\\"i-0d29b5066e2e23a31\\\": error listing AWS instances: operation error EC2: DescribeInstances, get identity: get credentials: failed to refresh cached credentials, failed to retrieve credentials, operation error STS: AssumeRoleWithWebIdentity, exceeded maximum number of attempts, 3, https response error StatusCode: 400, RequestID: 7232750f-b1f5-492c-806c-35d6ba6df160, InvalidIdentityToken: No OpenIDConnect provider found in your account for https://oidc.eks.ca-central-1.amazonaws.com/id/4FB04E75229E24476C49CBB7BDC2959D\"\n",
      "I1223 18:54:00.409087       1 csi_handler.go:261] \"Attaching\" VolumeAttachment=\"csi-b6742dc861137065d3f79a3d2251a708407f857d294a4dd32dd2a783b9d25f6c\"\n",
      "I1223 18:54:02.962385       1 csi_handler.go:243] \"Error processing\" VolumeAttachment=\"csi-b6742dc861137065d3f79a3d2251a708407f857d294a4dd32dd2a783b9d25f6c\" err=\"failed to attach: rpc error: code = Internal desc = Could not attach volume \\\"vol-08036a0c5d4471e2d\\\" to node \\\"i-0d29b5066e2e23a31\\\": error listing AWS instances: operation error EC2: DescribeInstances, get identity: get credentials: failed to refresh cached credentials, failed to retrieve credentials, operation error STS: AssumeRoleWithWebIdentity, exceeded maximum number of attempts, 3, https response error StatusCode: 400, RequestID: 06894953-26a5-4298-a40b-1555a4be8807, InvalidIdentityToken: No OpenIDConnect provider found in your account for https://oidc.eks.ca-central-1.amazonaws.com/id/4FB04E75229E24476C49CBB7BDC2959D\"\n",
      "I1223 18:54:36.087464       1 csi_handler.go:261] \"Attaching\" VolumeAttachment=\"csi-b6742dc861137065d3f79a3d2251a708407f857d294a4dd32dd2a783b9d25f6c\"\n",
      "I1223 18:54:38.535876       1 csi_handler.go:243] \"Error processing\" VolumeAttachment=\"csi-b6742dc861137065d3f79a3d2251a708407f857d294a4dd32dd2a783b9d25f6c\" err=\"failed to attach: rpc error: code = Internal desc = Could not attach volume \\\"vol-08036a0c5d4471e2d\\\" to node \\\"i-0d29b5066e2e23a31\\\": error listing AWS instances: operation error EC2: DescribeInstances, get identity: get credentials: failed to refresh cached credentials, failed to retrieve credentials, operation error STS: AssumeRoleWithWebIdentity, exceeded maximum number of attempts, 3, https response error StatusCode: 400, RequestID: 0ebcf015-a93a-4da9-8f29-e4b5007f1fed, InvalidIdentityToken: No OpenIDConnect provider found in your account for https://oidc.eks.ca-central-1.amazonaws.com/id/4FB04E75229E24476C49CBB7BDC2959D\"\n",
      "I1223 18:59:02.962619       1 csi_handler.go:261] \"Attaching\" VolumeAttachment=\"csi-b6742dc861137065d3f79a3d2251a708407f857d294a4dd32dd2a783b9d25f6c\"\n",
      "I1223 18:59:07.715741       1 csi_handler.go:243] \"Error processing\" VolumeAttachment=\"csi-b6742dc861137065d3f79a3d2251a708407f857d294a4dd32dd2a783b9d25f6c\" err=\"failed to attach: rpc error: code = Internal desc = Could not attach volume \\\"vol-08036a0c5d4471e2d\\\" to node \\\"i-0d29b5066e2e23a31\\\": error listing AWS instances: operation error EC2: DescribeInstances, get identity: get credentials: failed to refresh cached credentials, failed to retrieve credentials, operation error STS: AssumeRoleWithWebIdentity, exceeded maximum number of attempts, 3, https response error StatusCode: 400, RequestID: 1e39179b-51fd-4332-abf8-f55e09fdd051, InvalidIdentityToken: No OpenIDConnect provider found in your account for https://oidc.eks.ca-central-1.amazonaws.com/id/4FB04E75229E24476C49CBB7BDC2959D\"\n",
      "I1223 19:04:07.717591       1 csi_handler.go:261] \"Attaching\" VolumeAttachment=\"csi-b6742dc861137065d3f79a3d2251a708407f857d294a4dd32dd2a783b9d25f6c\"\n",
      "I1223 19:04:11.194862       1 csi_handler.go:243] \"Error processing\" VolumeAttachment=\"csi-b6742dc861137065d3f79a3d2251a708407f857d294a4dd32dd2a783b9d25f6c\" err=\"failed to attach: rpc error: code = Internal desc = Could not attach volume \\\"vol-08036a0c5d4471e2d\\\" to node \\\"i-0d29b5066e2e23a31\\\": error listing AWS instances: operation error EC2: DescribeInstances, get identity: get credentials: failed to refresh cached credentials, failed to retrieve credentials, operation error STS: AssumeRoleWithWebIdentity, exceeded maximum number of attempts, 3, https response error StatusCode: 400, RequestID: aaa546db-cdcd-4383-b7df-bebc274442fb, InvalidIdentityToken: No OpenIDConnect provider found in your account for https://oidc.eks.ca-central-1.amazonaws.com/id/4FB04E75229E24476C49CBB7BDC2959D\"\n",
      "I1223 19:04:36.087917       1 csi_handler.go:261] \"Attaching\" VolumeAttachment=\"csi-b6742dc861137065d3f79a3d2251a708407f857d294a4dd32dd2a783b9d25f6c\"\n",
      "I1223 19:04:39.496043       1 csi_handler.go:243] \"Error processing\" VolumeAttachment=\"csi-b6742dc861137065d3f79a3d2251a708407f857d294a4dd32dd2a783b9d25f6c\" err=\"failed to attach: rpc error: code = Internal desc = Could not attach volume \\\"vol-08036a0c5d4471e2d\\\" to node \\\"i-0d29b5066e2e23a31\\\": error listing AWS instances: operation error EC2: DescribeInstances, get identity: get credentials: failed to refresh cached credentials, failed to retrieve credentials, operation error STS: AssumeRoleWithWebIdentity, exceeded maximum number of attempts, 3, https response error StatusCode: 400, RequestID: 0a78b066-e651-4044-baed-3aa8d85b7354, InvalidIdentityToken: No OpenIDConnect provider found in your account for https://oidc.eks.ca-central-1.amazonaws.com/id/4FB04E75229E24476C49CBB7BDC2959D\"\n",
      "I1223 19:09:11.195834       1 csi_handler.go:261] \"Attaching\" VolumeAttachment=\"csi-b6742dc861137065d3f79a3d2251a708407f857d294a4dd32dd2a783b9d25f6c\"\n",
      "I1223 19:09:13.145781       1 csi_handler.go:243] \"Error processing\" VolumeAttachment=\"csi-b6742dc861137065d3f79a3d2251a708407f857d294a4dd32dd2a783b9d25f6c\" err=\"failed to attach: rpc error: code = Internal desc = Could not attach volume \\\"vol-08036a0c5d4471e2d\\\" to node \\\"i-0d29b5066e2e23a31\\\": error listing AWS instances: operation error EC2: DescribeInstances, get identity: get credentials: failed to refresh cached credentials, failed to retrieve credentials, operation error STS: AssumeRoleWithWebIdentity, exceeded maximum number of attempts, 3, https response error StatusCode: 400, RequestID: 0d88520d-1fef-4d21-bc37-8c3e64a9ad5e, InvalidIdentityToken: No OpenIDConnect provider found in your account for https://oidc.eks.ca-central-1.amazonaws.com/id/4FB04E75229E24476C49CBB7BDC2959D\"\n",
      "I1223 19:14:13.147883       1 csi_handler.go:261] \"Attaching\" VolumeAttachment=\"csi-b6742dc861137065d3f79a3d2251a708407f857d294a4dd32dd2a783b9d25f6c\"\n",
      "I1223 19:14:17.238910       1 csi_handler.go:243] \"Error processing\" VolumeAttachment=\"csi-b6742dc861137065d3f79a3d2251a708407f857d294a4dd32dd2a783b9d25f6c\" err=\"failed to attach: rpc error: code = Internal desc = Could not attach volume \\\"vol-08036a0c5d4471e2d\\\" to node \\\"i-0d29b5066e2e23a31\\\": error listing AWS instances: operation error EC2: DescribeInstances, get identity: get credentials: failed to refresh cached credentials, failed to retrieve credentials, operation error STS: AssumeRoleWithWebIdentity, exceeded maximum number of attempts, 3, https response error StatusCode: 400, RequestID: ce1a7a7d-adeb-4395-83bf-90dd7f1e4a33, InvalidIdentityToken: No OpenIDConnect provider found in your account for https://oidc.eks.ca-central-1.amazonaws.com/id/4FB04E75229E24476C49CBB7BDC2959D\"\n",
      "I1223 19:14:36.088831       1 csi_handler.go:261] \"Attaching\" VolumeAttachment=\"csi-b6742dc861137065d3f79a3d2251a708407f857d294a4dd32dd2a783b9d25f6c\"\n",
      "I1223 19:14:40.056173       1 csi_handler.go:243] \"Error processing\" VolumeAttachment=\"csi-b6742dc861137065d3f79a3d2251a708407f857d294a4dd32dd2a783b9d25f6c\" err=\"failed to attach: rpc error: code = Internal desc = Could not attach volume \\\"vol-08036a0c5d4471e2d\\\" to node \\\"i-0d29b5066e2e23a31\\\": error listing AWS instances: operation error EC2: DescribeInstances, get identity: get credentials: failed to refresh cached credentials, failed to retrieve credentials, operation error STS: AssumeRoleWithWebIdentity, exceeded maximum number of attempts, 3, https response error StatusCode: 400, RequestID: 332ce568-6c98-49cb-be5a-1ab652e68122, InvalidIdentityToken: No OpenIDConnect provider found in your account for https://oidc.eks.ca-central-1.amazonaws.com/id/4FB04E75229E24476C49CBB7BDC2959D\"\n",
      "I1223 19:19:17.239130       1 csi_handler.go:261] \"Attaching\" VolumeAttachment=\"csi-b6742dc861137065d3f79a3d2251a708407f857d294a4dd32dd2a783b9d25f6c\"\n",
      "I1223 19:19:18.476198       1 csi_handler.go:243] \"Error processing\" VolumeAttachment=\"csi-b6742dc861137065d3f79a3d2251a708407f857d294a4dd32dd2a783b9d25f6c\" err=\"failed to attach: rpc error: code = Internal desc = Could not attach volume \\\"vol-08036a0c5d4471e2d\\\" to node \\\"i-0d29b5066e2e23a31\\\": error listing AWS instances: operation error EC2: DescribeInstances, get identity: get credentials: failed to refresh cached credentials, failed to retrieve credentials, operation error STS: AssumeRoleWithWebIdentity, exceeded maximum number of attempts, 3, https response error StatusCode: 400, RequestID: 15055563-b662-48f8-ae5b-bfa14c1e5333, InvalidIdentityToken: No OpenIDConnect provider found in your account for https://oidc.eks.ca-central-1.amazonaws.com/id/4FB04E75229E24476C49CBB7BDC2959D\"\n",
      "I1223 19:24:18.477944       1 csi_handler.go:261] \"Attaching\" VolumeAttachment=\"csi-b6742dc861137065d3f79a3d2251a708407f857d294a4dd32dd2a783b9d25f6c\"\n",
      "I1223 19:24:21.655475       1 csi_handler.go:243] \"Error processing\" VolumeAttachment=\"csi-b6742dc861137065d3f79a3d2251a708407f857d294a4dd32dd2a783b9d25f6c\" err=\"failed to attach: rpc error: code = Internal desc = Could not attach volume \\\"vol-08036a0c5d4471e2d\\\" to node \\\"i-0d29b5066e2e23a31\\\": error listing AWS instances: operation error EC2: DescribeInstances, get identity: get credentials: failed to refresh cached credentials, failed to retrieve credentials, operation error STS: AssumeRoleWithWebIdentity, exceeded maximum number of attempts, 3, https response error StatusCode: 400, RequestID: 32901ca8-bce3-4578-8f50-00da5f831923, InvalidIdentityToken: No OpenIDConnect provider found in your account for https://oidc.eks.ca-central-1.amazonaws.com/id/4FB04E75229E24476C49CBB7BDC2959D\"\n",
      "I1223 19:24:36.089534       1 csi_handler.go:261] \"Attaching\" VolumeAttachment=\"csi-b6742dc861137065d3f79a3d2251a708407f857d294a4dd32dd2a783b9d25f6c\"\n",
      "I1223 19:24:41.726834       1 csi_handler.go:243] \"Error processing\" VolumeAttachment=\"csi-b6742dc861137065d3f79a3d2251a708407f857d294a4dd32dd2a783b9d25f6c\" err=\"failed to attach: rpc error: code = Internal desc = Could not attach volume \\\"vol-08036a0c5d4471e2d\\\" to node \\\"i-0d29b5066e2e23a31\\\": error listing AWS instances: operation error EC2: DescribeInstances, get identity: get credentials: failed to refresh cached credentials, failed to retrieve credentials, operation error STS: AssumeRoleWithWebIdentity, exceeded maximum number of attempts, 3, https response error StatusCode: 400, RequestID: eccb81a0-5e75-4957-a115-a7273b0c74c4, InvalidIdentityToken: No OpenIDConnect provider found in your account for https://oidc.eks.ca-central-1.amazonaws.com/id/4FB04E75229E24476C49CBB7BDC2959D\"\n",
      "I1223 19:29:21.656262       1 csi_handler.go:261] \"Attaching\" VolumeAttachment=\"csi-b6742dc861137065d3f79a3d2251a708407f857d294a4dd32dd2a783b9d25f6c\"\n",
      "I1223 19:29:22.936493       1 csi_handler.go:243] \"Error processing\" VolumeAttachment=\"csi-b6742dc861137065d3f79a3d2251a708407f857d294a4dd32dd2a783b9d25f6c\" err=\"failed to attach: rpc error: code = Internal desc = Could not attach volume \\\"vol-08036a0c5d4471e2d\\\" to node \\\"i-0d29b5066e2e23a31\\\": error listing AWS instances: operation error EC2: DescribeInstances, get identity: get credentials: failed to refresh cached credentials, failed to retrieve credentials, operation error STS: AssumeRoleWithWebIdentity, exceeded maximum number of attempts, 3, https response error StatusCode: 400, RequestID: 9328279e-fa18-461a-8630-657cfa9d883c, InvalidIdentityToken: No OpenIDConnect provider found in your account for https://oidc.eks.ca-central-1.amazonaws.com/id/4FB04E75229E24476C49CBB7BDC2959D\"\n",
      "I1223 19:34:22.936734       1 csi_handler.go:261] \"Attaching\" VolumeAttachment=\"csi-b6742dc861137065d3f79a3d2251a708407f857d294a4dd32dd2a783b9d25f6c\"\n",
      "I1223 19:34:26.028104       1 csi_handler.go:243] \"Error processing\" VolumeAttachment=\"csi-b6742dc861137065d3f79a3d2251a708407f857d294a4dd32dd2a783b9d25f6c\" err=\"failed to attach: rpc error: code = Internal desc = Could not attach volume \\\"vol-08036a0c5d4471e2d\\\" to node \\\"i-0d29b5066e2e23a31\\\": error listing AWS instances: operation error EC2: DescribeInstances, get identity: get credentials: failed to refresh cached credentials, failed to retrieve credentials, operation error STS: AssumeRoleWithWebIdentity, exceeded maximum number of attempts, 3, https response error StatusCode: 400, RequestID: 01786ee9-b436-470b-9ea0-951b73073974, InvalidIdentityToken: No OpenIDConnect provider found in your account for https://oidc.eks.ca-central-1.amazonaws.com/id/4FB04E75229E24476C49CBB7BDC2959D\"\n",
      "I1223 19:34:36.089605       1 csi_handler.go:261] \"Attaching\" VolumeAttachment=\"csi-b6742dc861137065d3f79a3d2251a708407f857d294a4dd32dd2a783b9d25f6c\"\n",
      "I1223 19:34:39.858172       1 csi_handler.go:243] \"Error processing\" VolumeAttachment=\"csi-b6742dc861137065d3f79a3d2251a708407f857d294a4dd32dd2a783b9d25f6c\" err=\"failed to attach: rpc error: code = Internal desc = Could not attach volume \\\"vol-08036a0c5d4471e2d\\\" to node \\\"i-0d29b5066e2e23a31\\\": error listing AWS instances: operation error EC2: DescribeInstances, get identity: get credentials: failed to refresh cached credentials, failed to retrieve credentials, operation error STS: AssumeRoleWithWebIdentity, exceeded maximum number of attempts, 3, https response error StatusCode: 400, RequestID: 28432cae-e2d7-452b-b344-68adf2c5acfb, InvalidIdentityToken: No OpenIDConnect provider found in your account for https://oidc.eks.ca-central-1.amazonaws.com/id/4FB04E75229E24476C49CBB7BDC2959D\"\n",
      "I1223 19:39:26.029978       1 csi_handler.go:261] \"Attaching\" VolumeAttachment=\"csi-b6742dc861137065d3f79a3d2251a708407f857d294a4dd32dd2a783b9d25f6c\"\n",
      "I1223 19:39:30.054086       1 csi_handler.go:243] \"Error processing\" VolumeAttachment=\"csi-b6742dc861137065d3f79a3d2251a708407f857d294a4dd32dd2a783b9d25f6c\" err=\"failed to attach: rpc error: code = Internal desc = Could not attach volume \\\"vol-08036a0c5d4471e2d\\\" to node \\\"i-0d29b5066e2e23a31\\\": error listing AWS instances: operation error EC2: DescribeInstances, get identity: get credentials: failed to refresh cached credentials, failed to retrieve credentials, operation error STS: AssumeRoleWithWebIdentity, exceeded maximum number of attempts, 3, https response error StatusCode: 400, RequestID: 2562eab8-84bc-4661-ac6a-feecb4a2d230, InvalidIdentityToken: No OpenIDConnect provider found in your account for https://oidc.eks.ca-central-1.amazonaws.com/id/4FB04E75229E24476C49CBB7BDC2959D\"\n",
      "I1223 19:44:30.054311       1 csi_handler.go:261] \"Attaching\" VolumeAttachment=\"csi-b6742dc861137065d3f79a3d2251a708407f857d294a4dd32dd2a783b9d25f6c\"\n",
      "I1223 19:44:34.409440       1 csi_handler.go:243] \"Error processing\" VolumeAttachment=\"csi-b6742dc861137065d3f79a3d2251a708407f857d294a4dd32dd2a783b9d25f6c\" err=\"failed to attach: rpc error: code = Internal desc = Could not attach volume \\\"vol-08036a0c5d4471e2d\\\" to node \\\"i-0d29b5066e2e23a31\\\": error listing AWS instances: operation error EC2: DescribeInstances, get identity: get credentials: failed to refresh cached credentials, failed to retrieve credentials, operation error STS: AssumeRoleWithWebIdentity, exceeded maximum number of attempts, 3, https response error StatusCode: 400, RequestID: ca55d275-f781-4558-bdca-4277776853e7, InvalidIdentityToken: No OpenIDConnect provider found in your account for https://oidc.eks.ca-central-1.amazonaws.com/id/4FB04E75229E24476C49CBB7BDC2959D\"\n",
      "I1223 19:44:36.090059       1 csi_handler.go:261] \"Attaching\" VolumeAttachment=\"csi-b6742dc861137065d3f79a3d2251a708407f857d294a4dd32dd2a783b9d25f6c\"\n",
      "I1223 19:44:41.124608       1 csi_handler.go:243] \"Error processing\" VolumeAttachment=\"csi-b6742dc861137065d3f79a3d2251a708407f857d294a4dd32dd2a783b9d25f6c\" err=\"failed to attach: rpc error: code = Internal desc = Could not attach volume \\\"vol-08036a0c5d4471e2d\\\" to node \\\"i-0d29b5066e2e23a31\\\": error listing AWS instances: operation error EC2: DescribeInstances, get identity: get credentials: failed to refresh cached credentials, failed to retrieve credentials, operation error STS: AssumeRoleWithWebIdentity, exceeded maximum number of attempts, 3, https response error StatusCode: 400, RequestID: 1f06f3ff-4c9f-4df5-8512-24e206adc317, InvalidIdentityToken: No OpenIDConnect provider found in your account for https://oidc.eks.ca-central-1.amazonaws.com/id/4FB04E75229E24476C49CBB7BDC2959D\"\n",
      "I1223 19:49:34.410307       1 csi_handler.go:261] \"Attaching\" VolumeAttachment=\"csi-b6742dc861137065d3f79a3d2251a708407f857d294a4dd32dd2a783b9d25f6c\"\n",
      "I1223 19:49:37.542025       1 csi_handler.go:243] \"Error processing\" VolumeAttachment=\"csi-b6742dc861137065d3f79a3d2251a708407f857d294a4dd32dd2a783b9d25f6c\" err=\"failed to attach: rpc error: code = Internal desc = Could not attach volume \\\"vol-08036a0c5d4471e2d\\\" to node \\\"i-0d29b5066e2e23a31\\\": error listing AWS instances: operation error EC2: DescribeInstances, get identity: get credentials: failed to refresh cached credentials, failed to retrieve credentials, operation error STS: AssumeRoleWithWebIdentity, exceeded maximum number of attempts, 3, https response error StatusCode: 400, RequestID: fe954751-0c2e-418a-89f3-4c280200c62d, InvalidIdentityToken: No OpenIDConnect provider found in your account for https://oidc.eks.ca-central-1.amazonaws.com/id/4FB04E75229E24476C49CBB7BDC2959D\"\n",
      "I1223 19:54:36.090388       1 csi_handler.go:261] \"Attaching\" VolumeAttachment=\"csi-b6742dc861137065d3f79a3d2251a708407f857d294a4dd32dd2a783b9d25f6c\"\n",
      "I1223 19:54:40.152276       1 csi_handler.go:243] \"Error processing\" VolumeAttachment=\"csi-b6742dc861137065d3f79a3d2251a708407f857d294a4dd32dd2a783b9d25f6c\" err=\"failed to attach: rpc error: code = Internal desc = Could not attach volume \\\"vol-08036a0c5d4471e2d\\\" to node \\\"i-0d29b5066e2e23a31\\\": error listing AWS instances: operation error EC2: DescribeInstances, get identity: get credentials: failed to refresh cached credentials, failed to retrieve credentials, operation error STS: AssumeRoleWithWebIdentity, exceeded maximum number of attempts, 3, https response error StatusCode: 400, RequestID: 0a4aae11-a5a8-47fa-9feb-a567b517d015, InvalidIdentityToken: No OpenIDConnect provider found in your account for https://oidc.eks.ca-central-1.amazonaws.com/id/4FB04E75229E24476C49CBB7BDC2959D\"\n",
      "I1223 19:54:40.152405       1 csi_handler.go:261] \"Attaching\" VolumeAttachment=\"csi-b6742dc861137065d3f79a3d2251a708407f857d294a4dd32dd2a783b9d25f6c\"\n",
      "I1223 19:54:43.398070       1 csi_handler.go:243] \"Error processing\" VolumeAttachment=\"csi-b6742dc861137065d3f79a3d2251a708407f857d294a4dd32dd2a783b9d25f6c\" err=\"failed to attach: rpc error: code = Internal desc = Could not attach volume \\\"vol-08036a0c5d4471e2d\\\" to node \\\"i-0d29b5066e2e23a31\\\": error listing AWS instances: operation error EC2: DescribeInstances, get identity: get credentials: failed to refresh cached credentials, failed to retrieve credentials, operation error STS: AssumeRoleWithWebIdentity, exceeded maximum number of attempts, 3, https response error StatusCode: 400, RequestID: 8ca29e8e-e442-4b54-9ee8-727a83f04a72, InvalidIdentityToken: No OpenIDConnect provider found in your account for https://oidc.eks.ca-central-1.amazonaws.com/id/4FB04E75229E24476C49CBB7BDC2959D\"\n",
      "I1223 19:59:40.152525       1 csi_handler.go:261] \"Attaching\" VolumeAttachment=\"csi-b6742dc861137065d3f79a3d2251a708407f857d294a4dd32dd2a783b9d25f6c\"\n",
      "I1223 19:59:44.885010       1 csi_handler.go:243] \"Error processing\" VolumeAttachment=\"csi-b6742dc861137065d3f79a3d2251a708407f857d294a4dd32dd2a783b9d25f6c\" err=\"failed to attach: rpc error: code = Internal desc = Could not attach volume \\\"vol-08036a0c5d4471e2d\\\" to node \\\"i-0d29b5066e2e23a31\\\": error listing AWS instances: operation error EC2: DescribeInstances, get identity: get credentials: failed to refresh cached credentials, failed to retrieve credentials, operation error STS: AssumeRoleWithWebIdentity, exceeded maximum number of attempts, 3, https response error StatusCode: 400, RequestID: 93784115-2b93-4fae-a402-e6d1b9dcc255, InvalidIdentityToken: No OpenIDConnect provider found in your account for https://oidc.eks.ca-central-1.amazonaws.com/id/4FB04E75229E24476C49CBB7BDC2959D\"\n",
      "I1223 20:04:36.090611       1 csi_handler.go:261] \"Attaching\" VolumeAttachment=\"csi-b6742dc861137065d3f79a3d2251a708407f857d294a4dd32dd2a783b9d25f6c\"\n",
      "I1223 20:04:37.511522       1 csi_handler.go:243] \"Error processing\" VolumeAttachment=\"csi-b6742dc861137065d3f79a3d2251a708407f857d294a4dd32dd2a783b9d25f6c\" err=\"failed to attach: rpc error: code = Internal desc = Could not attach volume \\\"vol-08036a0c5d4471e2d\\\" to node \\\"i-0d29b5066e2e23a31\\\": error listing AWS instances: operation error EC2: DescribeInstances, get identity: get credentials: failed to refresh cached credentials, failed to retrieve credentials, operation error STS: AssumeRoleWithWebIdentity, exceeded maximum number of attempts, 3, https response error StatusCode: 400, RequestID: 34256d15-376b-4ddf-9e34-dae6c4ddf87e, InvalidIdentityToken: No OpenIDConnect provider found in your account for https://oidc.eks.ca-central-1.amazonaws.com/id/4FB04E75229E24476C49CBB7BDC2959D\"\n",
      "I1223 20:04:44.888891       1 csi_handler.go:261] \"Attaching\" VolumeAttachment=\"csi-b6742dc861137065d3f79a3d2251a708407f857d294a4dd32dd2a783b9d25f6c\"\n",
      "I1223 20:04:47.649060       1 csi_handler.go:243] \"Error processing\" VolumeAttachment=\"csi-b6742dc861137065d3f79a3d2251a708407f857d294a4dd32dd2a783b9d25f6c\" err=\"failed to attach: rpc error: code = Internal desc = Could not attach volume \\\"vol-08036a0c5d4471e2d\\\" to node \\\"i-0d29b5066e2e23a31\\\": error listing AWS instances: operation error EC2: DescribeInstances, get identity: get credentials: failed to refresh cached credentials, failed to retrieve credentials, operation error STS: AssumeRoleWithWebIdentity, exceeded maximum number of attempts, 3, https response error StatusCode: 400, RequestID: 001fb9e7-4ab0-4bd0-97cc-3f4608717e53, InvalidIdentityToken: No OpenIDConnect provider found in your account for https://oidc.eks.ca-central-1.amazonaws.com/id/4FB04E75229E24476C49CBB7BDC2959D\"\n"
     ]
    }
   ],
   "source": [
    "!kubectl logs deployment/ebs-csi-controller -n kube-system -c csi-attacher"
   ]
  },
  {
   "cell_type": "code",
   "execution_count": 134,
   "id": "6fdb0f08-aba7-4d63-8e01-2b25d1b06b19",
   "metadata": {},
   "outputs": [
    {
     "name": "stdout",
     "output_type": "stream",
     "text": [
      "Error from server (NotFound): serviceaccounts \"ebs-csi-controller-sa\" not found\n"
     ]
    }
   ],
   "source": [
    "!kubectl get sa ebs-csi-controller-sa -n kube-system -o jsonpath='{.metadata.annotations}'"
   ]
  }
 ],
 "metadata": {
  "kernelspec": {
   "display_name": "Python 3 (ipykernel)",
   "language": "python",
   "name": "python3"
  },
  "language_info": {
   "codemirror_mode": {
    "name": "ipython",
    "version": 3
   },
   "file_extension": ".py",
   "mimetype": "text/x-python",
   "name": "python",
   "nbconvert_exporter": "python",
   "pygments_lexer": "ipython3",
   "version": "3.12.8"
  }
 },
 "nbformat": 4,
 "nbformat_minor": 5
}
