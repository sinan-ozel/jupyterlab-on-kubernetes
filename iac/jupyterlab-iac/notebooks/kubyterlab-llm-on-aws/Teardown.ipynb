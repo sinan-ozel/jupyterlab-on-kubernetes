{
 "cells": [
  {
   "cell_type": "markdown",
   "id": "f1699479-9d03-4951-b63e-102c493c6f47",
   "metadata": {},
   "source": [
    "# Import"
   ]
  },
  {
   "cell_type": "code",
   "execution_count": 1,
   "id": "d1c5b29b-0d65-411c-85ee-d0bff7ca1bcf",
   "metadata": {},
   "outputs": [],
   "source": [
    "import os\n",
    "from time import sleep\n",
    "from time import time as unixtime\n",
    "from typing import Callable, List\n",
    "import random\n",
    "from math import ceil\n",
    "import yaml\n",
    "import string\n",
    "import json\n",
    "from urllib.parse import urlparse\n",
    "from time import sleep\n",
    "\n",
    "from dotenv import load_dotenv\n",
    "from IPython.display import display, clear_output\n",
    "\n",
    "import boto3\n",
    "import kubernetes\n",
    "from kubernetes.client.rest import ApiException\n",
    "\n",
    "import psycopg2"
   ]
  },
  {
   "cell_type": "code",
   "execution_count": 2,
   "id": "a3379a44-30c6-44de-9364-63d1089303e3",
   "metadata": {},
   "outputs": [
    {
     "data": {
      "text/plain": [
       "True"
      ]
     },
     "execution_count": 2,
     "metadata": {},
     "output_type": "execute_result"
    }
   ],
   "source": [
    "load_dotenv('/.env')"
   ]
  },
  {
   "cell_type": "markdown",
   "id": "069375fb-560e-4e2f-b0d4-bca2cc7200ce",
   "metadata": {},
   "source": [
    "# Define"
   ]
  },
  {
   "cell_type": "code",
   "execution_count": 3,
   "id": "bc6bac6e-ead1-45d8-a941-b51330464cc6",
   "metadata": {},
   "outputs": [],
   "source": [
    "REGION = 'ca-central-1'\n",
    "CLUSTER_NAME = 'kubyterlab-llm'\n",
    "TAGS = {'purpose': CLUSTER_NAME, 'cluster': CLUSTER_NAME}  # Do not change the keys, they are hardcoded throughout.\n",
    "CLUSTER_TAGS = {'cluster': CLUSTER_NAME}\n",
    "CLUSTER_FILTERS = [{'Name': f'tag:{k}', 'Values': [CLUSTER_TAGS[k]]} for k in CLUSTER_TAGS]\n",
    "K8S_VERSION = os.environ['K8S_VERSION']  # '1.30'\n",
    "K8S_VERSION = '.'.join(K8S_VERSION.split('.')[:2]) if len(K8S_VERSION.split('.')) > 2 else K8S_VERSION\n"
   ]
  },
  {
   "cell_type": "code",
   "execution_count": 4,
   "id": "ac167dbd-7f3f-4cbd-a227-fd9240e69e03",
   "metadata": {},
   "outputs": [],
   "source": [
    "def wait_until(check: Callable, kwargs: dict, cond: Callable[[dict], bool], timeout: int=60, wait_interval: int=1):\n",
    "    start = t = unixtime()\n",
    "    result = check(**kwargs)\n",
    "    while not cond(result) or t < start + timeout:\n",
    "        result = check(**kwargs)\n",
    "        if cond(result):\n",
    "            return cond(result)\n",
    "        sleep(wait_interval)\n",
    "        t = unixtime()\n",
    "    return cond(result)"
   ]
  },
  {
   "cell_type": "code",
   "execution_count": 5,
   "id": "3148704a-8901-4cfe-95ac-ade41888d702",
   "metadata": {},
   "outputs": [],
   "source": [
    "def get_subnet_ids_in_vpc(vpc_id: str) -> List[str]:\n",
    "    subnets_response = ec2_client.describe_subnets()\n",
    "    subnet_ids = []\n",
    "    for subnet in subnets_response['Subnets']:\n",
    "        if subnet['VpcId'] == vpc_id:\n",
    "            subnet_ids.append(subnet['SubnetId'])\n",
    "    return subnet_ids"
   ]
  },
  {
   "cell_type": "code",
   "execution_count": 6,
   "id": "34249f75-545b-4e29-acc4-10dd47e0d72c",
   "metadata": {},
   "outputs": [],
   "source": [
    "def get_route_table_ids_for_vpc(vpc_id: str):\n",
    "    response = ec2_client.describe_route_tables()\n",
    "    rt_ids = []\n",
    "    for route_table in response['RouteTables']:\n",
    "        if route_table['VpcId'] == vpc_id:\n",
    "            rt_ids.append(route_table['RouteTableId'])\n",
    "    return rt_ids"
   ]
  },
  {
   "cell_type": "code",
   "execution_count": 7,
   "id": "bcbdc262-015f-4b01-963d-3881b75124c0",
   "metadata": {},
   "outputs": [],
   "source": [
    "def get_internet_gateway_ids_attached_to_vpc(vpc_id: str) -> List[str]:\n",
    "    response = ec2_client.describe_internet_gateways()\n",
    "    ids = []\n",
    "    for ig in response['InternetGateways']:\n",
    "        for attachment in ig.get('Attachments', []):\n",
    "            if attachment.get('VpcId', '') == vpc_id:\n",
    "                ids.append(ig['InternetGatewayId'])\n",
    "    return ids"
   ]
  },
  {
   "cell_type": "code",
   "execution_count": 8,
   "id": "04ca1848-4de6-4cf3-80be-89988939551f",
   "metadata": {},
   "outputs": [],
   "source": [
    "def get_network_interface_ids_for_vpc(vpc_id: str):\n",
    "    response = ec2_client.describe_network_interfaces(Filters=[{'Name': 'vpc-id', 'Values': [vpc_id]}])\n",
    "    network_interface_ids = []\n",
    "    for network_interface in response['NetworkInterfaces']:\n",
    "        network_interface_ids.append(network_interface['NetworkInterfaceId'])\n",
    "    return network_interface_ids"
   ]
  },
  {
   "cell_type": "code",
   "execution_count": 9,
   "id": "8cf16c3b-3131-4923-8edf-1a0472bcdf19",
   "metadata": {},
   "outputs": [],
   "source": [
    "def get_security_group_ids_for_vpc(vpc_id: str) -> str:\n",
    "    response = ec2_client.describe_security_groups(Filters=[{'Name': 'vpc-id', 'Values': [vpc_id]}])\n",
    "    ids = []\n",
    "    for sg in response['SecurityGroups']:\n",
    "        if sg['GroupName'] != 'default':\n",
    "            ids.append(sg['GroupId'])\n",
    "    return ids"
   ]
  },
  {
   "cell_type": "code",
   "execution_count": 10,
   "id": "2d21eac7-be4a-4868-8579-bf6c10c9b2b4",
   "metadata": {},
   "outputs": [],
   "source": [
    "# Not used. TODO: Delete\n",
    "def get_security_group_ids() -> List[str]:\n",
    "    response = ec2_client.describe_security_groups()\n",
    "    ids = []\n",
    "    for sg in response['SecurityGroups']:\n",
    "        for tag in sg.get('Tags', []):\n",
    "            if tag['Key'] == 'purpose' and tag['Value'] == TAGS['purpose']:\n",
    "                ids.append(sg['GroupId'])\n",
    "    return ids"
   ]
  },
  {
   "cell_type": "code",
   "execution_count": 11,
   "id": "ce3a7e6e-9bd8-4b0c-8ad7-7c7865a8288d",
   "metadata": {},
   "outputs": [],
   "source": [
    "def is_snapshot_completed(response: dict) -> bool:\n",
    "    state = response['Snapshots'][0]['State']\n",
    "    clear_output(wait=True)\n",
    "    display(state)\n",
    "    return state.lower() == 'completed'\n"
   ]
  },
  {
   "cell_type": "code",
   "execution_count": 12,
   "id": "78b66a9e-8c8a-4684-b5d2-5129794fcd48",
   "metadata": {},
   "outputs": [],
   "source": [
    "def is_zero_volumes(response: dict) -> bool:\n",
    "    return len(response['Volumes']) == 0"
   ]
  },
  {
   "cell_type": "markdown",
   "id": "cfc08917-9d7f-4e10-a255-892e256ca018",
   "metadata": {},
   "source": [
    "# Instantiate"
   ]
  },
  {
   "cell_type": "code",
   "execution_count": 13,
   "id": "f08e8efb-eabf-4641-a9a5-cfdd886164df",
   "metadata": {},
   "outputs": [],
   "source": [
    "session = boto3.Session(region_name=REGION)\n",
    "eks_client = session.client('eks')\n",
    "ec2_client = session.client('ec2')\n",
    "iam_client = session.client('iam')\n",
    "elb_client = session.client('elb')\n",
    "\n",
    "aws_account_id = boto3.client('sts').get_caller_identity().get('Account')"
   ]
  },
  {
   "cell_type": "code",
   "execution_count": 14,
   "id": "8a6e7dac-b895-4dd0-8df9-5bae575e8169",
   "metadata": {},
   "outputs": [
    {
     "data": {
      "text/plain": [
       "'3d9547ae31b419307de001e999ddd051.gr7.ca-central-1.eks.amazonaws.com'"
      ]
     },
     "execution_count": 14,
     "metadata": {},
     "output_type": "execute_result"
    }
   ],
   "source": [
    "endpoint = eks_client.describe_cluster(name=CLUSTER_NAME)['cluster']['endpoint']\n",
    "url = urlparse(endpoint)\n",
    "url.hostname"
   ]
  },
  {
   "cell_type": "markdown",
   "id": "1e0601b1-71ef-491e-97d4-03b3f291c8f7",
   "metadata": {},
   "source": [
    "# Delete"
   ]
  },
  {
   "cell_type": "code",
   "execution_count": 15,
   "id": "07b3f2ee-a55a-4711-8d4b-2d36ef4d34c3",
   "metadata": {},
   "outputs": [],
   "source": [
    "response = ec2_client.describe_vpcs(Filters=[{'Name': f'tag:cluster', 'Values': [CLUSTER_NAME]}])\n",
    "vpc_ids = [vpc['VpcId'] for vpc in response['Vpcs']]\n",
    "assert len(vpc_ids) == 1\n",
    "vpc_id = vpc_ids[0]\n"
   ]
  },
  {
   "cell_type": "markdown",
   "id": "fec5490c-556d-497d-a544-9032ec74dea5",
   "metadata": {},
   "source": [
    "## Delete LB"
   ]
  },
  {
   "cell_type": "code",
   "execution_count": 16,
   "id": "06e75e4f-55f7-4f0f-82cf-f48be98101fc",
   "metadata": {},
   "outputs": [
    {
     "name": "stdout",
     "output_type": "stream",
     "text": [
      "a7089113cc0ab4998af8896a2a6a1de6\n",
      "{'ResponseMetadata': {'RequestId': 'd217a6a4-65ee-4677-82b3-3c359034cdda', 'HTTPStatusCode': 200, 'HTTPHeaders': {'x-amzn-requestid': 'd217a6a4-65ee-4677-82b3-3c359034cdda', 'content-type': 'text/xml', 'content-length': '262', 'date': 'Mon, 13 Jan 2025 00:53:08 GMT'}, 'RetryAttempts': 0}}\n"
     ]
    }
   ],
   "source": [
    "load_balancers = elb_client.describe_load_balancers()['LoadBalancerDescriptions']\n",
    "\n",
    "for lb in load_balancers:\n",
    "    if lb['VPCId'] == vpc_id:\n",
    "        load_balancer_name = lb['LoadBalancerName']\n",
    "        print(load_balancer_name)\n",
    "        response = elb_client.delete_load_balancer(LoadBalancerName=load_balancer_name)\n",
    "        print(response)\n",
    "        assert response['ResponseMetadata']['HTTPStatusCode'] == 200\n",
    "        break\n"
   ]
  },
  {
   "cell_type": "markdown",
   "id": "4508189f-5a60-48a6-b174-92d6906562d7",
   "metadata": {},
   "source": [
    "## Delete Node Groups"
   ]
  },
  {
   "cell_type": "code",
   "execution_count": 17,
   "id": "5c24f436-67ae-4a20-9f47-7b5c3d2ad502",
   "metadata": {},
   "outputs": [],
   "source": [
    "node_groups = eks_client.list_nodegroups(clusterName=CLUSTER_NAME)\n"
   ]
  },
  {
   "cell_type": "code",
   "execution_count": 18,
   "id": "2b74516b-2bb2-4437-a42d-c19cf583d9d9",
   "metadata": {},
   "outputs": [],
   "source": [
    "node_groups = eks_client.list_nodegroups(clusterName=CLUSTER_NAME)\n",
    "for node_group_name in node_groups['nodegroups']:\n",
    "    response = eks_client.describe_nodegroup(clusterName=CLUSTER_NAME, nodegroupName=node_group_name)\n",
    "    status = response['nodegroup']['status']\n",
    "\n",
    "    eks_client.delete_nodegroup(clusterName=CLUSTER_NAME, nodegroupName=node_group_name)\n",
    "\n",
    "    wait_until(eks_client.list_nodegroups, {'clusterName': CLUSTER_NAME}, lambda x: node_group_name not in x['nodegroups'])\n",
    "    node_groups = eks_client.list_nodegroups(clusterName=CLUSTER_NAME)\n",
    "\n",
    "eks_client.delete_cluster(name=CLUSTER_NAME)\n",
    "\n",
    "wait_until(eks_client.list_clusters, {}, lambda x: CLUSTER_NAME not in x['clusters'], wait_interval=3)\n",
    "\n",
    "security_group_ids = get_security_group_ids()\n",
    "for group_id in security_group_ids:\n",
    "    ec2_client.delete_security_group(GroupId=group_id)\n",
    "\n",
    "oidc_providers_response = iam_client.list_open_id_connect_providers()\n",
    "for oidc_provider in oidc_providers_response['OpenIDConnectProviderList']:\n",
    "    arn = oidc_provider['Arn']\n",
    "    oidc_provider_tags_response = iam_client.list_open_id_connect_provider_tags(OpenIDConnectProviderArn=arn)\n",
    "    for tag in oidc_provider_tags_response['Tags']:\n",
    "        if tag['Key'] == 'alpha.eksctl.io/cluster-name' and tag['Value'] == CLUSTER_NAME:\n",
    "            iam_client.delete_open_id_connect_provider(OpenIDConnectProviderArn=arn)\n"
   ]
  },
  {
   "cell_type": "markdown",
   "id": "e6130352-4d67-45e3-b65d-00beaa854b2a",
   "metadata": {},
   "source": [
    "## Delete VPC"
   ]
  },
  {
   "cell_type": "code",
   "execution_count": 19,
   "id": "0118e218-ed38-4f9f-aba1-83ec975fd139",
   "metadata": {},
   "outputs": [],
   "source": [
    "# TODO: Move this to the other notebook. This order is correct."
   ]
  },
  {
   "cell_type": "code",
   "execution_count": 20,
   "id": "d5d3cd54-07bf-4b44-b195-6377e449ec6a",
   "metadata": {},
   "outputs": [
    {
     "name": "stdout",
     "output_type": "stream",
     "text": [
      "{'RequestId': '87e249a1-a0f1-43d1-ac4a-1c12c510abe4', 'HTTPStatusCode': 200, 'HTTPHeaders': {'date': 'Mon, 13 Jan 2025 01:01:20 GMT', 'content-type': 'application/json', 'content-length': '1348', 'connection': 'keep-alive', 'x-amzn-requestid': '87e249a1-a0f1-43d1-ac4a-1c12c510abe4', 'access-control-allow-origin': '*', 'access-control-allow-headers': '*,Authorization,Date,X-Amz-Date,X-Amz-Security-Token,X-Amz-Target,content-type,x-amz-content-sha256,x-amz-user-agent,x-amzn-platform-id,x-amzn-trace-id', 'x-amz-apigw-id': 'ETTbDHxv4osEPjQ=', 'access-control-allow-methods': 'GET,HEAD,PUT,POST,DELETE,OPTIONS', 'access-control-expose-headers': 'x-amzn-errortype,x-amzn-errormessage,x-amzn-trace-id,x-amzn-requestid,x-amz-apigw-id,date', 'x-amzn-trace-id': 'Root=1-678465df-13f964bd1fa142597cc1e020'}, 'RetryAttempts': 0}\n"
     ]
    }
   ],
   "source": [
    "igw_ids = get_internet_gateway_ids_attached_to_vpc(vpc_id)\n",
    "for igw_id in igw_ids:\n",
    "    ec2_client.detach_internet_gateway(InternetGatewayId=igw_id, VpcId=vpc_id)\n",
    "    print(response['ResponseMetadata'])\n"
   ]
  },
  {
   "cell_type": "code",
   "execution_count": 21,
   "id": "6e2c2501-a7dd-4128-9a6b-01cee959f7fd",
   "metadata": {},
   "outputs": [],
   "source": [
    "# [m for m in dir(ec2_client) if 'internet_gateway' in m]"
   ]
  },
  {
   "cell_type": "code",
   "execution_count": 22,
   "id": "0ef19acb-5a52-488f-b4d7-91fdb259b010",
   "metadata": {},
   "outputs": [
    {
     "name": "stdout",
     "output_type": "stream",
     "text": [
      "{'RequestId': '87e249a1-a0f1-43d1-ac4a-1c12c510abe4', 'HTTPStatusCode': 200, 'HTTPHeaders': {'date': 'Mon, 13 Jan 2025 01:01:20 GMT', 'content-type': 'application/json', 'content-length': '1348', 'connection': 'keep-alive', 'x-amzn-requestid': '87e249a1-a0f1-43d1-ac4a-1c12c510abe4', 'access-control-allow-origin': '*', 'access-control-allow-headers': '*,Authorization,Date,X-Amz-Date,X-Amz-Security-Token,X-Amz-Target,content-type,x-amz-content-sha256,x-amz-user-agent,x-amzn-platform-id,x-amzn-trace-id', 'x-amz-apigw-id': 'ETTbDHxv4osEPjQ=', 'access-control-allow-methods': 'GET,HEAD,PUT,POST,DELETE,OPTIONS', 'access-control-expose-headers': 'x-amzn-errortype,x-amzn-errormessage,x-amzn-trace-id,x-amzn-requestid,x-amz-apigw-id,date', 'x-amzn-trace-id': 'Root=1-678465df-13f964bd1fa142597cc1e020'}, 'RetryAttempts': 0}\n"
     ]
    }
   ],
   "source": [
    "for igw_id in igw_ids:\n",
    "    ec2_client.delete_internet_gateway(InternetGatewayId=igw_id)\n",
    "    print(response['ResponseMetadata'])\n"
   ]
  },
  {
   "cell_type": "code",
   "execution_count": 23,
   "id": "564f175e-353a-48f9-a8c6-21a52cdcd2e6",
   "metadata": {},
   "outputs": [],
   "source": [
    "# Probably unnecessary.\n",
    "network_interface_ids = get_network_interface_ids_for_vpc(vpc_id)\n",
    "for network_interface_id in network_interface_ids:\n",
    "    response = ec2_client.delete_network_interface(NetworkInterfaceId=network_interface_id)\n",
    "    print(response['ResponseMetadata'])"
   ]
  },
  {
   "cell_type": "code",
   "execution_count": 24,
   "id": "f27a6e13-c6ca-406a-82d4-60e1658743ed",
   "metadata": {},
   "outputs": [
    {
     "name": "stdout",
     "output_type": "stream",
     "text": [
      "{'RequestId': '3c9afb0c-7121-4161-91b2-0bf061184af7', 'HTTPStatusCode': 200, 'HTTPHeaders': {'x-amzn-requestid': '3c9afb0c-7121-4161-91b2-0bf061184af7', 'cache-control': 'no-cache, no-store', 'strict-transport-security': 'max-age=31536000; includeSubDomains', 'content-type': 'text/xml;charset=UTF-8', 'content-length': '213', 'date': 'Mon, 13 Jan 2025 01:10:19 GMT', 'server': 'AmazonEC2'}, 'RetryAttempts': 0}\n",
      "{'RequestId': 'bbfa3baa-cc71-4f10-8e73-c2a2ab15d129', 'HTTPStatusCode': 200, 'HTTPHeaders': {'x-amzn-requestid': 'bbfa3baa-cc71-4f10-8e73-c2a2ab15d129', 'cache-control': 'no-cache, no-store', 'strict-transport-security': 'max-age=31536000; includeSubDomains', 'content-type': 'text/xml;charset=UTF-8', 'content-length': '213', 'date': 'Mon, 13 Jan 2025 01:10:20 GMT', 'server': 'AmazonEC2'}, 'RetryAttempts': 0}\n"
     ]
    }
   ],
   "source": [
    "subnet_ids = get_subnet_ids_in_vpc(vpc_id)\n",
    "for subnet_id in subnet_ids:\n",
    "    response = ec2_client.delete_subnet(SubnetId=subnet_id)\n",
    "    print(response['ResponseMetadata'])"
   ]
  },
  {
   "cell_type": "code",
   "execution_count": 25,
   "id": "ba25e68b-8275-41db-9270-b93814ca10bb",
   "metadata": {},
   "outputs": [
    {
     "name": "stdout",
     "output_type": "stream",
     "text": [
      "{'RequestId': 'c506cf38-f5ef-4701-bb83-896d3d53bfb5', 'HTTPStatusCode': 200, 'HTTPHeaders': {'x-amzn-requestid': 'c506cf38-f5ef-4701-bb83-896d3d53bfb5', 'cache-control': 'no-cache, no-store', 'strict-transport-security': 'max-age=31536000; includeSubDomains', 'content-type': 'text/xml;charset=UTF-8', 'content-length': '266', 'date': 'Mon, 13 Jan 2025 01:10:20 GMT', 'server': 'AmazonEC2'}, 'RetryAttempts': 0}\n",
      "{'RequestId': '304408cd-3b33-4c7e-a88e-9af8bbe0b23b', 'HTTPStatusCode': 200, 'HTTPHeaders': {'x-amzn-requestid': '304408cd-3b33-4c7e-a88e-9af8bbe0b23b', 'cache-control': 'no-cache, no-store', 'strict-transport-security': 'max-age=31536000; includeSubDomains', 'content-type': 'text/xml;charset=UTF-8', 'content-length': '266', 'date': 'Mon, 13 Jan 2025 01:10:20 GMT', 'server': 'AmazonEC2'}, 'RetryAttempts': 0}\n"
     ]
    }
   ],
   "source": [
    "security_group_ids_for_vpc = get_security_group_ids_for_vpc(vpc_id)\n",
    "for security_group_id in security_group_ids_for_vpc:\n",
    "    response = ec2_client.delete_security_group(GroupId=security_group_id)\n",
    "    print(response['ResponseMetadata'])"
   ]
  },
  {
   "cell_type": "code",
   "execution_count": 26,
   "id": "e5e9bf21-47b0-48bf-a0a4-54feb1c65a89",
   "metadata": {},
   "outputs": [
    {
     "data": {
      "text/plain": [
       "{'RequestId': 'b84da2ec-0a62-43b6-a49c-ebd408c15c6c',\n",
       " 'HTTPStatusCode': 200,\n",
       " 'HTTPHeaders': {'x-amzn-requestid': 'b84da2ec-0a62-43b6-a49c-ebd408c15c6c',\n",
       "  'cache-control': 'no-cache, no-store',\n",
       "  'strict-transport-security': 'max-age=31536000; includeSubDomains',\n",
       "  'content-type': 'text/xml;charset=UTF-8',\n",
       "  'content-length': '207',\n",
       "  'date': 'Mon, 13 Jan 2025 01:10:21 GMT',\n",
       "  'server': 'AmazonEC2'},\n",
       " 'RetryAttempts': 0}"
      ]
     },
     "execution_count": 26,
     "metadata": {},
     "output_type": "execute_result"
    }
   ],
   "source": [
    "response = ec2_client.delete_vpc(VpcId=vpc_id)\n",
    "response['ResponseMetadata']\n"
   ]
  },
  {
   "cell_type": "code",
   "execution_count": 27,
   "id": "b6cd820d-8531-4206-bf80-6cdc09ddd531",
   "metadata": {},
   "outputs": [],
   "source": [
    "route_table_ids = get_route_table_ids_for_vpc(vpc_id)\n",
    "for route_table_id in route_table_ids:\n",
    "    # route_table = ec2_client.describe_route_tables(RouteTableIds=[route_table_id])['RouteTables'][0]\n",
    "    # for route in route_table['Routes']:\n",
    "    #     if route.get('State') == 'blackhole':\n",
    "    #         ec2_client.delete_route(RouteTableId=route_table_id, DestinationCidrBlock=route['DestinationCidrBlock'])\n",
    "    response = ec2_client.delete_route_table(RouteTableId=route_table_id)\n",
    "    print(response['ResponseMetadata'])"
   ]
  },
  {
   "cell_type": "code",
   "execution_count": 28,
   "id": "54aa4618-f0bc-4f2d-8b39-f48ca68ed42d",
   "metadata": {
    "scrolled": true
   },
   "outputs": [
    {
     "name": "stdout",
     "output_type": "stream",
     "text": [
      "curl: (6) Could not resolve host: 3D9547AE31B419307DE001E999DDD051.gr7.ca-central-1.eks.amazonaws.com\n"
     ]
    }
   ],
   "source": [
    "!curl -k $endpoint"
   ]
  },
  {
   "cell_type": "markdown",
   "id": "eb53e160-2291-4d7c-bcc8-1f61d594867b",
   "metadata": {},
   "source": [
    "# Get `VolumeId`"
   ]
  },
  {
   "cell_type": "code",
   "execution_count": 29,
   "id": "d75bb95a-9cc1-41da-a724-d5d7f5a99b84",
   "metadata": {},
   "outputs": [
    {
     "data": {
      "text/plain": [
       "['vol-0d335c3dfa5fc99c6', 'vol-0e0bf7e648784d088']"
      ]
     },
     "execution_count": 29,
     "metadata": {},
     "output_type": "execute_result"
    }
   ],
   "source": [
    "response = ec2_client.describe_volumes(\n",
    "    Filters=CLUSTER_FILTERS\n",
    ")\n",
    "\n",
    "volumes = response.get('Volumes', [])\n",
    "if not volumes:\n",
    "    raise RuntimeError(f'No volumes found matching the filter: {CLUSTER_FILTERS}')\n",
    "volume_ids = [volume['VolumeId'] for volume in volumes]\n",
    "volume_ids"
   ]
  },
  {
   "cell_type": "markdown",
   "id": "cdc70e55-b076-431c-bfc0-495876c1e6f3",
   "metadata": {},
   "source": [
    "# Create Snapshots"
   ]
  },
  {
   "cell_type": "code",
   "execution_count": 30,
   "id": "f1332b7b-7f9e-4a78-9020-beafadd66340",
   "metadata": {},
   "outputs": [
    {
     "data": {
      "text/plain": [
       "'completed'"
      ]
     },
     "metadata": {},
     "output_type": "display_data"
    }
   ],
   "source": [
    "for volume_id in volume_ids:\n",
    "    response = ec2_client.create_snapshot(\n",
    "        VolumeId=volume_id,\n",
    "        Description=f\"Snapshot For: {volume_id}. Tags: {TAGS}\",\n",
    "        TagSpecifications=[\n",
    "            {\n",
    "                'ResourceType': 'snapshot',\n",
    "                'Tags': [{'Key': k, 'Value': TAGS[k]} for k in TAGS]\n",
    "            }\n",
    "        ]\n",
    "    )\n",
    "    wait_until(ec2_client.describe_snapshots, {'SnapshotIds': [response['SnapshotId']]}, is_snapshot_completed)"
   ]
  },
  {
   "cell_type": "code",
   "execution_count": 31,
   "id": "5f66a371-940f-41d8-ac65-105a8e59b086",
   "metadata": {},
   "outputs": [
    {
     "data": {
      "text/plain": [
       "'snap-03aa9ba3fdc93cce5'"
      ]
     },
     "execution_count": 31,
     "metadata": {},
     "output_type": "execute_result"
    }
   ],
   "source": [
    "snapshot_id = response['SnapshotId']\n",
    "snapshot_id"
   ]
  },
  {
   "cell_type": "markdown",
   "id": "d2d1b8c1-3533-48a9-80af-f7ea926eb101",
   "metadata": {},
   "source": [
    "# Delete"
   ]
  },
  {
   "cell_type": "code",
   "execution_count": 32,
   "id": "c3c6afaa-3d8e-4b03-b0f3-952c9bdd7713",
   "metadata": {},
   "outputs": [
    {
     "data": {
      "text/plain": [
       "True"
      ]
     },
     "execution_count": 32,
     "metadata": {},
     "output_type": "execute_result"
    }
   ],
   "source": [
    "for volume_id in volume_ids:\n",
    "    ec2_client.delete_volume(VolumeId=volume_id)\n",
    "wait_until(ec2_client.describe_volumes, {'Filters': CLUSTER_FILTERS}, is_zero_volumes)"
   ]
  },
  {
   "cell_type": "code",
   "execution_count": null,
   "id": "5292fb29-074c-4439-bfa3-c85aa1c17073",
   "metadata": {},
   "outputs": [],
   "source": []
  },
  {
   "cell_type": "code",
   "execution_count": null,
   "id": "e0805e5a-8e15-483b-bb23-5641c9c8f73a",
   "metadata": {},
   "outputs": [],
   "source": []
  },
  {
   "cell_type": "code",
   "execution_count": null,
   "id": "627a0679-d8cb-4cc9-aa0e-8fbefc355719",
   "metadata": {},
   "outputs": [],
   "source": []
  }
 ],
 "metadata": {
  "kernelspec": {
   "display_name": "Python 3 (ipykernel)",
   "language": "python",
   "name": "python3"
  },
  "language_info": {
   "codemirror_mode": {
    "name": "ipython",
    "version": 3
   },
   "file_extension": ".py",
   "mimetype": "text/x-python",
   "name": "python",
   "nbconvert_exporter": "python",
   "pygments_lexer": "ipython3",
   "version": "3.12.8"
  }
 },
 "nbformat": 4,
 "nbformat_minor": 5
}
